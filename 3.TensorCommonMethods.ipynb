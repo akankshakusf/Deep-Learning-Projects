{
  "nbformat": 4,
  "nbformat_minor": 0,
  "metadata": {
    "colab": {
      "provenance": [],
      "authorship_tag": "ABX9TyMjKsUaAf22GSQZSQm/aK7N",
      "include_colab_link": true
    },
    "kernelspec": {
      "name": "python3",
      "display_name": "Python 3"
    },
    "language_info": {
      "name": "python"
    }
  },
  "cells": [
    {
      "cell_type": "markdown",
      "metadata": {
        "id": "view-in-github",
        "colab_type": "text"
      },
      "source": [
        "<a href=\"https://colab.research.google.com/github/akankshakusf/Deep-Learning-Projects/blob/master/3.TensorCommonMethods.ipynb\" target=\"_parent\"><img src=\"https://colab.research.google.com/assets/colab-badge.svg\" alt=\"Open In Colab\"/></a>"
      ]
    },
    {
      "cell_type": "code",
      "source": [
        "import tensorflow as tf"
      ],
      "metadata": {
        "id": "Oh7oO6gl8ath"
      },
      "execution_count": 23,
      "outputs": []
    },
    {
      "cell_type": "markdown",
      "source": [
        "# 1.tf.expand_dims\n",
        "* Returns a tensor with a length 1 axis inserted at index axis."
      ],
      "metadata": {
        "id": "6Tdi4ZqI06oT"
      }
    },
    {
      "cell_type": "markdown",
      "source": [
        "#### 1D tensors"
      ],
      "metadata": {
        "id": "sobaXuA34pYn"
      }
    },
    {
      "cell_type": "code",
      "execution_count": 4,
      "metadata": {
        "id": "xP1NIUmJ0ytC",
        "colab": {
          "base_uri": "https://localhost:8080/"
        },
        "outputId": "2c41a3e1-07f1-43d1-f35e-e4ebf517dee7"
      },
      "outputs": [
        {
          "output_type": "stream",
          "name": "stdout",
          "text": [
            "(6,)\n"
          ]
        }
      ],
      "source": [
        "# https://www.tensorflow.org/api_docs/python/tf/expand_dims\n",
        "input=tf.constant([1,3,4,5,6,7])\n",
        "print(input.shape)"
      ]
    },
    {
      "cell_type": "code",
      "source": [
        "tf.expand_dims(input,axis =0)"
      ],
      "metadata": {
        "colab": {
          "base_uri": "https://localhost:8080/"
        },
        "id": "P3b6O9sw4FNN",
        "outputId": "76bbd966-d882-488a-cd1d-55ca285ae925"
      },
      "execution_count": 5,
      "outputs": [
        {
          "output_type": "execute_result",
          "data": {
            "text/plain": [
              "<tf.Tensor: shape=(1, 6), dtype=int32, numpy=array([[1, 3, 4, 5, 6, 7]], dtype=int32)>"
            ]
          },
          "metadata": {},
          "execution_count": 5
        }
      ]
    },
    {
      "cell_type": "code",
      "source": [
        "tf.expand_dims(input,axis =1)"
      ],
      "metadata": {
        "colab": {
          "base_uri": "https://localhost:8080/"
        },
        "id": "fUucYHf-4KPu",
        "outputId": "cfd4ce84-c2e4-4eed-b6f1-5e045000c465"
      },
      "execution_count": 6,
      "outputs": [
        {
          "output_type": "execute_result",
          "data": {
            "text/plain": [
              "<tf.Tensor: shape=(6, 1), dtype=int32, numpy=\n",
              "array([[1],\n",
              "       [3],\n",
              "       [4],\n",
              "       [5],\n",
              "       [6],\n",
              "       [7]], dtype=int32)>"
            ]
          },
          "metadata": {},
          "execution_count": 6
        }
      ]
    },
    {
      "cell_type": "markdown",
      "source": [
        "#### 2D tensors"
      ],
      "metadata": {
        "id": "zodB9l044u5N"
      }
    },
    {
      "cell_type": "code",
      "source": [
        "tensor_two_d = tf.constant([[1,-2,0],\n",
        "                            [3,5,100],\n",
        "                            [1,5,6]], dtype = tf.float32)\n",
        "tensor_two_d.shape"
      ],
      "metadata": {
        "colab": {
          "base_uri": "https://localhost:8080/"
        },
        "id": "WjigCyUO4wbw",
        "outputId": "135ed4c5-21a4-4e35-ccab-9c2aadc6679c"
      },
      "execution_count": 8,
      "outputs": [
        {
          "output_type": "execute_result",
          "data": {
            "text/plain": [
              "TensorShape([3, 3])"
            ]
          },
          "metadata": {},
          "execution_count": 8
        }
      ]
    },
    {
      "cell_type": "code",
      "source": [
        "tf.expand_dims(tensor_two_d,axis=0)"
      ],
      "metadata": {
        "colab": {
          "base_uri": "https://localhost:8080/"
        },
        "id": "qfB4gbRb45ZR",
        "outputId": "db7cc9c9-16a2-4ad1-c38b-c75c84befdb5"
      },
      "execution_count": 9,
      "outputs": [
        {
          "output_type": "execute_result",
          "data": {
            "text/plain": [
              "<tf.Tensor: shape=(1, 3, 3), dtype=float32, numpy=\n",
              "array([[[  1.,  -2.,   0.],\n",
              "        [  3.,   5., 100.],\n",
              "        [  1.,   5.,   6.]]], dtype=float32)>"
            ]
          },
          "metadata": {},
          "execution_count": 9
        }
      ]
    },
    {
      "cell_type": "markdown",
      "source": [
        "#### 3D tensors"
      ],
      "metadata": {
        "id": "JS87Yv725R4A"
      }
    },
    {
      "cell_type": "code",
      "source": [
        "tensor_three_d = tf.constant([[[1,2,0],\n",
        "                             [3,5,-1]],\n",
        "\n",
        "                            [[10,2,0],\n",
        "                             [1,0,2]],\n",
        "\n",
        "                            [[5,8,0],\n",
        "                             [2,7,0]],\n",
        "\n",
        "                            [[2,1,9],\n",
        "                             [4,-3,32]]])\n",
        "\n",
        "tf.expand_dims(tensor_three_d,axis=0).shape.as_list() #You can add an outer batch axis by passing axis=0:"
      ],
      "metadata": {
        "colab": {
          "base_uri": "https://localhost:8080/"
        },
        "id": "ylECMZdD5C_P",
        "outputId": "806d92a9-3183-4302-d623-c6a6d5d5f95e"
      },
      "execution_count": 11,
      "outputs": [
        {
          "output_type": "execute_result",
          "data": {
            "text/plain": [
              "[1, 4, 2, 3]"
            ]
          },
          "metadata": {},
          "execution_count": 11
        }
      ]
    },
    {
      "cell_type": "code",
      "source": [
        "image = tf.zeros([10,10,3])\n",
        "tf.expand_dims(image, -1).shape.as_list() # 1 is added at the end"
      ],
      "metadata": {
        "colab": {
          "base_uri": "https://localhost:8080/"
        },
        "id": "iZct5ElP5bIo",
        "outputId": "90a7d4ec-120e-434b-9927-75d55f1a2b01"
      },
      "execution_count": 12,
      "outputs": [
        {
          "output_type": "execute_result",
          "data": {
            "text/plain": [
              "[10, 10, 3, 1]"
            ]
          },
          "metadata": {},
          "execution_count": 12
        }
      ]
    },
    {
      "cell_type": "markdown",
      "source": [
        "# 2.tf.squeeze  # this is opposite of expand dimensions"
      ],
      "metadata": {
        "id": "zXLl0H7U6DSc"
      }
    },
    {
      "cell_type": "code",
      "source": [
        "# https://www.tensorflow.org/api_docs/python/tf/squeeze\n",
        "a= tf.constant([\n",
        "\n",
        "    [[2,6,5,2],\n",
        "     [2,-2,2,3],\n",
        "     [1,5,4,0]],\n",
        "\n",
        "    [[2,6,5,2],\n",
        "     [2,-2,2,3],\n",
        "     [1,5,4,0]]\n",
        "    ])\n",
        "\n",
        "print(a.shape)"
      ],
      "metadata": {
        "colab": {
          "base_uri": "https://localhost:8080/"
        },
        "id": "QVh9b9VL6LmZ",
        "outputId": "33f022b5-0685-4069-cfdb-b17760c19129"
      },
      "execution_count": 18,
      "outputs": [
        {
          "output_type": "stream",
          "name": "stdout",
          "text": [
            "(2, 3, 4)\n"
          ]
        }
      ]
    },
    {
      "cell_type": "code",
      "source": [
        "c= tf.expand_dims(a,axis=-1) # 1 dimension is added\n",
        "print(c.shape)\n",
        "print(tf.squeeze(c,axis=-1))"
      ],
      "metadata": {
        "colab": {
          "base_uri": "https://localhost:8080/"
        },
        "id": "IPuUzYUv7EGv",
        "outputId": "31a0618a-0a1c-4838-aab8-05bab7c22ff2"
      },
      "execution_count": 22,
      "outputs": [
        {
          "output_type": "stream",
          "name": "stdout",
          "text": [
            "(2, 3, 4, 1)\n",
            "tf.Tensor(\n",
            "[[[ 2  6  5  2]\n",
            "  [ 2 -2  2  3]\n",
            "  [ 1  5  4  0]]\n",
            "\n",
            " [[ 2  6  5  2]\n",
            "  [ 2 -2  2  3]\n",
            "  [ 1  5  4  0]]], shape=(2, 3, 4), dtype=int32)\n"
          ]
        }
      ]
    },
    {
      "cell_type": "markdown",
      "source": [
        "# 3.tf.reshape"
      ],
      "metadata": {
        "id": "7OFJOv688Rke"
      }
    },
    {
      "cell_type": "code",
      "source": [
        "# https://www.tensorflow.org/api_docs/python/tf/reshape\n",
        "#since i have 9 values in my tensor i have asked that to be changed to 3,3\n",
        "a=tf.constant([1,2,3,4,5,6,7,8,9])\n",
        "print(a.shape)\n",
        "print(tf.reshape(a,[3,3]))"
      ],
      "metadata": {
        "colab": {
          "base_uri": "https://localhost:8080/"
        },
        "id": "iuwPGhAb7TtH",
        "outputId": "e434fddd-24a9-4c85-ae6c-c73ae28aca10"
      },
      "execution_count": 26,
      "outputs": [
        {
          "output_type": "stream",
          "name": "stdout",
          "text": [
            "(9,)\n",
            "tf.Tensor(\n",
            "[[1 2 3]\n",
            " [4 5 6]\n",
            " [7 8 9]], shape=(3, 3), dtype=int32)\n"
          ]
        }
      ]
    },
    {
      "cell_type": "code",
      "source": [
        "# we can also make 3,3,1\n",
        "a=tf.constant([1,2,3,4,5,6,7,8,9])\n",
        "print(a.shape)\n",
        "print(tf.reshape(a,[3,3,1]))"
      ],
      "metadata": {
        "colab": {
          "base_uri": "https://localhost:8080/"
        },
        "id": "ywBsrGHq87SB",
        "outputId": "39b2afcd-4afa-478c-df8a-7aa8c067faba"
      },
      "execution_count": 27,
      "outputs": [
        {
          "output_type": "stream",
          "name": "stdout",
          "text": [
            "(9,)\n",
            "tf.Tensor(\n",
            "[[[1]\n",
            "  [2]\n",
            "  [3]]\n",
            "\n",
            " [[4]\n",
            "  [5]\n",
            "  [6]]\n",
            "\n",
            " [[7]\n",
            "  [8]\n",
            "  [9]]], shape=(3, 3, 1), dtype=int32)\n"
          ]
        }
      ]
    },
    {
      "cell_type": "code",
      "source": [
        "#lets say you are confusedand dnt know what to write\n",
        "#just write 3,-1 and tensorflow will figure out how to make the matrix\n",
        "a=tf.constant([1,2,3,4,5,6,7,8,9])\n",
        "print(a.shape)\n",
        "print(tf.reshape(a,[3,-1])) #tensorflow will figure out how to make the matrix"
      ],
      "metadata": {
        "colab": {
          "base_uri": "https://localhost:8080/"
        },
        "id": "bn0hVMzn9BCR",
        "outputId": "cf9dea1a-1b62-4676-c801-7cc26a5ffa6e"
      },
      "execution_count": 28,
      "outputs": [
        {
          "output_type": "stream",
          "name": "stdout",
          "text": [
            "(9,)\n",
            "tf.Tensor(\n",
            "[[1 2 3]\n",
            " [4 5 6]\n",
            " [7 8 9]], shape=(3, 3), dtype=int32)\n"
          ]
        }
      ]
    },
    {
      "cell_type": "code",
      "source": [
        "#if you want to reshape this outcome now to 3,3,1\n",
        "print(tf.reshape(a,[3,-1,1]))"
      ],
      "metadata": {
        "colab": {
          "base_uri": "https://localhost:8080/"
        },
        "id": "xQGkhoh09QDX",
        "outputId": "9568253c-173e-4da0-b6fe-cdf7334df7d9"
      },
      "execution_count": 29,
      "outputs": [
        {
          "output_type": "stream",
          "name": "stdout",
          "text": [
            "tf.Tensor(\n",
            "[[[1]\n",
            "  [2]\n",
            "  [3]]\n",
            "\n",
            " [[4]\n",
            "  [5]\n",
            "  [6]]\n",
            "\n",
            " [[7]\n",
            "  [8]\n",
            "  [9]]], shape=(3, 3, 1), dtype=int32)\n"
          ]
        }
      ]
    },
    {
      "cell_type": "code",
      "source": [
        "t1 = tf.constant([[1, 2, 3],\n",
        "      [4, 5, 6]])\n",
        "\n",
        "print(t1.shape)"
      ],
      "metadata": {
        "colab": {
          "base_uri": "https://localhost:8080/"
        },
        "id": "n9fTtxq19-BB",
        "outputId": "a73c71ef-69dc-46ff-bfd8-e7a72425c881"
      },
      "execution_count": 33,
      "outputs": [
        {
          "output_type": "stream",
          "name": "stdout",
          "text": [
            "(2, 3)\n"
          ]
        }
      ]
    },
    {
      "cell_type": "code",
      "source": [
        "# we reshape t1 : 2ways\n",
        "print(tf.reshape(t1,[6]) )\n",
        "print(tf.reshape(t1,[3,2]))\n"
      ],
      "metadata": {
        "colab": {
          "base_uri": "https://localhost:8080/"
        },
        "id": "bvgPMx9s_jII",
        "outputId": "2e2ccf32-6c22-41ae-8284-0aff08782a93"
      },
      "execution_count": 41,
      "outputs": [
        {
          "output_type": "stream",
          "name": "stdout",
          "text": [
            "tf.Tensor([1 2 3 4 5 6], shape=(6,), dtype=int32)\n",
            "tf.Tensor(\n",
            "[[1 2]\n",
            " [3 4]\n",
            " [5 6]], shape=(3, 2), dtype=int32)\n"
          ]
        }
      ]
    },
    {
      "cell_type": "markdown",
      "source": [
        "# 4.tf.concat\n",
        "* Concatenates tensors along one dimension."
      ],
      "metadata": {
        "id": "Rqi0HhSGAQkF"
      }
    },
    {
      "cell_type": "code",
      "source": [
        "# https://www.tensorflow.org/api_docs/python/tf/constant\n",
        "t1 = tf.constant([[1, 2, 3],\n",
        "      [4, 5, 6]])\n",
        "t2 = tf.constant([[7, 8, 9],\n",
        "      [10, 11, 12]])\n",
        "print(t1.shape,t2.shape)"
      ],
      "metadata": {
        "colab": {
          "base_uri": "https://localhost:8080/"
        },
        "id": "6jX68tQ7AWvY",
        "outputId": "aac6aabe-5b9a-4453-ea69-82cb8df8ef3a"
      },
      "execution_count": 43,
      "outputs": [
        {
          "output_type": "stream",
          "name": "stdout",
          "text": [
            "(2, 3) (2, 3)\n"
          ]
        }
      ]
    },
    {
      "cell_type": "code",
      "source": [
        "tf.concat([t1,t2],axis =0) # puts row wise"
      ],
      "metadata": {
        "colab": {
          "base_uri": "https://localhost:8080/"
        },
        "id": "CpwG704aAuWo",
        "outputId": "5a8bbe38-8e35-4694-a558-f34d0186f464"
      },
      "execution_count": 44,
      "outputs": [
        {
          "output_type": "execute_result",
          "data": {
            "text/plain": [
              "<tf.Tensor: shape=(4, 3), dtype=int32, numpy=\n",
              "array([[ 1,  2,  3],\n",
              "       [ 4,  5,  6],\n",
              "       [ 7,  8,  9],\n",
              "       [10, 11, 12]], dtype=int32)>"
            ]
          },
          "metadata": {},
          "execution_count": 44
        }
      ]
    },
    {
      "cell_type": "code",
      "source": [
        "tf.concat([t1,t2],axis =1) # puts column wise"
      ],
      "metadata": {
        "colab": {
          "base_uri": "https://localhost:8080/"
        },
        "id": "X1Xi-3ytA7Ly",
        "outputId": "6237e084-0d55-421c-fede-74c823ea1790"
      },
      "execution_count": 45,
      "outputs": [
        {
          "output_type": "execute_result",
          "data": {
            "text/plain": [
              "<tf.Tensor: shape=(2, 6), dtype=int32, numpy=\n",
              "array([[ 1,  2,  3,  7,  8,  9],\n",
              "       [ 4,  5,  6, 10, 11, 12]], dtype=int32)>"
            ]
          },
          "metadata": {},
          "execution_count": 45
        }
      ]
    },
    {
      "cell_type": "code",
      "source": [
        "t1 =tf.constant([\n",
        "      [[1, 2],\n",
        "       [2, 3]],\n",
        "\n",
        "       [[4, 4],\n",
        "        [5, 3]]\n",
        "      ])\n",
        "t2 = tf.constant([\n",
        "    [[7, 4],\n",
        "       [8, 4]],\n",
        "\n",
        "       [[2, 10],\n",
        "        [15, 11]]\n",
        "    ])\n",
        "print(t1.shape,t2.shape)"
      ],
      "metadata": {
        "colab": {
          "base_uri": "https://localhost:8080/"
        },
        "id": "BW4rEY7SBg7q",
        "outputId": "8dae2770-d066-4ffc-8415-75a12cbfc277"
      },
      "execution_count": 46,
      "outputs": [
        {
          "output_type": "stream",
          "name": "stdout",
          "text": [
            "(2, 2, 2) (2, 2, 2)\n"
          ]
        }
      ]
    },
    {
      "cell_type": "code",
      "source": [
        "print(tf.concat([t1,t2],-1))"
      ],
      "metadata": {
        "colab": {
          "base_uri": "https://localhost:8080/"
        },
        "id": "vrdZB1obBg41",
        "outputId": "4d3199ed-681a-4508-867a-1b1973a41ec9"
      },
      "execution_count": 47,
      "outputs": [
        {
          "output_type": "stream",
          "name": "stdout",
          "text": [
            "tf.Tensor(\n",
            "[[[ 1  2  7  4]\n",
            "  [ 2  3  8  4]]\n",
            "\n",
            " [[ 4  4  2 10]\n",
            "  [ 5  3 15 11]]], shape=(2, 2, 4), dtype=int32)\n"
          ]
        }
      ]
    },
    {
      "cell_type": "code",
      "source": [
        "print(tf.concat([t1,t2],0))"
      ],
      "metadata": {
        "colab": {
          "base_uri": "https://localhost:8080/"
        },
        "id": "8mY0yA4MB9yZ",
        "outputId": "5be8ae8f-51a2-4bb6-fd93-aea7448b4353"
      },
      "execution_count": 48,
      "outputs": [
        {
          "output_type": "stream",
          "name": "stdout",
          "text": [
            "tf.Tensor(\n",
            "[[[ 1  2]\n",
            "  [ 2  3]]\n",
            "\n",
            " [[ 4  4]\n",
            "  [ 5  3]]\n",
            "\n",
            " [[ 7  4]\n",
            "  [ 8  4]]\n",
            "\n",
            " [[ 2 10]\n",
            "  [15 11]]], shape=(4, 2, 2), dtype=int32)\n"
          ]
        }
      ]
    },
    {
      "cell_type": "markdown",
      "source": [
        "# 5.tf.stack\n",
        "* Stacks a list of rank-R tensors into one rank-(R+1) tensor."
      ],
      "metadata": {
        "id": "GcYBXZnBC8ue"
      }
    },
    {
      "cell_type": "code",
      "source": [
        "#https://www.tensorflow.org/api_docs/python/tf/stack\n",
        "t1 =tf.constant([\n",
        "      [[1, 2],\n",
        "       [2, 3]],\n",
        "\n",
        "       [[4, 4],\n",
        "        [5, 3]]\n",
        "      ])\n",
        "t2 = tf.constant([\n",
        "    [[7, 4],\n",
        "       [8, 4]],\n",
        "\n",
        "       [[2, 10],\n",
        "        [15, 11]]\n",
        "    ])\n",
        "\n",
        "print(t1.shape,t2.shape)"
      ],
      "metadata": {
        "colab": {
          "base_uri": "https://localhost:8080/"
        },
        "id": "XmwvUec1C_3R",
        "outputId": "cafb5fe0-6635-4311-aa46-f95c870b7917"
      },
      "execution_count": 55,
      "outputs": [
        {
          "output_type": "stream",
          "name": "stdout",
          "text": [
            "(2, 2, 2) (2, 2, 2)\n"
          ]
        }
      ]
    },
    {
      "cell_type": "code",
      "source": [
        "tf.stack([t1,t2], axis =0)"
      ],
      "metadata": {
        "colab": {
          "base_uri": "https://localhost:8080/"
        },
        "id": "MwWy-KoGDNKI",
        "outputId": "cd3d550f-4c43-4b97-a00f-b670df91739e"
      },
      "execution_count": 56,
      "outputs": [
        {
          "output_type": "execute_result",
          "data": {
            "text/plain": [
              "<tf.Tensor: shape=(2, 2, 2, 2), dtype=int32, numpy=\n",
              "array([[[[ 1,  2],\n",
              "         [ 2,  3]],\n",
              "\n",
              "        [[ 4,  4],\n",
              "         [ 5,  3]]],\n",
              "\n",
              "\n",
              "       [[[ 7,  4],\n",
              "         [ 8,  4]],\n",
              "\n",
              "        [[ 2, 10],\n",
              "         [15, 11]]]], dtype=int32)>"
            ]
          },
          "metadata": {},
          "execution_count": 56
        }
      ]
    },
    {
      "cell_type": "code",
      "source": [
        "tf.stack([t1,t2], axis =-1)"
      ],
      "metadata": {
        "colab": {
          "base_uri": "https://localhost:8080/"
        },
        "id": "XxgtWMEzDTsJ",
        "outputId": "05829b35-d0c8-401f-f830-c623705a9d68"
      },
      "execution_count": 57,
      "outputs": [
        {
          "output_type": "execute_result",
          "data": {
            "text/plain": [
              "<tf.Tensor: shape=(2, 2, 2, 2), dtype=int32, numpy=\n",
              "array([[[[ 1,  7],\n",
              "         [ 2,  4]],\n",
              "\n",
              "        [[ 2,  8],\n",
              "         [ 3,  4]]],\n",
              "\n",
              "\n",
              "       [[[ 4,  2],\n",
              "         [ 4, 10]],\n",
              "\n",
              "        [[ 5, 15],\n",
              "         [ 3, 11]]]], dtype=int32)>"
            ]
          },
          "metadata": {},
          "execution_count": 57
        }
      ]
    },
    {
      "cell_type": "markdown",
      "source": [
        "# 6.tf.pad"
      ],
      "metadata": {
        "id": "FvxEPKUKEyHX"
      }
    },
    {
      "cell_type": "code",
      "source": [
        "#https://www.tensorflow.org/api_docs/python/tf/pad\n",
        "t = tf.constant([[1, 2, 3],\n",
        "                 [4, 5, 6]])\n",
        "paddings = tf.constant([[1, 1,],\n",
        "                        [2, 2]])\n",
        "# 'constant_values' is 0.\n",
        "# rank of 't' is 2.\n",
        "print(tf.pad(t, paddings, \"CONSTANT\"))"
      ],
      "metadata": {
        "colab": {
          "base_uri": "https://localhost:8080/"
        },
        "id": "wui_z9gGE0vK",
        "outputId": "1ff4b073-1e13-4045-dadb-51029a458b69"
      },
      "execution_count": 58,
      "outputs": [
        {
          "output_type": "stream",
          "name": "stdout",
          "text": [
            "tf.Tensor(\n",
            "[[0 0 0 0 0 0 0]\n",
            " [0 0 1 2 3 0 0]\n",
            " [0 0 4 5 6 0 0]\n",
            " [0 0 0 0 0 0 0]], shape=(4, 7), dtype=int32)\n"
          ]
        }
      ]
    },
    {
      "cell_type": "code",
      "source": [
        "t = tf.constant([[1, 2, 3],\n",
        "                 [4, 5, 6]])\n",
        "paddings = tf.constant([[1, 1,],\n",
        "                        [2, 4]])\n",
        "# 'constant_values' is 0.\n",
        "# rank of 't' is 2.\n",
        "print(tf.pad(t, paddings, \"CONSTANT\"))"
      ],
      "metadata": {
        "colab": {
          "base_uri": "https://localhost:8080/"
        },
        "id": "W5DnXHMGE93C",
        "outputId": "a2e970f7-8338-425d-c978-3653b816ca48"
      },
      "execution_count": 59,
      "outputs": [
        {
          "output_type": "stream",
          "name": "stdout",
          "text": [
            "tf.Tensor(\n",
            "[[0 0 0 0 0 0 0 0 0]\n",
            " [0 0 1 2 3 0 0 0 0]\n",
            " [0 0 4 5 6 0 0 0 0]\n",
            " [0 0 0 0 0 0 0 0 0]], shape=(4, 9), dtype=int32)\n"
          ]
        }
      ]
    },
    {
      "cell_type": "code",
      "source": [
        "t = tf.constant([[1, 2, 3],\n",
        "                 [4, 5, 6]])\n",
        "paddings = tf.constant([[4, 1,],\n",
        "                        [2, 4]])\n",
        "# 'constant_values' is 0.\n",
        "# rank of 't' is 2.\n",
        "print(tf.pad(t, paddings, \"CONSTANT\"))"
      ],
      "metadata": {
        "colab": {
          "base_uri": "https://localhost:8080/"
        },
        "id": "IGzcBtaPFDcS",
        "outputId": "78404b06-240e-4f75-df05-cb4012f1a03d"
      },
      "execution_count": 60,
      "outputs": [
        {
          "output_type": "stream",
          "name": "stdout",
          "text": [
            "tf.Tensor(\n",
            "[[0 0 0 0 0 0 0 0 0]\n",
            " [0 0 0 0 0 0 0 0 0]\n",
            " [0 0 0 0 0 0 0 0 0]\n",
            " [0 0 0 0 0 0 0 0 0]\n",
            " [0 0 1 2 3 0 0 0 0]\n",
            " [0 0 4 5 6 0 0 0 0]\n",
            " [0 0 0 0 0 0 0 0 0]], shape=(7, 9), dtype=int32)\n"
          ]
        }
      ]
    },
    {
      "cell_type": "code",
      "source": [
        "t = tf.constant([[1, 2, 3],\n",
        "                 [4, 5, 6]])\n",
        "paddings = tf.constant([[1, 1,],\n",
        "                        [2, 4]])\n",
        "# 'constant_values' is 0.\n",
        "# rank of 't' is 2.\n",
        "print(tf.pad(t, paddings, \"CONSTANT\", constant_values=9))"
      ],
      "metadata": {
        "colab": {
          "base_uri": "https://localhost:8080/"
        },
        "id": "_Qk7obfLFGBK",
        "outputId": "1ea9acb3-244b-4683-d35d-efb312c6e82a"
      },
      "execution_count": 61,
      "outputs": [
        {
          "output_type": "stream",
          "name": "stdout",
          "text": [
            "tf.Tensor(\n",
            "[[9 9 9 9 9 9 9 9 9]\n",
            " [9 9 1 2 3 9 9 9 9]\n",
            " [9 9 4 5 6 9 9 9 9]\n",
            " [9 9 9 9 9 9 9 9 9]], shape=(4, 9), dtype=int32)\n"
          ]
        }
      ]
    },
    {
      "cell_type": "markdown",
      "source": [
        "# 7.tf.gather"
      ],
      "metadata": {
        "id": "MX_7tQnEFiya"
      }
    },
    {
      "cell_type": "code",
      "source": [
        "# https://www.tensorflow.org/api_docs/python/tf/gather\n",
        "a=tf.constant([4,5,6,7])\n",
        "print(a[1:3])"
      ],
      "metadata": {
        "colab": {
          "base_uri": "https://localhost:8080/"
        },
        "id": "3pGeW93HFtPH",
        "outputId": "41694b29-911f-4041-d0cb-b0af078f321a"
      },
      "execution_count": 62,
      "outputs": [
        {
          "output_type": "stream",
          "name": "stdout",
          "text": [
            "tf.Tensor([5 6], shape=(2,), dtype=int32)\n"
          ]
        }
      ]
    },
    {
      "cell_type": "code",
      "source": [
        "tf.gather(a,[0,3,1], axis=0)"
      ],
      "metadata": {
        "colab": {
          "base_uri": "https://localhost:8080/"
        },
        "id": "DTs659LZFtL6",
        "outputId": "51953898-a9c8-4780-f061-c44dc8bc9ceb"
      },
      "execution_count": 63,
      "outputs": [
        {
          "output_type": "execute_result",
          "data": {
            "text/plain": [
              "<tf.Tensor: shape=(3,), dtype=int32, numpy=array([4, 7, 5], dtype=int32)>"
            ]
          },
          "metadata": {},
          "execution_count": 63
        }
      ]
    },
    {
      "cell_type": "code",
      "source": [
        "b=tf.constant([\n",
        "    [2,9,0,3,0],\n",
        "    [3,6,8,-2,2],\n",
        "    [1,3,5,0,1],\n",
        "    [3,0,2,0,5],\n",
        "])"
      ],
      "metadata": {
        "id": "ofbPkilsFtJB"
      },
      "execution_count": 64,
      "outputs": []
    },
    {
      "cell_type": "code",
      "source": [
        "tf.gather(b,[3,0], axis=0) # row wise"
      ],
      "metadata": {
        "colab": {
          "base_uri": "https://localhost:8080/"
        },
        "id": "2dddgEhTJkKt",
        "outputId": "e8c9eea6-4e94-41bf-cd88-0c8f7b68961e"
      },
      "execution_count": 66,
      "outputs": [
        {
          "output_type": "execute_result",
          "data": {
            "text/plain": [
              "<tf.Tensor: shape=(2, 5), dtype=int32, numpy=\n",
              "array([[3, 0, 2, 0, 5],\n",
              "       [2, 9, 0, 3, 0]], dtype=int32)>"
            ]
          },
          "metadata": {},
          "execution_count": 66
        }
      ]
    },
    {
      "cell_type": "code",
      "source": [
        "tf.gather(b,[1,3], axis=1) # column wise"
      ],
      "metadata": {
        "colab": {
          "base_uri": "https://localhost:8080/"
        },
        "id": "eTNIcYrmJ0nt",
        "outputId": "d3a4e6ff-8528-494b-e2a5-9088a052a1a6"
      },
      "execution_count": 69,
      "outputs": [
        {
          "output_type": "execute_result",
          "data": {
            "text/plain": [
              "<tf.Tensor: shape=(4, 2), dtype=int32, numpy=\n",
              "array([[ 9,  3],\n",
              "       [ 6, -2],\n",
              "       [ 3,  0],\n",
              "       [ 0,  0]], dtype=int32)>"
            ]
          },
          "metadata": {},
          "execution_count": 69
        }
      ]
    },
    {
      "cell_type": "code",
      "source": [
        "tf.gather(b,[1,3], axis=0)"
      ],
      "metadata": {
        "colab": {
          "base_uri": "https://localhost:8080/"
        },
        "id": "pNsaC80lKlwq",
        "outputId": "1f9dbd4a-63be-4fce-8483-35d1b4e46d0d"
      },
      "execution_count": 70,
      "outputs": [
        {
          "output_type": "execute_result",
          "data": {
            "text/plain": [
              "<tf.Tensor: shape=(2, 5), dtype=int32, numpy=\n",
              "array([[ 3,  6,  8, -2,  2],\n",
              "       [ 3,  0,  2,  0,  5]], dtype=int32)>"
            ]
          },
          "metadata": {},
          "execution_count": 70
        }
      ]
    },
    {
      "cell_type": "code",
      "source": [
        "tf.gather(b,[[1,3],\n",
        "          [2,0]], axis=0)"
      ],
      "metadata": {
        "colab": {
          "base_uri": "https://localhost:8080/"
        },
        "id": "L97-eKqcKEbc",
        "outputId": "4e063065-2672-4622-dbe3-173e77b3e7bf"
      },
      "execution_count": 72,
      "outputs": [
        {
          "output_type": "execute_result",
          "data": {
            "text/plain": [
              "<tf.Tensor: shape=(2, 2, 5), dtype=int32, numpy=\n",
              "array([[[ 3,  6,  8, -2,  2],\n",
              "        [ 3,  0,  2,  0,  5]],\n",
              "\n",
              "       [[ 1,  3,  5,  0,  1],\n",
              "        [ 2,  9,  0,  3,  0]]], dtype=int32)>"
            ]
          },
          "metadata": {},
          "execution_count": 72
        }
      ]
    },
    {
      "cell_type": "markdown",
      "source": [
        "# 8.tf.gather_nd\n",
        "* tf.gather_nd: An operation similar to tf.gather but gathers across multiple axis at once (it can gather elements of a matrix instead of rows or columns)\n"
      ],
      "metadata": {
        "id": "DADCFWLjLGIc"
      }
    },
    {
      "cell_type": "code",
      "source": [
        "b=tf.constant([\n",
        "    [2,9,0,3,0],\n",
        "    [3,6,8,-2,2],\n",
        "    [1,3,5,0,1],\n",
        "    [3,0,2,0,5],\n",
        "])"
      ],
      "metadata": {
        "id": "LJF-oLWOMlFj"
      },
      "execution_count": 74,
      "outputs": []
    },
    {
      "cell_type": "code",
      "source": [
        "#https://www.tensorflow.org/api_docs/python/tf/gather_nd\n",
        "tf.gather_nd(b,[[1,3],\n",
        "          [2,0]])"
      ],
      "metadata": {
        "colab": {
          "base_uri": "https://localhost:8080/"
        },
        "id": "kRdQexgpLHwF",
        "outputId": "3b244179-4bc1-4b18-a985-1ce2e6e90ec5"
      },
      "execution_count": 75,
      "outputs": [
        {
          "output_type": "execute_result",
          "data": {
            "text/plain": [
              "<tf.Tensor: shape=(2,), dtype=int32, numpy=array([-2,  1], dtype=int32)>"
            ]
          },
          "metadata": {},
          "execution_count": 75
        }
      ]
    },
    {
      "cell_type": "code",
      "source": [
        "tf.gather_nd(b,[[1],\n",
        "          [3]])"
      ],
      "metadata": {
        "colab": {
          "base_uri": "https://localhost:8080/"
        },
        "id": "2div-0SiMxVL",
        "outputId": "cd4dbd26-ca1d-4a19-89e9-20217794d247"
      },
      "execution_count": 77,
      "outputs": [
        {
          "output_type": "execute_result",
          "data": {
            "text/plain": [
              "<tf.Tensor: shape=(2, 5), dtype=int32, numpy=\n",
              "array([[ 3,  6,  8, -2,  2],\n",
              "       [ 3,  0,  2,  0,  5]], dtype=int32)>"
            ]
          },
          "metadata": {},
          "execution_count": 77
        }
      ]
    },
    {
      "cell_type": "markdown",
      "source": [
        "# 9.tf.ragged"
      ],
      "metadata": {
        "id": "QY-XUWZ9M9sO"
      }
    },
    {
      "cell_type": "code",
      "source": [
        "#https://www.tensorflow.org/api_docs/python/tf/ragged\n",
        "a=tf.ragged.constant([\n",
        "    [1,3,],\n",
        "    [4,5,6],\n",
        "    [7,]\n",
        "])\n",
        "print(a)"
      ],
      "metadata": {
        "colab": {
          "base_uri": "https://localhost:8080/"
        },
        "id": "dJdGMf_ZM5oT",
        "outputId": "68611059-1972-4638-d5f8-5fa55c039adb"
      },
      "execution_count": 80,
      "outputs": [
        {
          "output_type": "stream",
          "name": "stdout",
          "text": [
            "<tf.RaggedTensor [[1, 3], [4, 5, 6], [7]]>\n"
          ]
        }
      ]
    },
    {
      "cell_type": "markdown",
      "source": [
        "# 10.tf.ragged.boolean_mask"
      ],
      "metadata": {
        "id": "Is4wEjVkO2C3"
      }
    },
    {
      "cell_type": "code",
      "source": [
        "##https://www.tensorflow.org/api_docs/python/tf/ragged\n",
        "# Aliases for True & False so data and mask line up.\n",
        "T, F = (True, False)\n",
        "tf.ragged.boolean_mask(  # Mask a 2D RaggedTensor.\n",
        "    tf.ragged.constant([[1, 2, 3], [4], [5, 6]]),\n",
        "    tf.ragged.constant([[F, F, T], [F], [T, T]])).to_list() #its takes out elements that are false"
      ],
      "metadata": {
        "colab": {
          "base_uri": "https://localhost:8080/"
        },
        "id": "SYqy2Vo8NXVO",
        "outputId": "ce766272-0ce6-4e7c-e387-e613e8c78d93"
      },
      "execution_count": 81,
      "outputs": [
        {
          "output_type": "execute_result",
          "data": {
            "text/plain": [
              "[[3], [], [5, 6]]"
            ]
          },
          "metadata": {},
          "execution_count": 81
        }
      ]
    },
    {
      "cell_type": "markdown",
      "source": [
        "# 11. tf.RaggedTensor.from_row_limits"
      ],
      "metadata": {
        "id": "Ll68e0D9Ps4f"
      }
    },
    {
      "cell_type": "code",
      "source": [
        "##https://www.tensorflow.org/api_docs/python/tf/ragged\n",
        "#this is just for explaination of below\n",
        "list = [3, 1, 4, 1, 5, 9, 2, 6]\n",
        "         0   1   2   3   4   5   6"
      ],
      "metadata": {
        "id": "bThd20WkQ4sn"
      },
      "execution_count": null,
      "outputs": []
    },
    {
      "cell_type": "code",
      "source": [
        "values = [3, 1, 4, 1, 5, 9, 2, 6]\n",
        "print(tf.RaggedTensor.from_row_splits(values, row_splits=[0, 4, 4, 7, 8, 8]))\n",
        "\n",
        "print(tf.RaggedTensor.from_row_lengths(values, row_lengths=[4, 0, 3, 1, 0]))\n",
        "\n",
        "print(tf.RaggedTensor.from_value_rowids(\n",
        "    values, value_rowids=[0, 0, 0, 0, 2, 2, 2, 3], nrows=5))\n",
        "\n",
        "print(tf.RaggedTensor.from_row_starts(values, row_starts=[0, 4, 4, 7, 8]))\n",
        "\n",
        "print(tf.RaggedTensor.from_row_limits(values, row_limits=[4, 4, 7, 8, 8]))\n",
        "\n",
        "print(tf.RaggedTensor.from_uniform_row_length(values, uniform_row_length=2))"
      ],
      "metadata": {
        "colab": {
          "base_uri": "https://localhost:8080/"
        },
        "id": "Po1uhr5xPuqn",
        "outputId": "1ae9add6-befb-424e-b43e-588b27bf35d9"
      },
      "execution_count": 83,
      "outputs": [
        {
          "output_type": "stream",
          "name": "stdout",
          "text": [
            "<tf.RaggedTensor [[3, 1, 4, 1], [], [5, 9, 2], [6], []]>\n",
            "<tf.RaggedTensor [[3, 1, 4, 1], [], [5, 9, 2], [6], []]>\n",
            "<tf.RaggedTensor [[3, 1, 4, 1], [], [5, 9, 2], [6], []]>\n",
            "<tf.RaggedTensor [[3, 1, 4, 1], [], [5, 9, 2], [6], []]>\n",
            "<tf.RaggedTensor [[3, 1, 4, 1], [], [5, 9, 2], [6], []]>\n",
            "<tf.RaggedTensor [[3, 1],\n",
            " [4, 1],\n",
            " [5, 9],\n",
            " [2, 6]]>\n"
          ]
        }
      ]
    },
    {
      "cell_type": "markdown",
      "source": [
        "# 12.tf.sparse.SparseTensor"
      ],
      "metadata": {
        "id": "o2uQteusS5H1"
      }
    },
    {
      "cell_type": "code",
      "source": [
        "#https://www.tensorflow.org/guide/sparse_tensor\n",
        "sparse_tensor = tf.sparse.SparseTensor(\n",
        "                     indices=[[0, 0],\n",
        "                              [2,5]],\n",
        "                      values=[5, 9],\n",
        "                 dense_shape=[5,6])"
      ],
      "metadata": {
        "id": "t1lPsdcMSztT"
      },
      "execution_count": 100,
      "outputs": []
    },
    {
      "cell_type": "code",
      "source": [
        "sparse_tensor"
      ],
      "metadata": {
        "id": "z3heKKV9S4Nw",
        "outputId": "f03f9e4c-a613-4b5d-b5b1-0746a9cbf9a4",
        "colab": {
          "base_uri": "https://localhost:8080/"
        }
      },
      "execution_count": 101,
      "outputs": [
        {
          "output_type": "execute_result",
          "data": {
            "text/plain": [
              "SparseTensor(indices=tf.Tensor(\n",
              "[[0 0]\n",
              " [2 5]], shape=(2, 2), dtype=int64), values=tf.Tensor([5 9], shape=(2,), dtype=int32), dense_shape=tf.Tensor([5 6], shape=(2,), dtype=int64))"
            ]
          },
          "metadata": {},
          "execution_count": 101
        }
      ]
    },
    {
      "cell_type": "code",
      "source": [
        "tf.sparse.to_dense(sparse_tensor)"
      ],
      "metadata": {
        "id": "m_MR5sQfTM-i",
        "outputId": "424c9c0e-c0a3-4581-8a2f-d7435df0e615",
        "colab": {
          "base_uri": "https://localhost:8080/"
        }
      },
      "execution_count": 102,
      "outputs": [
        {
          "output_type": "execute_result",
          "data": {
            "text/plain": [
              "<tf.Tensor: shape=(5, 6), dtype=int32, numpy=\n",
              "array([[5, 0, 0, 0, 0, 0],\n",
              "       [0, 0, 0, 0, 0, 0],\n",
              "       [0, 0, 0, 0, 0, 9],\n",
              "       [0, 0, 0, 0, 0, 0],\n",
              "       [0, 0, 0, 0, 0, 0]], dtype=int32)>"
            ]
          },
          "metadata": {},
          "execution_count": 102
        }
      ]
    },
    {
      "cell_type": "code",
      "source": [],
      "metadata": {
        "id": "U1W9uDKaTwdR"
      },
      "execution_count": null,
      "outputs": []
    },
    {
      "cell_type": "markdown",
      "source": [
        "# 13.tf.strings.split"
      ],
      "metadata": {
        "id": "2zjNC-x1UmRl"
      }
    },
    {
      "cell_type": "code",
      "source": [
        "#https://www.tensorflow.org/api_docs/python/tf/strings/split\n",
        "tensor_string=tf.constant([\"i am\",\"a\",\"string\"])\n",
        "tensor_string"
      ],
      "metadata": {
        "id": "1PHsOTk3Unpw",
        "outputId": "ab31e01e-b043-4394-d9af-60a456f81101",
        "colab": {
          "base_uri": "https://localhost:8080/"
        }
      },
      "execution_count": 106,
      "outputs": [
        {
          "output_type": "execute_result",
          "data": {
            "text/plain": [
              "<tf.Tensor: shape=(3,), dtype=string, numpy=array([b'i am', b'a', b'string'], dtype=object)>"
            ]
          },
          "metadata": {},
          "execution_count": 106
        }
      ]
    },
    {
      "cell_type": "markdown",
      "source": [
        "# 14.tf.strings.join"
      ],
      "metadata": {
        "id": "yYoFjxPLVF67"
      }
    },
    {
      "cell_type": "code",
      "source": [
        "# https://www.tensorflow.org/api_docs/python/tf/strings/join\n",
        "tf.strings.join(tensor_string,separator=\"+\")"
      ],
      "metadata": {
        "id": "_IDEmnRAUyvX",
        "outputId": "2b6eaa2d-9611-4972-c8fa-fbd6e1593d67",
        "colab": {
          "base_uri": "https://localhost:8080/"
        }
      },
      "execution_count": 107,
      "outputs": [
        {
          "output_type": "execute_result",
          "data": {
            "text/plain": [
              "<tf.Tensor: shape=(), dtype=string, numpy=b'i am+a+string'>"
            ]
          },
          "metadata": {},
          "execution_count": 107
        }
      ]
    },
    {
      "cell_type": "code",
      "source": [
        "tensor_string_1=tf.constant([\"i am\",\"a\",\"string\"])\n",
        "tensor_string_2=tf.constant([\"i am\",\"not a\",\"string\"])"
      ],
      "metadata": {
        "id": "951v6no_VZEn"
      },
      "execution_count": 111,
      "outputs": []
    },
    {
      "cell_type": "code",
      "source": [
        "tf.strings.join([tensor_string_1,tensor_string_2],separator=\"+\")"
      ],
      "metadata": {
        "id": "syoWMelfVgSf",
        "outputId": "fa3c8121-b32d-4dfd-9f33-e622e756f26a",
        "colab": {
          "base_uri": "https://localhost:8080/"
        }
      },
      "execution_count": 112,
      "outputs": [
        {
          "output_type": "execute_result",
          "data": {
            "text/plain": [
              "<tf.Tensor: shape=(3,), dtype=string, numpy=array([b'i am+i am', b'a+not a', b'string+string'], dtype=object)>"
            ]
          },
          "metadata": {},
          "execution_count": 112
        }
      ]
    },
    {
      "cell_type": "markdown",
      "source": [
        "# 15. Tensor variable"
      ],
      "metadata": {
        "id": "0g4HOQ4UY3Vn"
      }
    },
    {
      "cell_type": "code",
      "source": [
        "x= tf.constant([1,2,3,4,5])\n",
        "x_var= tf.Variable(x)"
      ],
      "metadata": {
        "id": "oR6egw2EV7ZJ"
      },
      "execution_count": 113,
      "outputs": []
    },
    {
      "cell_type": "code",
      "source": [
        "print(x)\n",
        "print(x_var)"
      ],
      "metadata": {
        "id": "tg7T5SPuZWCe",
        "outputId": "f8296c85-7fcd-480c-ce02-26ffa9ec457c",
        "colab": {
          "base_uri": "https://localhost:8080/"
        }
      },
      "execution_count": 115,
      "outputs": [
        {
          "output_type": "stream",
          "name": "stdout",
          "text": [
            "tf.Tensor([1 2 3 4 5], shape=(5,), dtype=int32)\n",
            "<tf.Variable 'Variable:0' shape=(5,) dtype=int32, numpy=array([1, 2, 3, 4, 5], dtype=int32)>\n"
          ]
        }
      ]
    },
    {
      "cell_type": "code",
      "source": [
        "x_var.assign_add([5,5,5,5,5])"
      ],
      "metadata": {
        "id": "lutS-4K8ZXxl",
        "outputId": "b36356f2-812b-4388-91bc-b007c0b51a09",
        "colab": {
          "base_uri": "https://localhost:8080/"
        }
      },
      "execution_count": 118,
      "outputs": [
        {
          "output_type": "execute_result",
          "data": {
            "text/plain": [
              "<tf.Variable 'UnreadVariable' shape=(5,) dtype=int32, numpy=array([ 6,  7,  8,  9, 10], dtype=int32)>"
            ]
          },
          "metadata": {},
          "execution_count": 118
        }
      ]
    },
    {
      "cell_type": "code",
      "source": [
        "x_var.assign_sub([5,5,5,5,5])"
      ],
      "metadata": {
        "id": "oUnmQlDnZlDN",
        "outputId": "16f55989-9b74-4fd7-b1a4-0c1548f9a6fb",
        "colab": {
          "base_uri": "https://localhost:8080/"
        }
      },
      "execution_count": 120,
      "outputs": [
        {
          "output_type": "execute_result",
          "data": {
            "text/plain": [
              "<tf.Variable 'UnreadVariable' shape=(5,) dtype=int32, numpy=array([-4, -3, -2, -1,  0], dtype=int32)>"
            ]
          },
          "metadata": {},
          "execution_count": 120
        }
      ]
    },
    {
      "cell_type": "code",
      "source": [
        "x_var.assign([5,5,5,5,5])"
      ],
      "metadata": {
        "id": "MnFYPlt4Z1GB",
        "outputId": "f2c329fd-ce5b-4f95-8ec5-b6d811d8d762",
        "colab": {
          "base_uri": "https://localhost:8080/"
        }
      },
      "execution_count": 121,
      "outputs": [
        {
          "output_type": "execute_result",
          "data": {
            "text/plain": [
              "<tf.Variable 'UnreadVariable' shape=(5,) dtype=int32, numpy=array([5, 5, 5, 5, 5], dtype=int32)>"
            ]
          },
          "metadata": {},
          "execution_count": 121
        }
      ]
    },
    {
      "cell_type": "code",
      "source": [],
      "metadata": {
        "id": "EKHf2wOsZ4Tc"
      },
      "execution_count": null,
      "outputs": []
    }
  ]
}