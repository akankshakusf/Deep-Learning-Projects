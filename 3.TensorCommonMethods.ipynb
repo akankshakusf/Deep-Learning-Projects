{
  "nbformat": 4,
  "nbformat_minor": 0,
  "metadata": {
    "colab": {
      "provenance": [],
      "authorship_tag": "ABX9TyN2FvlG83w7YD4cH/qeWVVT",
      "include_colab_link": true
    },
    "kernelspec": {
      "name": "python3",
      "display_name": "Python 3"
    },
    "language_info": {
      "name": "python"
    }
  },
  "cells": [
    {
      "cell_type": "markdown",
      "metadata": {
        "id": "view-in-github",
        "colab_type": "text"
      },
      "source": [
        "<a href=\"https://colab.research.google.com/github/akankshakusf/Deep-Learning-Projects/blob/master/3.TensorCommonMethods.ipynb\" target=\"_parent\"><img src=\"https://colab.research.google.com/assets/colab-badge.svg\" alt=\"Open In Colab\"/></a>"
      ]
    },
    {
      "cell_type": "code",
      "source": [
        "import tensorflow as tf"
      ],
      "metadata": {
        "id": "Oh7oO6gl8ath"
      },
      "execution_count": 23,
      "outputs": []
    },
    {
      "cell_type": "markdown",
      "source": [
        "# 1.tf.expand_dims\n",
        "* Returns a tensor with a length 1 axis inserted at index axis."
      ],
      "metadata": {
        "id": "6Tdi4ZqI06oT"
      }
    },
    {
      "cell_type": "markdown",
      "source": [
        "#### 1D tensors"
      ],
      "metadata": {
        "id": "sobaXuA34pYn"
      }
    },
    {
      "cell_type": "code",
      "execution_count": 4,
      "metadata": {
        "id": "xP1NIUmJ0ytC",
        "colab": {
          "base_uri": "https://localhost:8080/"
        },
        "outputId": "2c41a3e1-07f1-43d1-f35e-e4ebf517dee7"
      },
      "outputs": [
        {
          "output_type": "stream",
          "name": "stdout",
          "text": [
            "(6,)\n"
          ]
        }
      ],
      "source": [
        "input=tf.constant([1,3,4,5,6,7])\n",
        "print(input.shape)"
      ]
    },
    {
      "cell_type": "code",
      "source": [
        "tf.expand_dims(input,axis =0)"
      ],
      "metadata": {
        "id": "P3b6O9sw4FNN",
        "outputId": "76bbd966-d882-488a-cd1d-55ca285ae925",
        "colab": {
          "base_uri": "https://localhost:8080/"
        }
      },
      "execution_count": 5,
      "outputs": [
        {
          "output_type": "execute_result",
          "data": {
            "text/plain": [
              "<tf.Tensor: shape=(1, 6), dtype=int32, numpy=array([[1, 3, 4, 5, 6, 7]], dtype=int32)>"
            ]
          },
          "metadata": {},
          "execution_count": 5
        }
      ]
    },
    {
      "cell_type": "code",
      "source": [
        "tf.expand_dims(input,axis =1)"
      ],
      "metadata": {
        "id": "fUucYHf-4KPu",
        "outputId": "cfd4ce84-c2e4-4eed-b6f1-5e045000c465",
        "colab": {
          "base_uri": "https://localhost:8080/"
        }
      },
      "execution_count": 6,
      "outputs": [
        {
          "output_type": "execute_result",
          "data": {
            "text/plain": [
              "<tf.Tensor: shape=(6, 1), dtype=int32, numpy=\n",
              "array([[1],\n",
              "       [3],\n",
              "       [4],\n",
              "       [5],\n",
              "       [6],\n",
              "       [7]], dtype=int32)>"
            ]
          },
          "metadata": {},
          "execution_count": 6
        }
      ]
    },
    {
      "cell_type": "code",
      "source": [],
      "metadata": {
        "id": "Me46CxKD4Qav"
      },
      "execution_count": null,
      "outputs": []
    },
    {
      "cell_type": "markdown",
      "source": [
        "#### 2D tensors"
      ],
      "metadata": {
        "id": "zodB9l044u5N"
      }
    },
    {
      "cell_type": "code",
      "source": [
        "tensor_two_d = tf.constant([[1,-2,0],\n",
        "                            [3,5,100],\n",
        "                            [1,5,6]], dtype = tf.float32)\n",
        "tensor_two_d.shape"
      ],
      "metadata": {
        "id": "WjigCyUO4wbw",
        "outputId": "135ed4c5-21a4-4e35-ccab-9c2aadc6679c",
        "colab": {
          "base_uri": "https://localhost:8080/"
        }
      },
      "execution_count": 8,
      "outputs": [
        {
          "output_type": "execute_result",
          "data": {
            "text/plain": [
              "TensorShape([3, 3])"
            ]
          },
          "metadata": {},
          "execution_count": 8
        }
      ]
    },
    {
      "cell_type": "code",
      "source": [
        "tf.expand_dims(tensor_two_d,axis=0)"
      ],
      "metadata": {
        "id": "qfB4gbRb45ZR",
        "outputId": "db7cc9c9-16a2-4ad1-c38b-c75c84befdb5",
        "colab": {
          "base_uri": "https://localhost:8080/"
        }
      },
      "execution_count": 9,
      "outputs": [
        {
          "output_type": "execute_result",
          "data": {
            "text/plain": [
              "<tf.Tensor: shape=(1, 3, 3), dtype=float32, numpy=\n",
              "array([[[  1.,  -2.,   0.],\n",
              "        [  3.,   5., 100.],\n",
              "        [  1.,   5.,   6.]]], dtype=float32)>"
            ]
          },
          "metadata": {},
          "execution_count": 9
        }
      ]
    },
    {
      "cell_type": "markdown",
      "source": [
        "#### 3D tensors"
      ],
      "metadata": {
        "id": "JS87Yv725R4A"
      }
    },
    {
      "cell_type": "code",
      "source": [
        "tensor_three_d = tf.constant([[[1,2,0],\n",
        "                             [3,5,-1]],\n",
        "\n",
        "                            [[10,2,0],\n",
        "                             [1,0,2]],\n",
        "\n",
        "                            [[5,8,0],\n",
        "                             [2,7,0]],\n",
        "\n",
        "                            [[2,1,9],\n",
        "                             [4,-3,32]]])\n",
        "\n",
        "tf.expand_dims(tensor_three_d,axis=0).shape.as_list() #You can add an outer batch axis by passing axis=0:"
      ],
      "metadata": {
        "id": "ylECMZdD5C_P",
        "outputId": "806d92a9-3183-4302-d623-c6a6d5d5f95e",
        "colab": {
          "base_uri": "https://localhost:8080/"
        }
      },
      "execution_count": 11,
      "outputs": [
        {
          "output_type": "execute_result",
          "data": {
            "text/plain": [
              "[1, 4, 2, 3]"
            ]
          },
          "metadata": {},
          "execution_count": 11
        }
      ]
    },
    {
      "cell_type": "code",
      "source": [
        "image = tf.zeros([10,10,3])\n",
        "tf.expand_dims(image, -1).shape.as_list() # 1 is added at the end"
      ],
      "metadata": {
        "id": "iZct5ElP5bIo",
        "outputId": "90a7d4ec-120e-434b-9927-75d55f1a2b01",
        "colab": {
          "base_uri": "https://localhost:8080/"
        }
      },
      "execution_count": 12,
      "outputs": [
        {
          "output_type": "execute_result",
          "data": {
            "text/plain": [
              "[10, 10, 3, 1]"
            ]
          },
          "metadata": {},
          "execution_count": 12
        }
      ]
    },
    {
      "cell_type": "code",
      "source": [],
      "metadata": {
        "id": "9WUe4kou57EZ"
      },
      "execution_count": null,
      "outputs": []
    },
    {
      "cell_type": "markdown",
      "source": [
        "# 2.tf.squeeze  # this is opposite of expand dimensions"
      ],
      "metadata": {
        "id": "zXLl0H7U6DSc"
      }
    },
    {
      "cell_type": "code",
      "source": [
        "a= tf.constant([\n",
        "\n",
        "    [[2,6,5,2],\n",
        "     [2,-2,2,3],\n",
        "     [1,5,4,0]],\n",
        "\n",
        "    [[2,6,5,2],\n",
        "     [2,-2,2,3],\n",
        "     [1,5,4,0]]\n",
        "    ])\n",
        "\n",
        "print(a.shape)"
      ],
      "metadata": {
        "id": "QVh9b9VL6LmZ",
        "outputId": "33f022b5-0685-4069-cfdb-b17760c19129",
        "colab": {
          "base_uri": "https://localhost:8080/"
        }
      },
      "execution_count": 18,
      "outputs": [
        {
          "output_type": "stream",
          "name": "stdout",
          "text": [
            "(2, 3, 4)\n"
          ]
        }
      ]
    },
    {
      "cell_type": "code",
      "source": [
        "c= tf.expand_dims(a,axis=-1) # 1 dimension is added\n",
        "print(c.shape)\n",
        "print(tf.squeeze(c,axis=-1))"
      ],
      "metadata": {
        "id": "IPuUzYUv7EGv",
        "outputId": "31a0618a-0a1c-4838-aab8-05bab7c22ff2",
        "colab": {
          "base_uri": "https://localhost:8080/"
        }
      },
      "execution_count": 22,
      "outputs": [
        {
          "output_type": "stream",
          "name": "stdout",
          "text": [
            "(2, 3, 4, 1)\n",
            "tf.Tensor(\n",
            "[[[ 2  6  5  2]\n",
            "  [ 2 -2  2  3]\n",
            "  [ 1  5  4  0]]\n",
            "\n",
            " [[ 2  6  5  2]\n",
            "  [ 2 -2  2  3]\n",
            "  [ 1  5  4  0]]], shape=(2, 3, 4), dtype=int32)\n"
          ]
        }
      ]
    },
    {
      "cell_type": "markdown",
      "source": [
        "# 3.tf.reshape"
      ],
      "metadata": {
        "id": "7OFJOv688Rke"
      }
    },
    {
      "cell_type": "code",
      "source": [
        "#since i have 9 values in my tensor i have asked that to be changed to 3,3\n",
        "a=tf.constant([1,2,3,4,5,6,7,8,9])\n",
        "print(a.shape)\n",
        "print(tf.reshape(a,[3,3]))"
      ],
      "metadata": {
        "id": "iuwPGhAb7TtH",
        "outputId": "e434fddd-24a9-4c85-ae6c-c73ae28aca10",
        "colab": {
          "base_uri": "https://localhost:8080/"
        }
      },
      "execution_count": 26,
      "outputs": [
        {
          "output_type": "stream",
          "name": "stdout",
          "text": [
            "(9,)\n",
            "tf.Tensor(\n",
            "[[1 2 3]\n",
            " [4 5 6]\n",
            " [7 8 9]], shape=(3, 3), dtype=int32)\n"
          ]
        }
      ]
    },
    {
      "cell_type": "code",
      "source": [
        "# we can also make 3,3,1\n",
        "a=tf.constant([1,2,3,4,5,6,7,8,9])\n",
        "print(a.shape)\n",
        "print(tf.reshape(a,[3,3,1]))"
      ],
      "metadata": {
        "id": "ywBsrGHq87SB",
        "outputId": "39b2afcd-4afa-478c-df8a-7aa8c067faba",
        "colab": {
          "base_uri": "https://localhost:8080/"
        }
      },
      "execution_count": 27,
      "outputs": [
        {
          "output_type": "stream",
          "name": "stdout",
          "text": [
            "(9,)\n",
            "tf.Tensor(\n",
            "[[[1]\n",
            "  [2]\n",
            "  [3]]\n",
            "\n",
            " [[4]\n",
            "  [5]\n",
            "  [6]]\n",
            "\n",
            " [[7]\n",
            "  [8]\n",
            "  [9]]], shape=(3, 3, 1), dtype=int32)\n"
          ]
        }
      ]
    },
    {
      "cell_type": "code",
      "source": [
        "#lets say you are confusedand dnt know what to write\n",
        "#just write 3,-1 and tensorflow will figure out how to make the matrix\n",
        "a=tf.constant([1,2,3,4,5,6,7,8,9])\n",
        "print(a.shape)\n",
        "print(tf.reshape(a,[3,-1])) #tensorflow will figure out how to make the matrix"
      ],
      "metadata": {
        "id": "bn0hVMzn9BCR",
        "outputId": "cf9dea1a-1b62-4676-c801-7cc26a5ffa6e",
        "colab": {
          "base_uri": "https://localhost:8080/"
        }
      },
      "execution_count": 28,
      "outputs": [
        {
          "output_type": "stream",
          "name": "stdout",
          "text": [
            "(9,)\n",
            "tf.Tensor(\n",
            "[[1 2 3]\n",
            " [4 5 6]\n",
            " [7 8 9]], shape=(3, 3), dtype=int32)\n"
          ]
        }
      ]
    },
    {
      "cell_type": "code",
      "source": [
        "#if you want to reshape this outcome now to 3,3,1\n",
        "print(tf.reshape(a,[3,-1,1]))"
      ],
      "metadata": {
        "id": "xQGkhoh09QDX",
        "outputId": "9568253c-173e-4da0-b6fe-cdf7334df7d9",
        "colab": {
          "base_uri": "https://localhost:8080/"
        }
      },
      "execution_count": 29,
      "outputs": [
        {
          "output_type": "stream",
          "name": "stdout",
          "text": [
            "tf.Tensor(\n",
            "[[[1]\n",
            "  [2]\n",
            "  [3]]\n",
            "\n",
            " [[4]\n",
            "  [5]\n",
            "  [6]]\n",
            "\n",
            " [[7]\n",
            "  [8]\n",
            "  [9]]], shape=(3, 3, 1), dtype=int32)\n"
          ]
        }
      ]
    },
    {
      "cell_type": "code",
      "source": [
        "t1 = tf.constant([[1, 2, 3],\n",
        "      [4, 5, 6]])\n",
        "\n",
        "print(t1.shape)"
      ],
      "metadata": {
        "id": "n9fTtxq19-BB",
        "outputId": "a73c71ef-69dc-46ff-bfd8-e7a72425c881",
        "colab": {
          "base_uri": "https://localhost:8080/"
        }
      },
      "execution_count": 33,
      "outputs": [
        {
          "output_type": "stream",
          "name": "stdout",
          "text": [
            "(2, 3)\n"
          ]
        }
      ]
    },
    {
      "cell_type": "code",
      "source": [
        "# we reshape t1 : 2ways\n",
        "print(tf.reshape(t1,[6]) )\n",
        "print(tf.reshape(t1,[3,2]))\n"
      ],
      "metadata": {
        "id": "bvgPMx9s_jII",
        "outputId": "2e2ccf32-6c22-41ae-8284-0aff08782a93",
        "colab": {
          "base_uri": "https://localhost:8080/"
        }
      },
      "execution_count": 41,
      "outputs": [
        {
          "output_type": "stream",
          "name": "stdout",
          "text": [
            "tf.Tensor([1 2 3 4 5 6], shape=(6,), dtype=int32)\n",
            "tf.Tensor(\n",
            "[[1 2]\n",
            " [3 4]\n",
            " [5 6]], shape=(3, 2), dtype=int32)\n"
          ]
        }
      ]
    },
    {
      "cell_type": "code",
      "source": [],
      "metadata": {
        "id": "-XSQXvW7_yCK"
      },
      "execution_count": null,
      "outputs": []
    },
    {
      "cell_type": "markdown",
      "source": [
        "# 4.tf.concat\n",
        "* Concatenates tensors along one dimension."
      ],
      "metadata": {
        "id": "Rqi0HhSGAQkF"
      }
    },
    {
      "cell_type": "code",
      "source": [
        "t1 = tf.constant([[1, 2, 3],\n",
        "      [4, 5, 6]])\n",
        "t2 = tf.constant([[7, 8, 9],\n",
        "      [10, 11, 12]])\n",
        "print(t1.shape,t2.shape)"
      ],
      "metadata": {
        "id": "6jX68tQ7AWvY",
        "outputId": "aac6aabe-5b9a-4453-ea69-82cb8df8ef3a",
        "colab": {
          "base_uri": "https://localhost:8080/"
        }
      },
      "execution_count": 43,
      "outputs": [
        {
          "output_type": "stream",
          "name": "stdout",
          "text": [
            "(2, 3) (2, 3)\n"
          ]
        }
      ]
    },
    {
      "cell_type": "code",
      "source": [
        "tf.concat([t1,t2],axis =0) # puts row wise"
      ],
      "metadata": {
        "id": "CpwG704aAuWo",
        "outputId": "5a8bbe38-8e35-4694-a558-f34d0186f464",
        "colab": {
          "base_uri": "https://localhost:8080/"
        }
      },
      "execution_count": 44,
      "outputs": [
        {
          "output_type": "execute_result",
          "data": {
            "text/plain": [
              "<tf.Tensor: shape=(4, 3), dtype=int32, numpy=\n",
              "array([[ 1,  2,  3],\n",
              "       [ 4,  5,  6],\n",
              "       [ 7,  8,  9],\n",
              "       [10, 11, 12]], dtype=int32)>"
            ]
          },
          "metadata": {},
          "execution_count": 44
        }
      ]
    },
    {
      "cell_type": "code",
      "source": [
        "tf.concat([t1,t2],axis =1) # puts column wise"
      ],
      "metadata": {
        "id": "X1Xi-3ytA7Ly",
        "outputId": "6237e084-0d55-421c-fede-74c823ea1790",
        "colab": {
          "base_uri": "https://localhost:8080/"
        }
      },
      "execution_count": 45,
      "outputs": [
        {
          "output_type": "execute_result",
          "data": {
            "text/plain": [
              "<tf.Tensor: shape=(2, 6), dtype=int32, numpy=\n",
              "array([[ 1,  2,  3,  7,  8,  9],\n",
              "       [ 4,  5,  6, 10, 11, 12]], dtype=int32)>"
            ]
          },
          "metadata": {},
          "execution_count": 45
        }
      ]
    },
    {
      "cell_type": "code",
      "source": [
        "t1 =tf.constant([\n",
        "      [[1, 2],\n",
        "       [2, 3]],\n",
        "\n",
        "       [[4, 4],\n",
        "        [5, 3]]\n",
        "      ])\n",
        "t2 = tf.constant([\n",
        "    [[7, 4],\n",
        "       [8, 4]],\n",
        "\n",
        "       [[2, 10],\n",
        "        [15, 11]]\n",
        "    ])\n",
        "print(t1.shape,t2.shape)"
      ],
      "metadata": {
        "id": "BW4rEY7SBg7q",
        "outputId": "8dae2770-d066-4ffc-8415-75a12cbfc277",
        "colab": {
          "base_uri": "https://localhost:8080/"
        }
      },
      "execution_count": 46,
      "outputs": [
        {
          "output_type": "stream",
          "name": "stdout",
          "text": [
            "(2, 2, 2) (2, 2, 2)\n"
          ]
        }
      ]
    },
    {
      "cell_type": "code",
      "source": [
        "print(tf.concat([t1,t2],-1))"
      ],
      "metadata": {
        "id": "vrdZB1obBg41",
        "outputId": "4d3199ed-681a-4508-867a-1b1973a41ec9",
        "colab": {
          "base_uri": "https://localhost:8080/"
        }
      },
      "execution_count": 47,
      "outputs": [
        {
          "output_type": "stream",
          "name": "stdout",
          "text": [
            "tf.Tensor(\n",
            "[[[ 1  2  7  4]\n",
            "  [ 2  3  8  4]]\n",
            "\n",
            " [[ 4  4  2 10]\n",
            "  [ 5  3 15 11]]], shape=(2, 2, 4), dtype=int32)\n"
          ]
        }
      ]
    },
    {
      "cell_type": "code",
      "source": [
        "print(tf.concat([t1,t2],0))"
      ],
      "metadata": {
        "id": "8mY0yA4MB9yZ",
        "outputId": "5be8ae8f-51a2-4bb6-fd93-aea7448b4353",
        "colab": {
          "base_uri": "https://localhost:8080/"
        }
      },
      "execution_count": 48,
      "outputs": [
        {
          "output_type": "stream",
          "name": "stdout",
          "text": [
            "tf.Tensor(\n",
            "[[[ 1  2]\n",
            "  [ 2  3]]\n",
            "\n",
            " [[ 4  4]\n",
            "  [ 5  3]]\n",
            "\n",
            " [[ 7  4]\n",
            "  [ 8  4]]\n",
            "\n",
            " [[ 2 10]\n",
            "  [15 11]]], shape=(4, 2, 2), dtype=int32)\n"
          ]
        }
      ]
    },
    {
      "cell_type": "code",
      "source": [],
      "metadata": {
        "id": "CxzdfubuCQbZ"
      },
      "execution_count": null,
      "outputs": []
    }
  ]
}