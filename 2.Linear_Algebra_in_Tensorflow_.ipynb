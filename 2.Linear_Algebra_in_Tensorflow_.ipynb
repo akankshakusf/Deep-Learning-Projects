{
  "nbformat": 4,
  "nbformat_minor": 0,
  "metadata": {
    "colab": {
      "provenance": [],
      "authorship_tag": "ABX9TyOzB9WUQdOsQSE/rxey4w+0",
      "include_colab_link": true
    },
    "kernelspec": {
      "name": "python3",
      "display_name": "Python 3"
    },
    "language_info": {
      "name": "python"
    }
  },
  "cells": [
    {
      "cell_type": "markdown",
      "metadata": {
        "id": "view-in-github",
        "colab_type": "text"
      },
      "source": [
        "<a href=\"https://colab.research.google.com/github/akankshakusf/Deep-Learning-Projects/blob/master/2_Linear_Algebra_in_Tensorflow_.ipynb\" target=\"_parent\"><img src=\"https://colab.research.google.com/assets/colab-badge.svg\" alt=\"Open In Colab\"/></a>"
      ]
    },
    {
      "cell_type": "code",
      "source": [
        "import tensorflow as tf\n"
      ],
      "metadata": {
        "id": "FxFCoSpe1Wcj"
      },
      "execution_count": null,
      "outputs": []
    },
    {
      "cell_type": "markdown",
      "source": [
        "# 1. tf.linalg.matmul method - matrix multiplication"
      ],
      "metadata": {
        "id": "AEoEi9Dj0u2y"
      }
    },
    {
      "cell_type": "markdown",
      "source": [
        "#### matmul of 2D tensors"
      ],
      "metadata": {
        "id": "MyY2hbyk-XCs"
      }
    },
    {
      "cell_type": "code",
      "source": [
        "# https://www.tensorflow.org/api_docs/python/tf/linalg/matmul"
      ],
      "metadata": {
        "id": "4HItyxke0uY5"
      },
      "execution_count": null,
      "outputs": []
    },
    {
      "cell_type": "code",
      "source": [
        "a= tf.constant([\n",
        "  [1,5,1],\n",
        "  [7,3,0],\n",
        "\n",
        "])\n",
        "b = tf.constant([\n",
        "  [3,1,9],\n",
        "  [0,1,7],\n",
        "  [1,5,1]\n",
        "\n",
        "])\n",
        "print(a.shape, b.shape) # column of first matrix should be of same size as row of 2nd matrix\n",
        "print(tf.linalg.matmul(a,b))"
      ],
      "metadata": {
        "colab": {
          "base_uri": "https://localhost:8080/"
        },
        "id": "h_3nukUT2yQp",
        "outputId": "c05bfd12-55a0-4214-873b-613a24a0ce97"
      },
      "execution_count": null,
      "outputs": [
        {
          "output_type": "stream",
          "name": "stdout",
          "text": [
            "(2, 3) (3, 3)\n",
            "tf.Tensor(\n",
            "[[ 4 11 45]\n",
            " [21 10 84]], shape=(2, 3), dtype=int32)\n"
          ]
        }
      ]
    },
    {
      "cell_type": "code",
      "source": [
        "a@b"
      ],
      "metadata": {
        "colab": {
          "base_uri": "https://localhost:8080/"
        },
        "id": "oYamyMWT2yN4",
        "outputId": "25ff8e80-3afe-4d5e-c180-4c2d1ffcdbc7"
      },
      "execution_count": null,
      "outputs": [
        {
          "output_type": "execute_result",
          "data": {
            "text/plain": [
              "<tf.Tensor: shape=(2, 3), dtype=int32, numpy=\n",
              "array([[ 4, 11, 45],\n",
              "       [21, 10, 84]], dtype=int32)>"
            ]
          },
          "metadata": {},
          "execution_count": 8
        }
      ]
    },
    {
      "cell_type": "code",
      "source": [
        "a= tf.constant([\n",
        "  [3,1,9,6,5],\n",
        "  [0,1,7,3,2],\n",
        "  [1,5,1,2,0],\n",
        "  [7,3,0,9,0],\n",
        "\n",
        "])\n",
        "b = tf.constant([\n",
        "  [3,1,9,6,5],\n",
        "  [0,1,7,3,2],\n",
        "  [1,5,1,2,0],\n",
        "  [7,3,0,9,0],\n",
        "  [7,3,0,9,0],\n",
        "\n",
        "])\n",
        "print(a.shape, b.shape) # column of first matrix should be of same size as row of 2nd matrix\n",
        "print(tf.linalg.matmul(a,b))"
      ],
      "metadata": {
        "colab": {
          "base_uri": "https://localhost:8080/"
        },
        "id": "imeINMKO4TAs",
        "outputId": "fe8dc4fe-3879-4140-ab6c-0f7b1a90a7d0"
      },
      "execution_count": null,
      "outputs": [
        {
          "output_type": "stream",
          "name": "stdout",
          "text": [
            "(4, 5) (5, 5)\n",
            "tf.Tensor(\n",
            "[[ 95  82  43 138  17]\n",
            " [ 42  51  14  62   2]\n",
            " [ 18  17  45  41  15]\n",
            " [ 84  37  84 132  41]], shape=(4, 5), dtype=int32)\n"
          ]
        }
      ]
    },
    {
      "cell_type": "code",
      "source": [
        "#transpose\n",
        "a= tf.constant([\n",
        "  [1,5,1],\n",
        "  [7,3,0],\n",
        "\n",
        "])\n",
        "print(tf.transpose(a))"
      ],
      "metadata": {
        "colab": {
          "base_uri": "https://localhost:8080/"
        },
        "id": "JcT5nLIy2yCd",
        "outputId": "7332b74b-71e1-4c68-e1a1-8e8b01b77f74"
      },
      "execution_count": null,
      "outputs": [
        {
          "output_type": "stream",
          "name": "stdout",
          "text": [
            "tf.Tensor(\n",
            "[[1 7]\n",
            " [5 3]\n",
            " [1 0]], shape=(3, 2), dtype=int32)\n"
          ]
        }
      ]
    },
    {
      "cell_type": "code",
      "source": [
        "a = tf.constant([\n",
        "  [1,5,1],\n",
        "\n",
        "])\n",
        "print(a.shape,tf.transpose(a))\n",
        "\n",
        "b = tf.constant([\n",
        "  [3,1,9],\n",
        "  [0,1,7],\n",
        "  [1,5,1]\n",
        "\n",
        "])\n",
        "\n",
        "print(tf.linalg.matmul(a,b))"
      ],
      "metadata": {
        "colab": {
          "base_uri": "https://localhost:8080/"
        },
        "id": "6bUpmN831u1l",
        "outputId": "6474f9ec-2473-484e-a5ad-eb54df35e0fe"
      },
      "execution_count": null,
      "outputs": [
        {
          "output_type": "stream",
          "name": "stdout",
          "text": [
            "(1, 3) tf.Tensor(\n",
            "[[1]\n",
            " [5]\n",
            " [1]], shape=(3, 1), dtype=int32)\n",
            "tf.Tensor([[ 4 11 45]], shape=(1, 3), dtype=int32)\n"
          ]
        }
      ]
    },
    {
      "cell_type": "code",
      "source": [
        "#multiply a by b\n",
        "a@b"
      ],
      "metadata": {
        "colab": {
          "base_uri": "https://localhost:8080/"
        },
        "id": "WylElPbv5Qpj",
        "outputId": "59b0a7f2-1521-4b66-e216-9752520e791f"
      },
      "execution_count": null,
      "outputs": [
        {
          "output_type": "execute_result",
          "data": {
            "text/plain": [
              "<tf.Tensor: shape=(1, 3), dtype=int32, numpy=array([[ 4, 11, 45]], dtype=int32)>"
            ]
          },
          "metadata": {},
          "execution_count": 15
        }
      ]
    },
    {
      "cell_type": "code",
      "source": [
        "#multiply a by b but take transpose of b\n",
        "a@tf.transpose(b)"
      ],
      "metadata": {
        "colab": {
          "base_uri": "https://localhost:8080/"
        },
        "id": "FZOAisZ44yTM",
        "outputId": "85f7d342-dd4a-4d24-a2c5-e5ce3213d780"
      },
      "execution_count": null,
      "outputs": [
        {
          "output_type": "execute_result",
          "data": {
            "text/plain": [
              "<tf.Tensor: shape=(1, 3), dtype=int32, numpy=array([[17, 12, 27]], dtype=int32)>"
            ]
          },
          "metadata": {},
          "execution_count": 16
        }
      ]
    },
    {
      "cell_type": "code",
      "source": [
        "#different way of doing the same thing\n",
        "tf.linalg.matmul(a,b,transpose_b= True)"
      ],
      "metadata": {
        "colab": {
          "base_uri": "https://localhost:8080/"
        },
        "id": "zogqwxfC5nvb",
        "outputId": "83f6f177-98a3-47af-8d44-371b531a6ee1"
      },
      "execution_count": null,
      "outputs": [
        {
          "output_type": "execute_result",
          "data": {
            "text/plain": [
              "<tf.Tensor: shape=(1, 3), dtype=int32, numpy=array([[17, 12, 27]], dtype=int32)>"
            ]
          },
          "metadata": {},
          "execution_count": 17
        }
      ]
    },
    {
      "cell_type": "markdown",
      "source": [
        "* this mat mul worked cause the a, b shapes where compatible but in below example see that this matmul fails if columns of \"a\" not match rows of \"b\"\n",
        "* Understand that if you are simple multiple and it works if can still fail if you take transpose of one of the matrix and the Matrix size-incompatible issue arises"
      ],
      "metadata": {
        "id": "OYyWmhlZ9b4a"
      }
    },
    {
      "cell_type": "code",
      "source": [
        "# this is to show ISSUE - Matrix size-incompatible ERROR :\n",
        "a = tf.constant([\n",
        "  [1,5,1],\n",
        "\n",
        "])\n",
        "b = tf.constant([\n",
        "  [3,1,9],\n",
        "  [0,1,7],\n",
        "\n",
        "])\n",
        "print(a.shape,b.shape)\n",
        "print(tf.linalg.matmul(a,b))\n"
      ],
      "metadata": {
        "colab": {
          "base_uri": "https://localhost:8080/",
          "height": 356
        },
        "id": "iALUndbL9cer",
        "outputId": "9678b2e0-dea7-4da2-b6ac-88cb19c791fa"
      },
      "execution_count": null,
      "outputs": [
        {
          "output_type": "stream",
          "name": "stdout",
          "text": [
            "(1, 3) (2, 3)\n"
          ]
        },
        {
          "output_type": "error",
          "ename": "InvalidArgumentError",
          "evalue": "{{function_node __wrapped__MatMul_device_/job:localhost/replica:0/task:0/device:CPU:0}} Matrix size-incompatible: In[0]: [1,3], In[1]: [2,3] [Op:MatMul] name: ",
          "traceback": [
            "\u001b[0;31m---------------------------------------------------------------------------\u001b[0m",
            "\u001b[0;31mInvalidArgumentError\u001b[0m                      Traceback (most recent call last)",
            "\u001b[0;32m<ipython-input-20-f0fd7d63e970>\u001b[0m in \u001b[0;36m<cell line: 0>\u001b[0;34m()\u001b[0m\n\u001b[1;32m     10\u001b[0m ])\n\u001b[1;32m     11\u001b[0m \u001b[0mprint\u001b[0m\u001b[0;34m(\u001b[0m\u001b[0ma\u001b[0m\u001b[0;34m.\u001b[0m\u001b[0mshape\u001b[0m\u001b[0;34m,\u001b[0m\u001b[0mb\u001b[0m\u001b[0;34m.\u001b[0m\u001b[0mshape\u001b[0m\u001b[0;34m)\u001b[0m\u001b[0;34m\u001b[0m\u001b[0;34m\u001b[0m\u001b[0m\n\u001b[0;32m---> 12\u001b[0;31m \u001b[0mprint\u001b[0m\u001b[0;34m(\u001b[0m\u001b[0mtf\u001b[0m\u001b[0;34m.\u001b[0m\u001b[0mlinalg\u001b[0m\u001b[0;34m.\u001b[0m\u001b[0mmatmul\u001b[0m\u001b[0;34m(\u001b[0m\u001b[0ma\u001b[0m\u001b[0;34m,\u001b[0m\u001b[0mb\u001b[0m\u001b[0;34m)\u001b[0m\u001b[0;34m)\u001b[0m\u001b[0;34m\u001b[0m\u001b[0;34m\u001b[0m\u001b[0m\n\u001b[0m",
            "\u001b[0;32m/usr/local/lib/python3.11/dist-packages/tensorflow/python/ops/weak_tensor_ops.py\u001b[0m in \u001b[0;36mwrapper\u001b[0;34m(*args, **kwargs)\u001b[0m\n\u001b[1;32m    140\u001b[0m   \u001b[0;32mdef\u001b[0m \u001b[0mwrapper\u001b[0m\u001b[0;34m(\u001b[0m\u001b[0;34m*\u001b[0m\u001b[0margs\u001b[0m\u001b[0;34m,\u001b[0m \u001b[0;34m**\u001b[0m\u001b[0mkwargs\u001b[0m\u001b[0;34m)\u001b[0m\u001b[0;34m:\u001b[0m\u001b[0;34m\u001b[0m\u001b[0;34m\u001b[0m\u001b[0m\n\u001b[1;32m    141\u001b[0m     \u001b[0;32mif\u001b[0m \u001b[0;32mnot\u001b[0m \u001b[0mops\u001b[0m\u001b[0;34m.\u001b[0m\u001b[0mis_auto_dtype_conversion_enabled\u001b[0m\u001b[0;34m(\u001b[0m\u001b[0;34m)\u001b[0m\u001b[0;34m:\u001b[0m\u001b[0;34m\u001b[0m\u001b[0;34m\u001b[0m\u001b[0m\n\u001b[0;32m--> 142\u001b[0;31m       \u001b[0;32mreturn\u001b[0m \u001b[0mop\u001b[0m\u001b[0;34m(\u001b[0m\u001b[0;34m*\u001b[0m\u001b[0margs\u001b[0m\u001b[0;34m,\u001b[0m \u001b[0;34m**\u001b[0m\u001b[0mkwargs\u001b[0m\u001b[0;34m)\u001b[0m\u001b[0;34m\u001b[0m\u001b[0;34m\u001b[0m\u001b[0m\n\u001b[0m\u001b[1;32m    143\u001b[0m     \u001b[0mbound_arguments\u001b[0m \u001b[0;34m=\u001b[0m \u001b[0msignature\u001b[0m\u001b[0;34m.\u001b[0m\u001b[0mbind\u001b[0m\u001b[0;34m(\u001b[0m\u001b[0;34m*\u001b[0m\u001b[0margs\u001b[0m\u001b[0;34m,\u001b[0m \u001b[0;34m**\u001b[0m\u001b[0mkwargs\u001b[0m\u001b[0;34m)\u001b[0m\u001b[0;34m\u001b[0m\u001b[0;34m\u001b[0m\u001b[0m\n\u001b[1;32m    144\u001b[0m     \u001b[0mbound_arguments\u001b[0m\u001b[0;34m.\u001b[0m\u001b[0mapply_defaults\u001b[0m\u001b[0;34m(\u001b[0m\u001b[0;34m)\u001b[0m\u001b[0;34m\u001b[0m\u001b[0;34m\u001b[0m\u001b[0m\n",
            "\u001b[0;32m/usr/local/lib/python3.11/dist-packages/tensorflow/python/util/traceback_utils.py\u001b[0m in \u001b[0;36merror_handler\u001b[0;34m(*args, **kwargs)\u001b[0m\n\u001b[1;32m    151\u001b[0m     \u001b[0;32mexcept\u001b[0m \u001b[0mException\u001b[0m \u001b[0;32mas\u001b[0m \u001b[0me\u001b[0m\u001b[0;34m:\u001b[0m\u001b[0;34m\u001b[0m\u001b[0;34m\u001b[0m\u001b[0m\n\u001b[1;32m    152\u001b[0m       \u001b[0mfiltered_tb\u001b[0m \u001b[0;34m=\u001b[0m \u001b[0m_process_traceback_frames\u001b[0m\u001b[0;34m(\u001b[0m\u001b[0me\u001b[0m\u001b[0;34m.\u001b[0m\u001b[0m__traceback__\u001b[0m\u001b[0;34m)\u001b[0m\u001b[0;34m\u001b[0m\u001b[0;34m\u001b[0m\u001b[0m\n\u001b[0;32m--> 153\u001b[0;31m       \u001b[0;32mraise\u001b[0m \u001b[0me\u001b[0m\u001b[0;34m.\u001b[0m\u001b[0mwith_traceback\u001b[0m\u001b[0;34m(\u001b[0m\u001b[0mfiltered_tb\u001b[0m\u001b[0;34m)\u001b[0m \u001b[0;32mfrom\u001b[0m \u001b[0;32mNone\u001b[0m\u001b[0;34m\u001b[0m\u001b[0;34m\u001b[0m\u001b[0m\n\u001b[0m\u001b[1;32m    154\u001b[0m     \u001b[0;32mfinally\u001b[0m\u001b[0;34m:\u001b[0m\u001b[0;34m\u001b[0m\u001b[0;34m\u001b[0m\u001b[0m\n\u001b[1;32m    155\u001b[0m       \u001b[0;32mdel\u001b[0m \u001b[0mfiltered_tb\u001b[0m\u001b[0;34m\u001b[0m\u001b[0;34m\u001b[0m\u001b[0m\n",
            "\u001b[0;32m/usr/local/lib/python3.11/dist-packages/tensorflow/python/framework/ops.py\u001b[0m in \u001b[0;36mraise_from_not_ok_status\u001b[0;34m(e, name)\u001b[0m\n\u001b[1;32m   6000\u001b[0m \u001b[0;32mdef\u001b[0m \u001b[0mraise_from_not_ok_status\u001b[0m\u001b[0;34m(\u001b[0m\u001b[0me\u001b[0m\u001b[0;34m,\u001b[0m \u001b[0mname\u001b[0m\u001b[0;34m)\u001b[0m \u001b[0;34m->\u001b[0m \u001b[0mNoReturn\u001b[0m\u001b[0;34m:\u001b[0m\u001b[0;34m\u001b[0m\u001b[0;34m\u001b[0m\u001b[0m\n\u001b[1;32m   6001\u001b[0m   \u001b[0me\u001b[0m\u001b[0;34m.\u001b[0m\u001b[0mmessage\u001b[0m \u001b[0;34m+=\u001b[0m \u001b[0;34m(\u001b[0m\u001b[0;34m\" name: \"\u001b[0m \u001b[0;34m+\u001b[0m \u001b[0mstr\u001b[0m\u001b[0;34m(\u001b[0m\u001b[0mname\u001b[0m \u001b[0;32mif\u001b[0m \u001b[0mname\u001b[0m \u001b[0;32mis\u001b[0m \u001b[0;32mnot\u001b[0m \u001b[0;32mNone\u001b[0m \u001b[0;32melse\u001b[0m \u001b[0;34m\"\"\u001b[0m\u001b[0;34m)\u001b[0m\u001b[0;34m)\u001b[0m\u001b[0;34m\u001b[0m\u001b[0;34m\u001b[0m\u001b[0m\n\u001b[0;32m-> 6002\u001b[0;31m   \u001b[0;32mraise\u001b[0m \u001b[0mcore\u001b[0m\u001b[0;34m.\u001b[0m\u001b[0m_status_to_exception\u001b[0m\u001b[0;34m(\u001b[0m\u001b[0me\u001b[0m\u001b[0;34m)\u001b[0m \u001b[0;32mfrom\u001b[0m \u001b[0;32mNone\u001b[0m  \u001b[0;31m# pylint: disable=protected-access\u001b[0m\u001b[0;34m\u001b[0m\u001b[0;34m\u001b[0m\u001b[0m\n\u001b[0m\u001b[1;32m   6003\u001b[0m \u001b[0;34m\u001b[0m\u001b[0m\n\u001b[1;32m   6004\u001b[0m \u001b[0;34m\u001b[0m\u001b[0m\n",
            "\u001b[0;31mInvalidArgumentError\u001b[0m: {{function_node __wrapped__MatMul_device_/job:localhost/replica:0/task:0/device:CPU:0}} Matrix size-incompatible: In[0]: [1,3], In[1]: [2,3] [Op:MatMul] name: "
          ]
        }
      ]
    },
    {
      "cell_type": "code",
      "source": [
        "a = tf.constant([\n",
        "  [1,5,1],\n",
        "])\n",
        "\n",
        "b = tf.constant([\n",
        "  [3,1],\n",
        "  [0,1],\n",
        "  [1,5],\n",
        "])\n",
        "\n",
        "print(a.shape, b.shape, tf.linalg.matrix_transpose(b).shape)\n",
        "a@b"
      ],
      "metadata": {
        "colab": {
          "base_uri": "https://localhost:8080/"
        },
        "id": "6yaTCgiU9qhM",
        "outputId": "c64324f6-d6b8-459b-8aa7-5142f1e7a828"
      },
      "execution_count": null,
      "outputs": [
        {
          "output_type": "stream",
          "name": "stdout",
          "text": [
            "(1, 3) (3, 2) (2, 3)\n"
          ]
        },
        {
          "output_type": "execute_result",
          "data": {
            "text/plain": [
              "<tf.Tensor: shape=(1, 2), dtype=int32, numpy=array([[ 4, 11]], dtype=int32)>"
            ]
          },
          "metadata": {},
          "execution_count": 22
        }
      ]
    },
    {
      "cell_type": "markdown",
      "source": [
        "#### matmul of 3D tensors"
      ],
      "metadata": {
        "id": "PKl8qzVO-fl0"
      }
    },
    {
      "cell_type": "code",
      "source": [
        "a = tf.constant(\n",
        "            [[[1,2],\n",
        "              [3,5]],\n",
        "\n",
        "            [[10,2],\n",
        "              [1,0]],\n",
        "\n",
        "            [[5,8],\n",
        "              [2,7]],\n",
        "\n",
        "            [[2,1],\n",
        "              [4,-3]]])\n",
        "\n",
        "\n",
        "b = tf.constant(\n",
        "            [[[1,2,0],\n",
        "              [3,5,-1]],\n",
        "\n",
        "            [[10,2,0],\n",
        "              [1,0,2]],\n",
        "\n",
        "            [[5,8,0],\n",
        "              [2,7,0]],\n",
        "\n",
        "            [[2,1,9],\n",
        "              [4,-3,32]]])\n",
        "print(a.shape, b.shape)"
      ],
      "metadata": {
        "colab": {
          "base_uri": "https://localhost:8080/"
        },
        "id": "nlxwZFk7-jcy",
        "outputId": "12a38fce-fcc2-40e5-e677-1485bb73f28b"
      },
      "execution_count": null,
      "outputs": [
        {
          "output_type": "stream",
          "name": "stdout",
          "text": [
            "(4, 2, 2) (4, 2, 3)\n"
          ]
        }
      ]
    },
    {
      "cell_type": "markdown",
      "source": [
        "* Great !! this will  work matrix a= column shape(2) and matrix b=row shape(2)"
      ],
      "metadata": {
        "id": "ZjvxK1pC-x45"
      }
    },
    {
      "cell_type": "code",
      "source": [
        "print(tf.linalg.matmul(a,b))"
      ],
      "metadata": {
        "colab": {
          "base_uri": "https://localhost:8080/"
        },
        "id": "uDy_sRIY-wgC",
        "outputId": "60aee201-632e-4df2-ce08-a1ed85629b9d"
      },
      "execution_count": null,
      "outputs": [
        {
          "output_type": "stream",
          "name": "stdout",
          "text": [
            "tf.Tensor(\n",
            "[[[  7  12  -2]\n",
            "  [ 18  31  -5]]\n",
            "\n",
            " [[102  20   4]\n",
            "  [ 10   2   0]]\n",
            "\n",
            " [[ 41  96   0]\n",
            "  [ 24  65   0]]\n",
            "\n",
            " [[  8  -1  50]\n",
            "  [ -4  13 -60]]], shape=(4, 2, 3), dtype=int32)\n"
          ]
        }
      ]
    },
    {
      "cell_type": "code",
      "source": [
        "print(a[0],b[0])"
      ],
      "metadata": {
        "colab": {
          "base_uri": "https://localhost:8080/"
        },
        "id": "mhVheKnb_YDk",
        "outputId": "0f96d889-c6ca-49e5-dad9-dd015f6e09c5"
      },
      "execution_count": null,
      "outputs": [
        {
          "output_type": "stream",
          "name": "stdout",
          "text": [
            "tf.Tensor(\n",
            "[[1 2]\n",
            " [3 5]], shape=(2, 2), dtype=int32) tf.Tensor(\n",
            "[[ 1  2  0]\n",
            " [ 3  5 -1]], shape=(2, 3), dtype=int32)\n"
          ]
        }
      ]
    },
    {
      "cell_type": "code",
      "source": [
        "a[0]@b[0]"
      ],
      "metadata": {
        "colab": {
          "base_uri": "https://localhost:8080/"
        },
        "id": "z1Q4cbep_ztb",
        "outputId": "94a3379c-b241-4c35-8d8e-bcf4178126b2"
      },
      "execution_count": null,
      "outputs": [
        {
          "output_type": "execute_result",
          "data": {
            "text/plain": [
              "<tf.Tensor: shape=(2, 3), dtype=int32, numpy=\n",
              "array([[ 7, 12, -2],\n",
              "       [18, 31, -5]], dtype=int32)>"
            ]
          },
          "metadata": {},
          "execution_count": 26
        }
      ]
    },
    {
      "cell_type": "code",
      "source": [
        "a[2]@b[2]"
      ],
      "metadata": {
        "colab": {
          "base_uri": "https://localhost:8080/"
        },
        "id": "h3F1HZcu_3bq",
        "outputId": "89c83cf7-cad2-40cd-aae4-1cdea4853a60"
      },
      "execution_count": null,
      "outputs": [
        {
          "output_type": "execute_result",
          "data": {
            "text/plain": [
              "<tf.Tensor: shape=(2, 3), dtype=int32, numpy=\n",
              "array([[41, 96,  0],\n",
              "       [24, 65,  0]], dtype=int32)>"
            ]
          },
          "metadata": {},
          "execution_count": 27
        }
      ]
    },
    {
      "cell_type": "code",
      "source": [],
      "metadata": {
        "id": "WP80lWfX_6ha"
      },
      "execution_count": null,
      "outputs": []
    },
    {
      "cell_type": "markdown",
      "source": [
        "# 2. tf.linalg.band_part method"
      ],
      "metadata": {
        "id": "nJJSmIaLAL_0"
      }
    },
    {
      "cell_type": "code",
      "source": [
        "a = tf.constant([\n",
        "  [1,5,1],\n",
        "  [7,9,3],\n",
        "  [1,3,1],\n",
        "])\n"
      ],
      "metadata": {
        "id": "ShP7_z9dAQic"
      },
      "execution_count": null,
      "outputs": []
    },
    {
      "cell_type": "code",
      "source": [
        "# substitute and understand\n",
        "output = tf.linalg.band_part(a, m, n)\n",
        "output = tf.linalg.band_part(a, 0, 0)\n",
        "\n",
        "# this is explaination for (a, m, n): (a, 0,0): meaning 0th row-0th column =1\n",
        "m=0, n=0  m-n=-1 n-m=0\n",
        "      False              True                   False              True\n",
        "              True                                      True\n",
        "                                   True\n",
        "(num_lower < 0 || (m-n) <= num_lower)) && (num_upper < 0 || (n-m) <= num_upper).\n",
        "\n",
        "# this is explaination for (a, m, n): (a, 0,1) : meaning 0th row-1th column = 5\n",
        "\n",
        "m=0, n=1  m-n=-1 n-m=1\n",
        "      False              True                   False              True\n",
        "              True                                      True\n",
        "                                   True\n",
        "(num_lower < 0 || (m-n) <= num_lower)) && (num_upper < 0 || (n-m) <= num_upper).\n",
        "                      (0<0 ||-1 <= 0) && (1<0 || 1<=1)\n",
        "\n",
        "                      # this is explaination for (a, m, n): (a, 0,-1) : meaning 0th row-1th column = 5\n",
        "\n",
        "m=0, n=-1  m-n=1 n-m=-1\n",
        "      False              False                   True              True\n",
        "              False                                      True\n",
        "                                   False\n",
        "(num_lower < 0 || (m-n) <= num_lower)) && (num_upper < 0 || (n-m) <= num_upper).\n",
        "                      (0<0 ||1 <= 0) && (-1<0 || -1<=-1)"
      ],
      "metadata": {
        "id": "ug-HBwXvB3Jr"
      },
      "execution_count": null,
      "outputs": []
    },
    {
      "cell_type": "code",
      "source": [
        "print(a)\n",
        "print(tf.linalg.band_part(a, 0,0))\n",
        "print(tf.linalg.band_part(a, 0,1))\n",
        "print(tf.linalg.band_part(a, 0,-1))\n"
      ],
      "metadata": {
        "colab": {
          "base_uri": "https://localhost:8080/"
        },
        "id": "y7G96LYpDlOh",
        "outputId": "885592b9-9a32-4f9a-c5ab-7f9c973d5efa"
      },
      "execution_count": null,
      "outputs": [
        {
          "output_type": "stream",
          "name": "stdout",
          "text": [
            "tf.Tensor(\n",
            "[[1 5 1]\n",
            " [7 9 3]\n",
            " [1 3 1]], shape=(3, 3), dtype=int32)\n",
            "tf.Tensor(\n",
            "[[1 0 0]\n",
            " [0 9 0]\n",
            " [0 0 1]], shape=(3, 3), dtype=int32)\n",
            "tf.Tensor(\n",
            "[[1 5 0]\n",
            " [0 9 3]\n",
            " [0 0 1]], shape=(3, 3), dtype=int32)\n"
          ]
        }
      ]
    },
    {
      "cell_type": "code",
      "source": [
        "a = tf.constant([\n",
        "    [2,6,5,2],\n",
        "    [2,-2,2,3],\n",
        "    [1,5,4,0]\n",
        "])\n",
        "b = tf.constant([\n",
        "    [2,9,0,3,0],\n",
        "    [3,6,8,-2,2],\n",
        "    [1,3,5,0,1],\n",
        "    [3,0,2,0,5]\n",
        "])\n",
        "c = tf.linalg.matmul(a,b)\n",
        "print(a.shape,b.shape)\n",
        "print(c.shape)\n",
        "print(c)"
      ],
      "metadata": {
        "colab": {
          "base_uri": "https://localhost:8080/"
        },
        "id": "81WCamW2DlLt",
        "outputId": "d2665abc-3172-4485-ffaa-2bd4cbfb12c2"
      },
      "execution_count": null,
      "outputs": [
        {
          "output_type": "stream",
          "name": "stdout",
          "text": [
            "(3, 4) (4, 5)\n",
            "(3, 5)\n",
            "tf.Tensor(\n",
            "[[33 69 77 -6 27]\n",
            " [ 9 12  0 10 13]\n",
            " [21 51 60 -7 14]], shape=(3, 5), dtype=int32)\n"
          ]
        }
      ]
    },
    {
      "cell_type": "code",
      "source": [],
      "metadata": {
        "id": "HljSTRekDlJF"
      },
      "execution_count": null,
      "outputs": []
    },
    {
      "cell_type": "code",
      "source": [],
      "metadata": {
        "id": "HzxfysSTDlGe"
      },
      "execution_count": null,
      "outputs": []
    },
    {
      "cell_type": "markdown",
      "source": [
        "# tf.einsum"
      ],
      "metadata": {
        "id": "XvdKus39LKOE"
      }
    },
    {
      "cell_type": "code",
      "source": [
        "a = tf.constant([\n",
        "    [2,6,5,2],\n",
        "    [2,-2,2,3],\n",
        "    [1,5,4,0]\n",
        "])\n",
        "b = tf.constant([\n",
        "    [2,9,0,3,0],\n",
        "    [3,6,8,-2,2],\n",
        "    [1,3,5,0,1],\n",
        "    [3,0,2,0,5]\n",
        "])\n",
        "c = tf.linalg.matmul(a,b)\n",
        "print(a.shape,b.shape)\n",
        "print(c.shape)\n",
        "print(c)"
      ],
      "metadata": {
        "colab": {
          "base_uri": "https://localhost:8080/"
        },
        "id": "H-v8GkDyLL8F",
        "outputId": "d5220be2-993c-4230-bb30-73be404be134"
      },
      "execution_count": null,
      "outputs": [
        {
          "output_type": "stream",
          "name": "stdout",
          "text": [
            "(3, 4) (4, 5)\n",
            "(3, 5)\n",
            "tf.Tensor(\n",
            "[[33 69 77 -6 27]\n",
            " [ 9 12  0 10 13]\n",
            " [21 51 60 -7 14]], shape=(3, 5), dtype=int32)\n"
          ]
        }
      ]
    },
    {
      "cell_type": "code",
      "source": [
        "tf.einsum(\"ij,jk->ik\",a,b)"
      ],
      "metadata": {
        "colab": {
          "base_uri": "https://localhost:8080/"
        },
        "id": "s5M6_B8NTQ2L",
        "outputId": "b8672669-86f9-47a2-ab11-978a7bd78544"
      },
      "execution_count": null,
      "outputs": [
        {
          "output_type": "execute_result",
          "data": {
            "text/plain": [
              "<tf.Tensor: shape=(3, 5), dtype=int32, numpy=\n",
              "array([[33, 69, 77, -6, 27],\n",
              "       [ 9, 12,  0, 10, 13],\n",
              "       [21, 51, 60, -7, 14]], dtype=int32)>"
            ]
          },
          "metadata": {},
          "execution_count": 36
        }
      ]
    },
    {
      "cell_type": "code",
      "source": [
        "a = tf.constant([2,6,5,2])\n",
        "b = tf.constant([0,1,3,2])\n",
        "tf.einsum(\"i,j->\",a,b)"
      ],
      "metadata": {
        "colab": {
          "base_uri": "https://localhost:8080/"
        },
        "id": "g4JTO7TBTQy2",
        "outputId": "586e7506-03fb-4da6-fa81-87f85895e489"
      },
      "execution_count": null,
      "outputs": [
        {
          "output_type": "execute_result",
          "data": {
            "text/plain": [
              "<tf.Tensor: shape=(), dtype=int32, numpy=90>"
            ]
          },
          "metadata": {},
          "execution_count": 37
        }
      ]
    },
    {
      "cell_type": "code",
      "source": [
        "a = tf.constant([2,6,5,2])\n",
        "b = tf.constant([0,1,3,2])\n",
        "c = tf.einsum(\"i,j->ij\",a,b)\n",
        "print(c)\n",
        "print(tf.reduce_sum(c))\n",
        "\n",
        "print(tf.einsum(\"i,j->\",a,b))"
      ],
      "metadata": {
        "colab": {
          "base_uri": "https://localhost:8080/"
        },
        "id": "P_M8vLvdTQv-",
        "outputId": "2b966c4c-c394-473d-a957-7edba41bef0e"
      },
      "execution_count": null,
      "outputs": [
        {
          "output_type": "stream",
          "name": "stdout",
          "text": [
            "tf.Tensor(\n",
            "[[ 0  2  6  4]\n",
            " [ 0  6 18 12]\n",
            " [ 0  5 15 10]\n",
            " [ 0  2  6  4]], shape=(4, 4), dtype=int32)\n",
            "tf.Tensor(90, shape=(), dtype=int32)\n",
            "tf.Tensor(90, shape=(), dtype=int32)\n"
          ]
        }
      ]
    },
    {
      "cell_type": "code",
      "source": [
        "b = tf.constant([\n",
        "    [2,9,0,3,0],\n",
        "    [3,6,8,-2,2],\n",
        "    [1,3,5,0,1],\n",
        "    [3,0,2,0,5]\n",
        "])\n",
        "tf.einsum(\"ij->ji\",b)"
      ],
      "metadata": {
        "colab": {
          "base_uri": "https://localhost:8080/"
        },
        "id": "Z38t-vUuTQtG",
        "outputId": "bf3a5b23-ed15-4569-f53c-a6d3c2a32193"
      },
      "execution_count": null,
      "outputs": [
        {
          "output_type": "execute_result",
          "data": {
            "text/plain": [
              "<tf.Tensor: shape=(5, 4), dtype=int32, numpy=\n",
              "array([[ 2,  3,  1,  3],\n",
              "       [ 9,  6,  3,  0],\n",
              "       [ 0,  8,  5,  2],\n",
              "       [ 3, -2,  0,  0],\n",
              "       [ 0,  2,  1,  5]], dtype=int32)>"
            ]
          },
          "metadata": {},
          "execution_count": 39
        }
      ]
    },
    {
      "cell_type": "code",
      "source": [
        "a = tf.constant([\n",
        "    [2,6,5,2],\n",
        "    [2,-2,2,3],\n",
        "    [1,5,4,0]\n",
        "])\n",
        "b = tf.constant([\n",
        "    [2,9,0,3],\n",
        "    [3,6,8,-2],\n",
        "    [1,3,5,0],\n",
        "])\n",
        "tf.einsum(\"ij,ij->ij\",a,b)"
      ],
      "metadata": {
        "colab": {
          "base_uri": "https://localhost:8080/"
        },
        "id": "UG2GCqmlTQpD",
        "outputId": "3795c9c6-dd99-4090-91ad-5b9ca5ef7801"
      },
      "execution_count": null,
      "outputs": [
        {
          "output_type": "execute_result",
          "data": {
            "text/plain": [
              "<tf.Tensor: shape=(3, 4), dtype=int32, numpy=\n",
              "array([[  4,  54,   0,   6],\n",
              "       [  6, -12,  16,  -6],\n",
              "       [  1,  15,  20,   0]], dtype=int32)>"
            ]
          },
          "metadata": {},
          "execution_count": 40
        }
      ]
    },
    {
      "cell_type": "code",
      "source": [
        "a = tf.constant([\n",
        "\n",
        "    [[2,6,5,2],\n",
        "     [2,-2,2,3],\n",
        "     [1,5,4,0]],\n",
        "\n",
        "    [[2,6,5,2],\n",
        "     [2,-2,2,3],\n",
        "     [1,5,4,0]]\n",
        "    ])\n",
        "b = tf.constant([\n",
        "    [[2,9,0,3,0],\n",
        "     [3,6,8,-2,2],\n",
        "     [1,3,5,0,1],\n",
        "     [3,0,2,0,5]],\n",
        "\n",
        "    [[2,9,0,3,0],\n",
        "     [3,6,8,-2,2],\n",
        "     [1,3,5,0,1],\n",
        "     [3,0,2,0,5]]\n",
        "])"
      ],
      "metadata": {
        "id": "X2cLbGSNTQmX"
      },
      "execution_count": null,
      "outputs": []
    },
    {
      "cell_type": "code",
      "source": [
        "tf.einsum(\"bij,bjk->bik\",a,b)"
      ],
      "metadata": {
        "id": "Uc95_zxiTfe4",
        "colab": {
          "base_uri": "https://localhost:8080/"
        },
        "outputId": "d45e1187-badd-44b1-9dee-9b09216c2f17"
      },
      "execution_count": 43,
      "outputs": [
        {
          "output_type": "execute_result",
          "data": {
            "text/plain": [
              "<tf.Tensor: shape=(2, 3, 5), dtype=int32, numpy=\n",
              "array([[[33, 69, 77, -6, 27],\n",
              "        [ 9, 12,  0, 10, 13],\n",
              "        [21, 51, 60, -7, 14]],\n",
              "\n",
              "       [[33, 69, 77, -6, 27],\n",
              "        [ 9, 12,  0, 10, 13],\n",
              "        [21, 51, 60, -7, 14]]], dtype=int32)>"
            ]
          },
          "metadata": {},
          "execution_count": 43
        }
      ]
    }
  ]
}
