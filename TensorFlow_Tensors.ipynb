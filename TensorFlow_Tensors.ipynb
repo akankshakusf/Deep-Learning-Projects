{
  "nbformat": 4,
  "nbformat_minor": 0,
  "metadata": {
    "colab": {
      "provenance": [],
      "authorship_tag": "ABX9TyPCIYCuMKmx2iKKPnOfL3A6",
      "include_colab_link": true
    },
    "kernelspec": {
      "name": "python3",
      "display_name": "Python 3"
    },
    "language_info": {
      "name": "python"
    }
  },
  "cells": [
    {
      "cell_type": "markdown",
      "metadata": {
        "id": "view-in-github",
        "colab_type": "text"
      },
      "source": [
        "<a href=\"https://colab.research.google.com/github/akankshakusf/Deep-Learning-Projects/blob/master/TensorFlow_Tensors.ipynb\" target=\"_parent\"><img src=\"https://colab.research.google.com/assets/colab-badge.svg\" alt=\"Open In Colab\"/></a>"
      ]
    },
    {
      "cell_type": "markdown",
      "source": [
        "# 1.Type of densional tensors - pay attention to closing brackets\n",
        "* 1 closing square brackets\"[---]\" ----> 1D\n",
        "* 2 closing square brackets\"[[---]]\" ----> 2D\n",
        "* 3 closing square brackets\"[[[---]]]\" ----> 3D\n",
        "* 4 closing square brackets\"[[[[---]]]]\" ----> 4D"
      ],
      "metadata": {
        "id": "PZxeg8-x1-tM"
      }
    },
    {
      "cell_type": "code",
      "execution_count": 19,
      "metadata": {
        "id": "9JXy-s2NkBS9"
      },
      "outputs": [],
      "source": [
        "#import packages\n",
        "import tensorflow as tf"
      ]
    },
    {
      "cell_type": "code",
      "source": [
        "tensor_zero_d=tf.constant(4)\n",
        "print(tensor_zero_d)"
      ],
      "metadata": {
        "colab": {
          "base_uri": "https://localhost:8080/"
        },
        "id": "W4tpE4dIsd2c",
        "outputId": "7e937ad9-1e55-4609-89ac-3c4567a5ee1a"
      },
      "execution_count": 20,
      "outputs": [
        {
          "output_type": "stream",
          "name": "stdout",
          "text": [
            "tf.Tensor(4, shape=(), dtype=int32)\n"
          ]
        }
      ]
    },
    {
      "cell_type": "code",
      "source": [
        "#one d\n",
        "tensor_one_d=tf.constant([2,0,-3, 8 ,90.1])\n",
        "print(tensor_one_d)"
      ],
      "metadata": {
        "colab": {
          "base_uri": "https://localhost:8080/"
        },
        "id": "lGgEEeG-stnr",
        "outputId": "28c31e0f-0d47-4a91-95af-f6e290bc620c"
      },
      "execution_count": 21,
      "outputs": [
        {
          "output_type": "stream",
          "name": "stdout",
          "text": [
            "tf.Tensor([ 2.   0.  -3.   8.  90.1], shape=(5,), dtype=float32)\n"
          ]
        }
      ]
    },
    {
      "cell_type": "code",
      "source": [
        "tensor_one_d.shape"
      ],
      "metadata": {
        "colab": {
          "base_uri": "https://localhost:8080/"
        },
        "id": "6E4HROZKvXlI",
        "outputId": "061da24b-f715-4f44-e944-2bdd590758f5"
      },
      "execution_count": 22,
      "outputs": [
        {
          "output_type": "execute_result",
          "data": {
            "text/plain": [
              "TensorShape([5])"
            ]
          },
          "metadata": {},
          "execution_count": 22
        }
      ]
    },
    {
      "cell_type": "code",
      "source": [
        "#stacked one d is 2 d\n",
        "tensor_two_d = tf.constant(\n",
        "    [[1,2,3],\n",
        "    [3,5,-1],\n",
        "    [4,5,6],\n",
        "    [2,3,8]]\n",
        "    )\n",
        "print(tensor_two_d)"
      ],
      "metadata": {
        "colab": {
          "base_uri": "https://localhost:8080/"
        },
        "id": "6QMphHjctDlh",
        "outputId": "c4e2bd6f-a6fe-4438-fc67-766e929168f8"
      },
      "execution_count": 124,
      "outputs": [
        {
          "output_type": "stream",
          "name": "stdout",
          "text": [
            "tf.Tensor(\n",
            "[[ 1  2  3]\n",
            " [ 3  5 -1]\n",
            " [ 4  5  6]\n",
            " [ 2  3  8]], shape=(4, 3), dtype=int32)\n"
          ]
        }
      ]
    },
    {
      "cell_type": "code",
      "source": [
        "tensor_two_d.shape"
      ],
      "metadata": {
        "colab": {
          "base_uri": "https://localhost:8080/"
        },
        "id": "Ccq6qJSRvVOl",
        "outputId": "9294a327-8425-4a96-d154-8f6cb6756a16"
      },
      "execution_count": 24,
      "outputs": [
        {
          "output_type": "execute_result",
          "data": {
            "text/plain": [
              "TensorShape([4, 3])"
            ]
          },
          "metadata": {},
          "execution_count": 24
        }
      ]
    },
    {
      "cell_type": "code",
      "source": [
        "#stacked 2 d is 3 d\n",
        "tensor_three_d=tf.constant(\n",
        "    [[[1,2,3], # as you see they are stacked\n",
        "     [4,5,6]],\n",
        "\n",
        "    [[5,6,4],\n",
        "     [2,0,6]],\n",
        "\n",
        "    [[9,2,1],\n",
        "     [4,9,5]],\n",
        "\n",
        "    [[1,5,3],\n",
        "     [0,1,6]],]\n",
        "\n",
        ")\n",
        "print(tensor_three_d)"
      ],
      "metadata": {
        "colab": {
          "base_uri": "https://localhost:8080/"
        },
        "id": "xx1KhIKttiAD",
        "outputId": "4f915f15-d2e9-4e53-ab67-aa14f7f2a39a"
      },
      "execution_count": 125,
      "outputs": [
        {
          "output_type": "stream",
          "name": "stdout",
          "text": [
            "tf.Tensor(\n",
            "[[[1 2 3]\n",
            "  [4 5 6]]\n",
            "\n",
            " [[5 6 4]\n",
            "  [2 0 6]]\n",
            "\n",
            " [[9 2 1]\n",
            "  [4 9 5]]\n",
            "\n",
            " [[1 5 3]\n",
            "  [0 1 6]]], shape=(4, 2, 3), dtype=int32)\n"
          ]
        }
      ]
    },
    {
      "cell_type": "code",
      "source": [
        "tensor_three_d.shape"
      ],
      "metadata": {
        "colab": {
          "base_uri": "https://localhost:8080/"
        },
        "id": "_se3He1auGfq",
        "outputId": "d2c2958c-af83-4bcf-d527-b19aa99f562a"
      },
      "execution_count": 26,
      "outputs": [
        {
          "output_type": "execute_result",
          "data": {
            "text/plain": [
              "TensorShape([4, 2, 3])"
            ]
          },
          "metadata": {},
          "execution_count": 26
        }
      ]
    },
    {
      "cell_type": "code",
      "source": [
        "#stacked 3 d is 4 d\n",
        "tensor_four_d=tf.constant(\n",
        "[[[[1,2,3],\n",
        "     [4,5,6]],\n",
        "\n",
        "    [[5,6,4],\n",
        "     [2,0,6]],\n",
        "\n",
        "    [[9,3,1],\n",
        "     [4,0,5]],\n",
        "\n",
        "    [[1,5,3],\n",
        "     [0,1,6]]\n",
        "],  #--------first stack ends here\n",
        "\n",
        "[    [[1,7,3],\n",
        "     [4,5,0]],\n",
        "\n",
        "    [[5,9,4],\n",
        "     [2,0,6]],\n",
        "\n",
        "    [[32,2,1],\n",
        "     [4,9,5]],\n",
        "\n",
        "    [[1,5,3],\n",
        "     [0,3,43]]\n",
        "\n",
        "], #--------second stack ends here\n",
        "\n",
        "[   [[1,2,3],\n",
        "     [4,6,6]],\n",
        "\n",
        "    [[5,6,4],\n",
        "     [2,2,6]],\n",
        "\n",
        "    [[9,2,1],\n",
        "     [4,9,5]],\n",
        "\n",
        "    [[1,2,3],\n",
        "     [0,1,9]]],])\n",
        "#--------third stack ends here\n",
        "\n",
        "print(tensor_four_d)"
      ],
      "metadata": {
        "colab": {
          "base_uri": "https://localhost:8080/"
        },
        "id": "K6ujTfgevglz",
        "outputId": "04e0ba9e-6316-4240-b9bc-08b1e2bedb71"
      },
      "execution_count": 126,
      "outputs": [
        {
          "output_type": "stream",
          "name": "stdout",
          "text": [
            "tf.Tensor(\n",
            "[[[[ 1  2  3]\n",
            "   [ 4  5  6]]\n",
            "\n",
            "  [[ 5  6  4]\n",
            "   [ 2  0  6]]\n",
            "\n",
            "  [[ 9  3  1]\n",
            "   [ 4  0  5]]\n",
            "\n",
            "  [[ 1  5  3]\n",
            "   [ 0  1  6]]]\n",
            "\n",
            "\n",
            " [[[ 1  7  3]\n",
            "   [ 4  5  0]]\n",
            "\n",
            "  [[ 5  9  4]\n",
            "   [ 2  0  6]]\n",
            "\n",
            "  [[32  2  1]\n",
            "   [ 4  9  5]]\n",
            "\n",
            "  [[ 1  5  3]\n",
            "   [ 0  3 43]]]\n",
            "\n",
            "\n",
            " [[[ 1  2  3]\n",
            "   [ 4  6  6]]\n",
            "\n",
            "  [[ 5  6  4]\n",
            "   [ 2  2  6]]\n",
            "\n",
            "  [[ 9  2  1]\n",
            "   [ 4  9  5]]\n",
            "\n",
            "  [[ 1  2  3]\n",
            "   [ 0  1  9]]]], shape=(3, 4, 2, 3), dtype=int32)\n"
          ]
        }
      ]
    },
    {
      "cell_type": "code",
      "source": [
        "tensor_four_d.shape"
      ],
      "metadata": {
        "colab": {
          "base_uri": "https://localhost:8080/"
        },
        "id": "I8tkqwVrvgjJ",
        "outputId": "20f3f1a7-6c86-45d3-d7b8-604c431ed1ae"
      },
      "execution_count": 28,
      "outputs": [
        {
          "output_type": "execute_result",
          "data": {
            "text/plain": [
              "TensorShape([3, 4, 2, 3])"
            ]
          },
          "metadata": {},
          "execution_count": 28
        }
      ]
    },
    {
      "cell_type": "markdown",
      "source": [
        "# 2. manually changing the data type\n",
        "* lower precision tensors float 16, float 32, float 64 etc"
      ],
      "metadata": {
        "id": "XbjWBf4o1ztt"
      }
    },
    {
      "cell_type": "code",
      "source": [
        "tensor_one_d=tf.constant([2,0,-3, 8 ,90.1], dtype=tf.float16)\n",
        "print(tensor_one_d)\n",
        "\n",
        "tensor_one_d=tf.constant([2,0,-3, 8 ,90.1], dtype=tf.float32)\n",
        "print(tensor_one_d)\n",
        "\n",
        "tensor_one_d=tf.constant([2,0,-3, 8 ,90.1], dtype=tf.float64)\n",
        "print(tensor_one_d)"
      ],
      "metadata": {
        "colab": {
          "base_uri": "https://localhost:8080/"
        },
        "id": "EOw3H-onxQ9c",
        "outputId": "ddefd41b-05df-4140-cfea-479f0212b84a"
      },
      "execution_count": 32,
      "outputs": [
        {
          "output_type": "stream",
          "name": "stdout",
          "text": [
            "tf.Tensor([ 2.   0.  -3.   8.  90.1], shape=(5,), dtype=float16)\n",
            "tf.Tensor([ 2.   0.  -3.   8.  90.1], shape=(5,), dtype=float32)\n",
            "tf.Tensor([ 2.   0.  -3.   8.  90.1], shape=(5,), dtype=float64)\n"
          ]
        }
      ]
    },
    {
      "cell_type": "markdown",
      "source": [
        "This is simply means that tensors will take less space in ram"
      ],
      "metadata": {
        "id": "-wVbsazV2mtQ"
      }
    },
    {
      "cell_type": "markdown",
      "source": [
        "# 3. Casting of tensors to different data types"
      ],
      "metadata": {
        "id": "D9X2D7_929Kw"
      }
    },
    {
      "cell_type": "code",
      "source": [
        "tensor_one_d=tf.constant([2,0,-3, 8 ,90.1], dtype=tf.float16)\n",
        "\n",
        "casted_tensor_one_d=tf.cast(tensor_one_d, dtype=tf.int64)\n",
        "print(casted_tensor_one_d)\n",
        "print(tensor_one_d)"
      ],
      "metadata": {
        "colab": {
          "base_uri": "https://localhost:8080/"
        },
        "id": "WeLYCDJc2P9D",
        "outputId": "49054404-7f26-4c51-dce6-9ef449484e00"
      },
      "execution_count": 37,
      "outputs": [
        {
          "output_type": "stream",
          "name": "stdout",
          "text": [
            "tf.Tensor([ 2  0 -3  8 90], shape=(5,), dtype=int64)\n",
            "tf.Tensor([ 2.   0.  -3.   8.  90.1], shape=(5,), dtype=float16)\n"
          ]
        }
      ]
    },
    {
      "cell_type": "code",
      "source": [
        "tensor_two_d = tf.constant([\n",
        "    [1,2,3],\n",
        "    [3,5,-1],\n",
        "    [4,5,6],\n",
        "    [2,3,8]\n",
        "])\n",
        "\n",
        "casted_tensor_two_d=tf.cast(tensor_two_d, dtype=tf.float32)\n",
        "print(casted_tensor_two_d)\n",
        "print(tensor_two_d)"
      ],
      "metadata": {
        "colab": {
          "base_uri": "https://localhost:8080/"
        },
        "id": "h5uJVfbz3pwD",
        "outputId": "1508feb3-5f24-40a1-a971-833e3ac4018a"
      },
      "execution_count": 38,
      "outputs": [
        {
          "output_type": "stream",
          "name": "stdout",
          "text": [
            "tf.Tensor(\n",
            "[[ 1.  2.  3.]\n",
            " [ 3.  5. -1.]\n",
            " [ 4.  5.  6.]\n",
            " [ 2.  3.  8.]], shape=(4, 3), dtype=float32)\n",
            "tf.Tensor(\n",
            "[[ 1  2  3]\n",
            " [ 3  5 -1]\n",
            " [ 4  5  6]\n",
            " [ 2  3  8]], shape=(4, 3), dtype=int32)\n"
          ]
        }
      ]
    },
    {
      "cell_type": "code",
      "source": [
        "tensor_one_d=tf.constant([2,0,-3, 8 ,90.1], dtype=tf.float16)\n",
        "print(tensor_one_d)\n",
        "tensor_bool=tf.cast(tensor_one_d,dtype=tf.bool)\n",
        "print(tensor_bool)"
      ],
      "metadata": {
        "colab": {
          "base_uri": "https://localhost:8080/"
        },
        "id": "MtWhEerU4C2r",
        "outputId": "a020316b-cfdd-4701-8cc8-bf93354b5871"
      },
      "execution_count": 40,
      "outputs": [
        {
          "output_type": "stream",
          "name": "stdout",
          "text": [
            "tf.Tensor([ 2.   0.  -3.   8.  90.1], shape=(5,), dtype=float16)\n",
            "tf.Tensor([ True False  True  True  True], shape=(5,), dtype=bool)\n"
          ]
        }
      ]
    },
    {
      "cell_type": "code",
      "source": [
        "tensor_string=tf.constant([\"hello world\",\"hi\"])\n",
        "print(tensor_string)"
      ],
      "metadata": {
        "colab": {
          "base_uri": "https://localhost:8080/"
        },
        "id": "Ez2k2zMO9CLk",
        "outputId": "2f4048dd-140b-4629-dfb4-086591769f67"
      },
      "execution_count": 41,
      "outputs": [
        {
          "output_type": "stream",
          "name": "stdout",
          "text": [
            "tf.Tensor([b'hello world' b'hi'], shape=(2,), dtype=string)\n"
          ]
        }
      ]
    },
    {
      "cell_type": "markdown",
      "source": [
        "# 4. Converting Numpy to tensor"
      ],
      "metadata": {
        "id": "I0TJ6vqo9kuT"
      }
    },
    {
      "cell_type": "code",
      "source": [
        "import numpy as np\n",
        "np_array=np.array([1,2,3])\n",
        "print(np_array)\n"
      ],
      "metadata": {
        "colab": {
          "base_uri": "https://localhost:8080/"
        },
        "id": "NG2sFij49cYN",
        "outputId": "455430d0-4939-40db-e0d2-e11131e95bfd"
      },
      "execution_count": 43,
      "outputs": [
        {
          "output_type": "stream",
          "name": "stdout",
          "text": [
            "[1 2 3]\n"
          ]
        }
      ]
    },
    {
      "cell_type": "code",
      "source": [
        "converted_tensor=tf.convert_to_tensor(np_array)\n",
        "print(converted_tensor)"
      ],
      "metadata": {
        "colab": {
          "base_uri": "https://localhost:8080/"
        },
        "id": "lhNOynjd960M",
        "outputId": "e572e302-8e14-4415-d074-1261b044cc19"
      },
      "execution_count": 44,
      "outputs": [
        {
          "output_type": "stream",
          "name": "stdout",
          "text": [
            "tf.Tensor([1 2 3], shape=(3,), dtype=int64)\n"
          ]
        }
      ]
    },
    {
      "cell_type": "code",
      "source": [
        "#recheck the type\n",
        "print(type(np_array))\n",
        "print(type(converted_tensor))"
      ],
      "metadata": {
        "colab": {
          "base_uri": "https://localhost:8080/"
        },
        "id": "zshxLzbm-Pet",
        "outputId": "3b02f1fc-6c32-41c2-fd58-0390a09a98c8"
      },
      "execution_count": 45,
      "outputs": [
        {
          "output_type": "stream",
          "name": "stdout",
          "text": [
            "<class 'numpy.ndarray'>\n",
            "<class 'tensorflow.python.framework.ops.EagerTensor'>\n"
          ]
        }
      ]
    },
    {
      "cell_type": "markdown",
      "source": [
        "# 5. Using eye method\n"
      ],
      "metadata": {
        "id": "DWUTxbMTBZgf"
      }
    },
    {
      "cell_type": "code",
      "source": [
        "# got this code form \"https://www.tensorflow.org/api_docs/python/tf/eye\"\n",
        "eye_tensor=tf.eye(\n",
        "    num_rows=3,\n",
        "    num_columns=None,\n",
        "    batch_shape=None,\n",
        "    dtype=tf.dtypes.float16,\n",
        "    name=None\n",
        ")\n",
        "print(3*eye_tensor)"
      ],
      "metadata": {
        "colab": {
          "base_uri": "https://localhost:8080/"
        },
        "id": "q0Gl3Q4-Bb8U",
        "outputId": "c426de28-8f8e-4947-dc5e-b84135af552a"
      },
      "execution_count": 52,
      "outputs": [
        {
          "output_type": "stream",
          "name": "stdout",
          "text": [
            "tf.Tensor(\n",
            "[[3. 0. 0.]\n",
            " [0. 3. 0.]\n",
            " [0. 0. 3.]], shape=(3, 3), dtype=float16)\n"
          ]
        }
      ]
    },
    {
      "cell_type": "code",
      "source": [
        "eye_tensor=tf.eye(\n",
        "    num_rows=3,\n",
        "    num_columns=None,\n",
        "    batch_shape=None,\n",
        "    dtype=tf.dtypes.bool,\n",
        "    name=None\n",
        ")\n",
        "print(eye_tensor)"
      ],
      "metadata": {
        "colab": {
          "base_uri": "https://localhost:8080/"
        },
        "id": "Ee5FQKS_BtmY",
        "outputId": "6f9b564c-8d6f-467a-cfa8-d23b521abed1"
      },
      "execution_count": 53,
      "outputs": [
        {
          "output_type": "stream",
          "name": "stdout",
          "text": [
            "tf.Tensor(\n",
            "[[ True False False]\n",
            " [False  True False]\n",
            " [False False  True]], shape=(3, 3), dtype=bool)\n"
          ]
        }
      ]
    },
    {
      "cell_type": "code",
      "source": [
        "# changing batch size\n",
        "eye_tensor=tf.eye(\n",
        "    num_rows=5,\n",
        "    num_columns=None,\n",
        "    batch_shape=[3,],\n",
        "    dtype=tf.dtypes.float32,\n",
        "    name=None\n",
        ")\n",
        "print(eye_tensor)"
      ],
      "metadata": {
        "colab": {
          "base_uri": "https://localhost:8080/"
        },
        "id": "OkhiVoYKCGeb",
        "outputId": "0312fedc-ad92-407d-ad10-18eac98614a0"
      },
      "execution_count": 58,
      "outputs": [
        {
          "output_type": "stream",
          "name": "stdout",
          "text": [
            "tf.Tensor(\n",
            "[[[1. 0. 0. 0. 0.]\n",
            "  [0. 1. 0. 0. 0.]\n",
            "  [0. 0. 1. 0. 0.]\n",
            "  [0. 0. 0. 1. 0.]\n",
            "  [0. 0. 0. 0. 1.]]\n",
            "\n",
            " [[1. 0. 0. 0. 0.]\n",
            "  [0. 1. 0. 0. 0.]\n",
            "  [0. 0. 1. 0. 0.]\n",
            "  [0. 0. 0. 1. 0.]\n",
            "  [0. 0. 0. 0. 1.]]\n",
            "\n",
            " [[1. 0. 0. 0. 0.]\n",
            "  [0. 1. 0. 0. 0.]\n",
            "  [0. 0. 1. 0. 0.]\n",
            "  [0. 0. 0. 1. 0.]\n",
            "  [0. 0. 0. 0. 1.]]], shape=(3, 5, 5), dtype=float32)\n"
          ]
        }
      ]
    },
    {
      "cell_type": "code",
      "source": [
        "# changing batch size\n",
        "eye_tensor=tf.eye(\n",
        "    num_rows=5,\n",
        "    num_columns=None,\n",
        "    batch_shape=[2,],\n",
        "    dtype=tf.dtypes.float32,\n",
        "    name=None\n",
        ")\n",
        "print(eye_tensor)"
      ],
      "metadata": {
        "colab": {
          "base_uri": "https://localhost:8080/"
        },
        "id": "lb8v0ymKCGbt",
        "outputId": "61a4f2f8-82c8-49c5-a2d7-9de4246c0f4e"
      },
      "execution_count": 59,
      "outputs": [
        {
          "output_type": "stream",
          "name": "stdout",
          "text": [
            "tf.Tensor(\n",
            "[[[1. 0. 0. 0. 0.]\n",
            "  [0. 1. 0. 0. 0.]\n",
            "  [0. 0. 1. 0. 0.]\n",
            "  [0. 0. 0. 1. 0.]\n",
            "  [0. 0. 0. 0. 1.]]\n",
            "\n",
            " [[1. 0. 0. 0. 0.]\n",
            "  [0. 1. 0. 0. 0.]\n",
            "  [0. 0. 1. 0. 0.]\n",
            "  [0. 0. 0. 1. 0.]\n",
            "  [0. 0. 0. 0. 1.]]], shape=(2, 5, 5), dtype=float32)\n"
          ]
        }
      ]
    },
    {
      "cell_type": "code",
      "source": [
        "# changing batch size\n",
        "eye_tensor=tf.eye(\n",
        "    num_rows=5,\n",
        "    num_columns=None,\n",
        "    batch_shape=[2,4],\n",
        "    dtype=tf.dtypes.float32,\n",
        "    name=None\n",
        ")\n",
        "print(eye_tensor)"
      ],
      "metadata": {
        "colab": {
          "base_uri": "https://localhost:8080/"
        },
        "id": "b-F11IP_CGZT",
        "outputId": "8fd7b5d8-9052-466c-ab65-9ca52c4f362b"
      },
      "execution_count": 60,
      "outputs": [
        {
          "output_type": "stream",
          "name": "stdout",
          "text": [
            "tf.Tensor(\n",
            "[[[[1. 0. 0. 0. 0.]\n",
            "   [0. 1. 0. 0. 0.]\n",
            "   [0. 0. 1. 0. 0.]\n",
            "   [0. 0. 0. 1. 0.]\n",
            "   [0. 0. 0. 0. 1.]]\n",
            "\n",
            "  [[1. 0. 0. 0. 0.]\n",
            "   [0. 1. 0. 0. 0.]\n",
            "   [0. 0. 1. 0. 0.]\n",
            "   [0. 0. 0. 1. 0.]\n",
            "   [0. 0. 0. 0. 1.]]\n",
            "\n",
            "  [[1. 0. 0. 0. 0.]\n",
            "   [0. 1. 0. 0. 0.]\n",
            "   [0. 0. 1. 0. 0.]\n",
            "   [0. 0. 0. 1. 0.]\n",
            "   [0. 0. 0. 0. 1.]]\n",
            "\n",
            "  [[1. 0. 0. 0. 0.]\n",
            "   [0. 1. 0. 0. 0.]\n",
            "   [0. 0. 1. 0. 0.]\n",
            "   [0. 0. 0. 1. 0.]\n",
            "   [0. 0. 0. 0. 1.]]]\n",
            "\n",
            "\n",
            " [[[1. 0. 0. 0. 0.]\n",
            "   [0. 1. 0. 0. 0.]\n",
            "   [0. 0. 1. 0. 0.]\n",
            "   [0. 0. 0. 1. 0.]\n",
            "   [0. 0. 0. 0. 1.]]\n",
            "\n",
            "  [[1. 0. 0. 0. 0.]\n",
            "   [0. 1. 0. 0. 0.]\n",
            "   [0. 0. 1. 0. 0.]\n",
            "   [0. 0. 0. 1. 0.]\n",
            "   [0. 0. 0. 0. 1.]]\n",
            "\n",
            "  [[1. 0. 0. 0. 0.]\n",
            "   [0. 1. 0. 0. 0.]\n",
            "   [0. 0. 1. 0. 0.]\n",
            "   [0. 0. 0. 1. 0.]\n",
            "   [0. 0. 0. 0. 1.]]\n",
            "\n",
            "  [[1. 0. 0. 0. 0.]\n",
            "   [0. 1. 0. 0. 0.]\n",
            "   [0. 0. 1. 0. 0.]\n",
            "   [0. 0. 0. 1. 0.]\n",
            "   [0. 0. 0. 0. 1.]]]], shape=(2, 4, 5, 5), dtype=float32)\n"
          ]
        }
      ]
    },
    {
      "cell_type": "markdown",
      "source": [
        "# 5. Using Fill method\n"
      ],
      "metadata": {
        "id": "UQGyi5fVC7DT"
      }
    },
    {
      "cell_type": "code",
      "source": [
        "# https://www.tensorflow.org/api_docs/python/tf/fill\n",
        "fill_tensor=tf.fill(\n",
        "    [1,3,4], 5, name=None, layout=None\n",
        ")\n",
        "print(fill_tensor) # 3d"
      ],
      "metadata": {
        "colab": {
          "base_uri": "https://localhost:8080/"
        },
        "id": "UdfWNzVDC904",
        "outputId": "e8588e7c-8979-41bc-8fc2-a7e3ce1a13b9"
      },
      "execution_count": 61,
      "outputs": [
        {
          "output_type": "stream",
          "name": "stdout",
          "text": [
            "tf.Tensor(\n",
            "[[[5 5 5 5]\n",
            "  [5 5 5 5]\n",
            "  [5 5 5 5]]], shape=(1, 3, 4), dtype=int32)\n"
          ]
        }
      ]
    },
    {
      "cell_type": "markdown",
      "source": [
        "# 6. Using Ones method  "
      ],
      "metadata": {
        "id": "cDvCaGIVDbE8"
      }
    },
    {
      "cell_type": "code",
      "source": [
        "# https://www.tensorflow.org/api_docs/python/tf/ones\n",
        "ones_tensor=tf.ones(\n",
        "    [5,3], #shape 2d\n",
        "    dtype=tf.dtypes.float32,\n",
        "    name=None,\n",
        "    layout=None\n",
        ")\n",
        "print(ones_tensor)"
      ],
      "metadata": {
        "colab": {
          "base_uri": "https://localhost:8080/"
        },
        "id": "2sOUvuxQDedx",
        "outputId": "e4ba0046-d660-4eb9-edb9-39942a8ffd80"
      },
      "execution_count": 62,
      "outputs": [
        {
          "output_type": "stream",
          "name": "stdout",
          "text": [
            "tf.Tensor(\n",
            "[[1. 1. 1.]\n",
            " [1. 1. 1.]\n",
            " [1. 1. 1.]\n",
            " [1. 1. 1.]\n",
            " [1. 1. 1.]], shape=(5, 3), dtype=float32)\n"
          ]
        }
      ]
    },
    {
      "cell_type": "code",
      "source": [
        "ones_tensor=tf.ones(\n",
        "    [5,3,2], #shape 3d\n",
        "    dtype=tf.dtypes.float32,\n",
        "    name=None,\n",
        "    layout=None\n",
        ")\n",
        "print(ones_tensor)"
      ],
      "metadata": {
        "colab": {
          "base_uri": "https://localhost:8080/"
        },
        "id": "6JvoLA2qEDpg",
        "outputId": "704f60b6-c37d-4a83-a1a5-4c251481dfb2"
      },
      "execution_count": 63,
      "outputs": [
        {
          "output_type": "stream",
          "name": "stdout",
          "text": [
            "tf.Tensor(\n",
            "[[[1. 1.]\n",
            "  [1. 1.]\n",
            "  [1. 1.]]\n",
            "\n",
            " [[1. 1.]\n",
            "  [1. 1.]\n",
            "  [1. 1.]]\n",
            "\n",
            " [[1. 1.]\n",
            "  [1. 1.]\n",
            "  [1. 1.]]\n",
            "\n",
            " [[1. 1.]\n",
            "  [1. 1.]\n",
            "  [1. 1.]]\n",
            "\n",
            " [[1. 1.]\n",
            "  [1. 1.]\n",
            "  [1. 1.]]], shape=(5, 3, 2), dtype=float32)\n"
          ]
        }
      ]
    },
    {
      "cell_type": "markdown",
      "source": [
        "# 7. Using Ones like Method"
      ],
      "metadata": {
        "id": "1x4U9OL2EPzZ"
      }
    },
    {
      "cell_type": "code",
      "source": [
        "# https://www.tensorflow.org/api_docs/python/tf/ones_like\n",
        "once_like_tensor = tf.ones_like(fill_tensor)\n",
        "print(once_like_tensor)"
      ],
      "metadata": {
        "colab": {
          "base_uri": "https://localhost:8080/"
        },
        "id": "4YCmMoUcESwP",
        "outputId": "09b8a62e-69b5-4a2b-8818-80aae30ea252"
      },
      "execution_count": 67,
      "outputs": [
        {
          "output_type": "stream",
          "name": "stdout",
          "text": [
            "tf.Tensor(\n",
            "[[[1 1 1 1]\n",
            "  [1 1 1 1]\n",
            "  [1 1 1 1]]], shape=(1, 3, 4), dtype=int32)\n"
          ]
        }
      ]
    },
    {
      "cell_type": "markdown",
      "source": [
        "# 8. Using Zeros method"
      ],
      "metadata": {
        "id": "WPERMpnKFtpW"
      }
    },
    {
      "cell_type": "code",
      "source": [
        "#https://www.tensorflow.org/api_docs/python/tf/zeros\n",
        "zeros_tensor=tf.zeros(\n",
        "    [3,2],\n",
        "    dtype=tf.dtypes.float32,\n",
        "    name=None,\n",
        "    layout=None\n",
        ")\n",
        "print(zeros_tensor)"
      ],
      "metadata": {
        "colab": {
          "base_uri": "https://localhost:8080/"
        },
        "id": "ZZbg5pVZEmvf",
        "outputId": "3750c448-136f-413d-b744-4d6ba1a6a4f1"
      },
      "execution_count": 68,
      "outputs": [
        {
          "output_type": "stream",
          "name": "stdout",
          "text": [
            "tf.Tensor(\n",
            "[[0. 0.]\n",
            " [0. 0.]\n",
            " [0. 0.]], shape=(3, 2), dtype=float32)\n"
          ]
        }
      ]
    },
    {
      "cell_type": "markdown",
      "source": [
        "# 9. Using shape method"
      ],
      "metadata": {
        "id": "yKvVwzg5GKmm"
      }
    },
    {
      "cell_type": "code",
      "source": [
        "#https://www.tensorflow.org/api_docs/python/tf/shape\n",
        "print(tensor_three_d)"
      ],
      "metadata": {
        "colab": {
          "base_uri": "https://localhost:8080/"
        },
        "id": "7czU11m6GVB5",
        "outputId": "05265c58-f822-4adc-9157-c56cc8c59bcc"
      },
      "execution_count": 73,
      "outputs": [
        {
          "output_type": "stream",
          "name": "stdout",
          "text": [
            "tf.Tensor(\n",
            "[[[1 2 3]\n",
            "  [4 5 6]]\n",
            "\n",
            " [[5 6 4]\n",
            "  [2 0 6]]\n",
            "\n",
            " [[9 2 1]\n",
            "  [4 9 5]]\n",
            "\n",
            " [[1 5 3]\n",
            "  [0 1 6]]], shape=(4, 2, 3), dtype=int32)\n"
          ]
        }
      ]
    },
    {
      "cell_type": "code",
      "source": [
        "print(tf.shape(tensor_three_d))"
      ],
      "metadata": {
        "colab": {
          "base_uri": "https://localhost:8080/"
        },
        "id": "tzRM5M0DGl9H",
        "outputId": "276e8ea8-afd0-489b-a9b6-0d13b101e3ff"
      },
      "execution_count": 72,
      "outputs": [
        {
          "output_type": "stream",
          "name": "stdout",
          "text": [
            "tf.Tensor([4 2 3], shape=(3,), dtype=int32)\n"
          ]
        }
      ]
    },
    {
      "cell_type": "markdown",
      "source": [
        "# 10.Rank method"
      ],
      "metadata": {
        "id": "JpxhLDgiHCL2"
      }
    },
    {
      "cell_type": "code",
      "source": [
        "# https://www.tensorflow.org/api_docs/python/tf/rank\n",
        "# shape of tensor 't' is [2, 2, 3]\n",
        "t = tf.constant([[1, 1, 1], [2, 2, 2]])\n",
        "tf.rank(t)  # 3\n"
      ],
      "metadata": {
        "colab": {
          "base_uri": "https://localhost:8080/"
        },
        "id": "D_ZUQYucGtwY",
        "outputId": "67db7770-428d-4f18-bdcf-c250bf336e95"
      },
      "execution_count": 76,
      "outputs": [
        {
          "output_type": "execute_result",
          "data": {
            "text/plain": [
              "<tf.Tensor: shape=(), dtype=int32, numpy=2>"
            ]
          },
          "metadata": {},
          "execution_count": 76
        }
      ]
    },
    {
      "cell_type": "markdown",
      "source": [
        "# 11.Size method"
      ],
      "metadata": {
        "id": "CCLlxL1XJQ9g"
      }
    },
    {
      "cell_type": "code",
      "source": [
        "#https://www.tensorflow.org/api_docs/python/tf/size\n",
        "#tf.shape.- Returns a 0-D Tensor representing the number of elements in input of type out_type. Defaults to tf.int32.\n",
        "t = tf.constant([[[1, 1, 1], [2, 2, 2]], [[3, 3, 3], [4, 4, 4]]])\n",
        "tf.size(t)"
      ],
      "metadata": {
        "colab": {
          "base_uri": "https://localhost:8080/"
        },
        "id": "F-zcEvXoI-Et",
        "outputId": "8c1ec31a-f331-4c3c-a918-8018d29042a6"
      },
      "execution_count": 78,
      "outputs": [
        {
          "output_type": "execute_result",
          "data": {
            "text/plain": [
              "<tf.Tensor: shape=(), dtype=int32, numpy=12>"
            ]
          },
          "metadata": {},
          "execution_count": 78
        }
      ]
    },
    {
      "cell_type": "code",
      "source": [
        "t = tf.constant([[1, 1, 1], [2, 2, 2]])\n",
        "tf.size(t)"
      ],
      "metadata": {
        "colab": {
          "base_uri": "https://localhost:8080/"
        },
        "id": "Nac5ASGXJTxR",
        "outputId": "c98e685f-a103-4eaa-8210-25839688c63d"
      },
      "execution_count": 84,
      "outputs": [
        {
          "output_type": "execute_result",
          "data": {
            "text/plain": [
              "<tf.Tensor: shape=(), dtype=int32, numpy=6>"
            ]
          },
          "metadata": {},
          "execution_count": 84
        }
      ]
    },
    {
      "cell_type": "code",
      "source": [
        "#change the dtype- here called outtype\n",
        "\n",
        "t = tf.constant([[1, 1, 1], [2, 2, 2]],)\n",
        "tf.size(t,out_type=tf.float32)"
      ],
      "metadata": {
        "colab": {
          "base_uri": "https://localhost:8080/"
        },
        "id": "e8PwJ00fJTuz",
        "outputId": "3740cfc9-05b7-420a-d6c7-a998a802fd1b"
      },
      "execution_count": 86,
      "outputs": [
        {
          "output_type": "execute_result",
          "data": {
            "text/plain": [
              "<tf.Tensor: shape=(), dtype=float32, numpy=6.0>"
            ]
          },
          "metadata": {},
          "execution_count": 86
        }
      ]
    },
    {
      "cell_type": "markdown",
      "source": [
        "# 12.Random Normal method"
      ],
      "metadata": {
        "id": "W-E82cQXKcK3"
      }
    },
    {
      "cell_type": "code",
      "source": [
        "# https://www.tensorflow.org/api_docs/python/tf/random/normal\n",
        "# Outputs random values from a normal distribution.\n",
        "random_tensor=tf.random.normal(\n",
        "    [3,2],\n",
        "    mean=0.0, # this is normal distribution\n",
        "    stddev=1.0, # this is normal distribution\n",
        "    dtype=tf.dtypes.float32,\n",
        "    seed=None,\n",
        "    name=None\n",
        ")\n",
        "print(random_tensor) # if you see the all elements in matrix are very close to 0 showing Normal distribution"
      ],
      "metadata": {
        "colab": {
          "base_uri": "https://localhost:8080/"
        },
        "id": "_OKe-1OAJTsD",
        "outputId": "6400d1e1-6758-40c8-8f85-02db8058b2a7"
      },
      "execution_count": 87,
      "outputs": [
        {
          "output_type": "stream",
          "name": "stdout",
          "text": [
            "tf.Tensor(\n",
            "[[ 0.2750867  -0.43862012]\n",
            " [-0.14218335  0.40876484]\n",
            " [-0.75498474 -0.90786606]], shape=(3, 2), dtype=float32)\n"
          ]
        }
      ]
    },
    {
      "cell_type": "code",
      "source": [
        "random_tensor=tf.random.normal(\n",
        "    [3,2],\n",
        "    mean=100, # this is normal distribution\n",
        "    stddev=1.0, # this is normal distribution\n",
        "    dtype=tf.dtypes.float32,\n",
        "    seed=None,\n",
        "    name=None\n",
        ")\n",
        "print(random_tensor) # if you see the all elements in matrix are far away from 0 close to 100 showing No Normal distribution"
      ],
      "metadata": {
        "colab": {
          "base_uri": "https://localhost:8080/"
        },
        "id": "KrCnHsGvJTpW",
        "outputId": "e8723441-1909-48be-8538-e76131594798"
      },
      "execution_count": 88,
      "outputs": [
        {
          "output_type": "stream",
          "name": "stdout",
          "text": [
            "tf.Tensor(\n",
            "[[ 99.73101  100.62563 ]\n",
            " [ 99.619644  99.33961 ]\n",
            " [ 98.33884   99.67424 ]], shape=(3, 2), dtype=float32)\n"
          ]
        }
      ]
    },
    {
      "cell_type": "markdown",
      "source": [
        "# 11. Uniform method"
      ],
      "metadata": {
        "id": "dv6IgO72O9Cz"
      }
    },
    {
      "cell_type": "code",
      "source": [
        "# https://www.tensorflow.org/api_docs/python/tf/random/uniform\n",
        "random_tensor=tf.random.uniform(\n",
        "    [5,],\n",
        "    minval=0,\n",
        "    maxval=8,\n",
        "    dtype=tf.dtypes.float32,\n",
        "    seed=None,\n",
        "    name=None\n",
        ")\n",
        "print(random_tensor)"
      ],
      "metadata": {
        "colab": {
          "base_uri": "https://localhost:8080/"
        },
        "id": "e2tFVg-2PBf7",
        "outputId": "4c90a172-a118-4444-a26d-a1c931fa28b2"
      },
      "execution_count": 91,
      "outputs": [
        {
          "output_type": "stream",
          "name": "stdout",
          "text": [
            "tf.Tensor([0.7093086 4.782407  7.717207  2.840849  6.352215 ], shape=(5,), dtype=float32)\n"
          ]
        }
      ]
    },
    {
      "cell_type": "code",
      "source": [
        "random_tensor=tf.random.uniform(\n",
        "    [1,],\n",
        "    minval=0,\n",
        "    maxval=None,\n",
        "    dtype=tf.dtypes.float32,\n",
        "    seed=None,\n",
        "    name=None\n",
        ")\n",
        "print(random_tensor)"
      ],
      "metadata": {
        "colab": {
          "base_uri": "https://localhost:8080/"
        },
        "id": "RxCnBgZIPbr1",
        "outputId": "60cde0ff-f7b6-4326-c98a-f03be75f7a4c"
      },
      "execution_count": 93,
      "outputs": [
        {
          "output_type": "stream",
          "name": "stdout",
          "text": [
            "tf.Tensor([0.56499684], shape=(1,), dtype=float32)\n"
          ]
        }
      ]
    },
    {
      "cell_type": "code",
      "source": [
        "random_tensor=tf.random.uniform(\n",
        "    [2,2],\n",
        "    minval=0,\n",
        "    maxval=100,\n",
        "    dtype=tf.dtypes.int32,\n",
        "    seed=None,\n",
        "    name=None\n",
        ")\n",
        "print(random_tensor)"
      ],
      "metadata": {
        "colab": {
          "base_uri": "https://localhost:8080/"
        },
        "id": "1Wy-gVHiPtBD",
        "outputId": "3cf1e685-bd65-447a-90fb-6c6286549407"
      },
      "execution_count": 98,
      "outputs": [
        {
          "output_type": "stream",
          "name": "stdout",
          "text": [
            "tf.Tensor(\n",
            "[[26 84]\n",
            " [13 40]], shape=(2, 2), dtype=int32)\n"
          ]
        }
      ]
    },
    {
      "cell_type": "code",
      "source": [
        "random_tensor=tf.random.uniform(\n",
        "    [5,5],\n",
        "    minval=0,\n",
        "    maxval=1000,\n",
        "    dtype=tf.dtypes.int32,\n",
        "    seed=None,\n",
        "    name=None\n",
        ")\n",
        "print(random_tensor)"
      ],
      "metadata": {
        "colab": {
          "base_uri": "https://localhost:8080/"
        },
        "id": "Jmr-Xb3RRPr-",
        "outputId": "1e2a0198-acf0-4bfe-e47d-d67a28471edd"
      },
      "execution_count": 96,
      "outputs": [
        {
          "output_type": "stream",
          "name": "stdout",
          "text": [
            "tf.Tensor(\n",
            "[[496 325 831 556 989]\n",
            " [739 259 458 535 676]\n",
            " [834  47 821 652 525]\n",
            " [274 976 109 556 768]\n",
            " [372 863 663 649 241]], shape=(5, 5), dtype=int32)\n"
          ]
        }
      ]
    },
    {
      "cell_type": "code",
      "source": [],
      "metadata": {
        "id": "iQ_7g3VJRxgO"
      },
      "execution_count": null,
      "outputs": []
    },
    {
      "cell_type": "markdown",
      "source": [
        "# 12.RandomSeed"
      ],
      "metadata": {
        "id": "XGFvhy_RR_07"
      }
    },
    {
      "cell_type": "code",
      "source": [
        "# https://www.tensorflow.org/api_docs/python/tf/random/set_seed\n",
        "\n",
        "tf.random.set_seed(5)\n",
        "print(tf.random.uniform(shape=[3,],maxval=5,dtype=tf.int32,seed=10))\n",
        "print(tf.random.uniform(shape=[3,],maxval=5,dtype=tf.int32,seed=10))\n",
        "print(tf.random.uniform(shape=[3,],maxval=5,dtype=tf.int32,seed=10))\n",
        "print(tf.random.uniform(shape=[3,],maxval=5,dtype=tf.int32,seed=10))\n",
        "print(tf.random.uniform(shape=[3,],maxval=5,dtype=tf.int32,seed=10))\n",
        "\n",
        "\n",
        ""
      ],
      "metadata": {
        "colab": {
          "base_uri": "https://localhost:8080/"
        },
        "id": "zu_lw58BSEVP",
        "outputId": "bcf0557f-52b4-446c-fc58-feaca3cf2646"
      },
      "execution_count": 99,
      "outputs": [
        {
          "output_type": "stream",
          "name": "stdout",
          "text": [
            "tf.Tensor([4 3 1], shape=(3,), dtype=int32)\n",
            "tf.Tensor([4 3 2], shape=(3,), dtype=int32)\n",
            "tf.Tensor([1 1 1], shape=(3,), dtype=int32)\n",
            "tf.Tensor([1 3 3], shape=(3,), dtype=int32)\n",
            "tf.Tensor([4 2 2], shape=(3,), dtype=int32)\n"
          ]
        }
      ]
    },
    {
      "cell_type": "code",
      "source": [
        "tf.random.set_seed(5)\n",
        "print(tf.random.uniform(shape=[3,],maxval=5,dtype=tf.int32,seed=10))\n",
        "print(tf.random.uniform(shape=[3,],maxval=5,dtype=tf.int32,seed=10))\n",
        "print(tf.random.uniform(shape=[3,],maxval=5,dtype=tf.int32,seed=10))\n",
        "print(tf.random.uniform(shape=[3,],maxval=5,dtype=tf.int32,seed=10))\n",
        "print(tf.random.uniform(shape=[3,],maxval=5,dtype=tf.int32,seed=10))\n",
        "\n",
        ""
      ],
      "metadata": {
        "colab": {
          "base_uri": "https://localhost:8080/"
        },
        "id": "5B2yTNa7S_F4",
        "outputId": "75aa68e4-de09-4285-8218-b0c59251cd8a"
      },
      "execution_count": 100,
      "outputs": [
        {
          "output_type": "stream",
          "name": "stdout",
          "text": [
            "tf.Tensor([4 3 1], shape=(3,), dtype=int32)\n",
            "tf.Tensor([4 3 2], shape=(3,), dtype=int32)\n",
            "tf.Tensor([1 1 1], shape=(3,), dtype=int32)\n",
            "tf.Tensor([1 3 3], shape=(3,), dtype=int32)\n",
            "tf.Tensor([4 2 2], shape=(3,), dtype=int32)\n"
          ]
        }
      ]
    },
    {
      "cell_type": "markdown",
      "source": [
        "* See that since seed is set to 10  even the though the random method is used we are able to reproduce the same result"
      ],
      "metadata": {
        "id": "N1TGm7LqTCZB"
      }
    },
    {
      "cell_type": "code",
      "source": [
        "# change seed and see results change s\n",
        "\n",
        "tf.random.set_seed(5)\n",
        "print(tf.random.uniform(shape=[3,],maxval=5,dtype=tf.int32,seed=10))\n",
        "print(tf.random.uniform(shape=[3,],maxval=5,dtype=tf.int32,seed=10))\n",
        "print(tf.random.uniform(shape=[3,],maxval=5,dtype=tf.int32,seed=10))\n",
        "print(tf.random.uniform(shape=[3,],maxval=5,dtype=tf.int32,seed=10))\n",
        "print(tf.random.uniform(shape=[3,],maxval=5,dtype=tf.int32,seed=1)) # i changed this\n"
      ],
      "metadata": {
        "colab": {
          "base_uri": "https://localhost:8080/"
        },
        "id": "4GBv_Ni3TQKG",
        "outputId": "f72c7aef-ffcd-4f9d-85a5-960ef601c853"
      },
      "execution_count": 101,
      "outputs": [
        {
          "output_type": "stream",
          "name": "stdout",
          "text": [
            "tf.Tensor([4 3 1], shape=(3,), dtype=int32)\n",
            "tf.Tensor([4 3 2], shape=(3,), dtype=int32)\n",
            "tf.Tensor([1 1 1], shape=(3,), dtype=int32)\n",
            "tf.Tensor([1 3 3], shape=(3,), dtype=int32)\n",
            "tf.Tensor([4 1 3], shape=(3,), dtype=int32)\n"
          ]
        }
      ]
    },
    {
      "cell_type": "code",
      "source": [
        "# change seed and see results change s\n",
        "\n",
        "tf.random.set_seed(2) # now i changed this\n",
        "print(tf.random.uniform(shape=[3,],maxval=5,dtype=tf.int32,seed=10))\n",
        "print(tf.random.uniform(shape=[3,],maxval=5,dtype=tf.int32,seed=10))\n",
        "print(tf.random.uniform(shape=[3,],maxval=5,dtype=tf.int32,seed=10))\n",
        "print(tf.random.uniform(shape=[3,],maxval=5,dtype=tf.int32,seed=10))\n",
        "print(tf.random.uniform(shape=[3,],maxval=5,dtype=tf.int32,seed=1)) # i changed this"
      ],
      "metadata": {
        "colab": {
          "base_uri": "https://localhost:8080/"
        },
        "id": "zfCGDUi6Ta_o",
        "outputId": "3ed457bc-13fb-4742-942a-5a5ec7b40681"
      },
      "execution_count": 102,
      "outputs": [
        {
          "output_type": "stream",
          "name": "stdout",
          "text": [
            "tf.Tensor([1 2 1], shape=(3,), dtype=int32)\n",
            "tf.Tensor([2 2 2], shape=(3,), dtype=int32)\n",
            "tf.Tensor([4 0 1], shape=(3,), dtype=int32)\n",
            "tf.Tensor([3 2 1], shape=(3,), dtype=int32)\n",
            "tf.Tensor([4 2 0], shape=(3,), dtype=int32)\n"
          ]
        }
      ]
    },
    {
      "cell_type": "code",
      "source": [
        "# change seed and see results change s\n",
        "\n",
        "tf.random.set_seed(5) # now i change it back to 5 to see reproducebility\n",
        "print(tf.random.uniform(shape=[3,],maxval=5,dtype=tf.int32,seed=10))\n",
        "print(tf.random.uniform(shape=[3,],maxval=5,dtype=tf.int32,seed=10))\n",
        "print(tf.random.uniform(shape=[3,],maxval=5,dtype=tf.int32,seed=10))\n",
        "print(tf.random.uniform(shape=[3,],maxval=5,dtype=tf.int32,seed=10))\n",
        "print(tf.random.uniform(shape=[3,],maxval=5,dtype=tf.int32,seed=10))"
      ],
      "metadata": {
        "colab": {
          "base_uri": "https://localhost:8080/"
        },
        "id": "br2v4jzvTknW",
        "outputId": "f384201e-1a84-4426-e188-7b92e932d0af"
      },
      "execution_count": 104,
      "outputs": [
        {
          "output_type": "stream",
          "name": "stdout",
          "text": [
            "tf.Tensor([4 3 1], shape=(3,), dtype=int32)\n",
            "tf.Tensor([4 3 2], shape=(3,), dtype=int32)\n",
            "tf.Tensor([1 1 1], shape=(3,), dtype=int32)\n",
            "tf.Tensor([1 3 3], shape=(3,), dtype=int32)\n",
            "tf.Tensor([4 2 2], shape=(3,), dtype=int32)\n"
          ]
        }
      ]
    },
    {
      "cell_type": "markdown",
      "source": [
        "# 12. Tensor Index"
      ],
      "metadata": {
        "id": "XXwfJy_WT8Kf"
      }
    },
    {
      "cell_type": "markdown",
      "source": [
        "#### 1 D tensor Indexing"
      ],
      "metadata": {
        "id": "iI_AICEVXHus"
      }
    },
    {
      "cell_type": "code",
      "source": [
        "tensor_indexed= tf.constant([2,3,4,9,9,2,4,7])"
      ],
      "metadata": {
        "id": "T0M8PfyGT74i"
      },
      "execution_count": 105,
      "outputs": []
    },
    {
      "cell_type": "code",
      "source": [
        "print(tensor_indexed[3])"
      ],
      "metadata": {
        "colab": {
          "base_uri": "https://localhost:8080/"
        },
        "id": "WEUBVmk0TypH",
        "outputId": "a7e836e2-3b2e-4185-bb49-b302a43fbe0c"
      },
      "execution_count": 106,
      "outputs": [
        {
          "output_type": "stream",
          "name": "stdout",
          "text": [
            "tf.Tensor(9, shape=(), dtype=int32)\n"
          ]
        }
      ]
    },
    {
      "cell_type": "code",
      "source": [
        "#first  element\n",
        "print(tensor_indexed[0])"
      ],
      "metadata": {
        "colab": {
          "base_uri": "https://localhost:8080/"
        },
        "id": "ImDlYgj9UXh3",
        "outputId": "fee4278e-f6f6-4f67-b2c4-ce22106803ce"
      },
      "execution_count": 107,
      "outputs": [
        {
          "output_type": "stream",
          "name": "stdout",
          "text": [
            "tf.Tensor(2, shape=(), dtype=int32)\n"
          ]
        }
      ]
    },
    {
      "cell_type": "code",
      "source": [
        "#last element\n",
        "print(tensor_indexed[-1])"
      ],
      "metadata": {
        "colab": {
          "base_uri": "https://localhost:8080/"
        },
        "id": "Om1k8wbSUeCm",
        "outputId": "540801b9-6d1a-4320-e8bc-7e2aa6d86960"
      },
      "execution_count": 108,
      "outputs": [
        {
          "output_type": "stream",
          "name": "stdout",
          "text": [
            "tf.Tensor(7, shape=(), dtype=int32)\n"
          ]
        }
      ]
    },
    {
      "cell_type": "code",
      "source": [
        "# just get a segment of the tensor\n",
        "print(tensor_indexed[1:7])"
      ],
      "metadata": {
        "colab": {
          "base_uri": "https://localhost:8080/"
        },
        "id": "6r4qYxVfUg4_",
        "outputId": "1aac8720-f994-4751-dc29-018f30cf88d3"
      },
      "execution_count": 112,
      "outputs": [
        {
          "output_type": "stream",
          "name": "stdout",
          "text": [
            "tf.Tensor([3 4 9 9 2 4], shape=(6,), dtype=int32)\n"
          ]
        }
      ]
    },
    {
      "cell_type": "code",
      "source": [
        "# just get a segment of the tensor\n",
        "print(tensor_indexed[0:3])"
      ],
      "metadata": {
        "colab": {
          "base_uri": "https://localhost:8080/"
        },
        "id": "HtPEMTi3UzhZ",
        "outputId": "21ea0060-4c8f-4fde-ad29-e3ac1d081d2e"
      },
      "execution_count": 114,
      "outputs": [
        {
          "output_type": "stream",
          "name": "stdout",
          "text": [
            "tf.Tensor([2 3 4], shape=(3,), dtype=int32)\n"
          ]
        }
      ]
    },
    {
      "cell_type": "code",
      "source": [
        "# just get a segment of the tensor\n",
        "print(tensor_indexed[3:])"
      ],
      "metadata": {
        "colab": {
          "base_uri": "https://localhost:8080/"
        },
        "id": "8eYK8kylVO2Y",
        "outputId": "b696dcad-0003-4802-dc26-079ad4d70c1b"
      },
      "execution_count": 115,
      "outputs": [
        {
          "output_type": "stream",
          "name": "stdout",
          "text": [
            "tf.Tensor([9 9 2 4 7], shape=(5,), dtype=int32)\n"
          ]
        }
      ]
    },
    {
      "cell_type": "code",
      "source": [
        "print(tensor_indexed)\n",
        "print(tensor_indexed[0:5])\n",
        "print(tensor_indexed[:5:2])"
      ],
      "metadata": {
        "colab": {
          "base_uri": "https://localhost:8080/"
        },
        "id": "XZGhiWNfWHZu",
        "outputId": "c213a7ee-3d17-4b70-bd52-6aadb61e9ee2"
      },
      "execution_count": 121,
      "outputs": [
        {
          "output_type": "stream",
          "name": "stdout",
          "text": [
            "tf.Tensor([2 3 4 9 9 2 4 7], shape=(8,), dtype=int32)\n",
            "tf.Tensor([2 3 4 9 9], shape=(5,), dtype=int32)\n",
            "tf.Tensor([2 4 9], shape=(3,), dtype=int32)\n"
          ]
        }
      ]
    },
    {
      "cell_type": "code",
      "source": [
        "# just get a segment of the tensor\n",
        "print(tensor_indexed[:5:2])"
      ],
      "metadata": {
        "colab": {
          "base_uri": "https://localhost:8080/"
        },
        "id": "XMfEWA0MVlz_",
        "outputId": "d7962a0a-8041-4ce7-e8af-9df5b78e9c77"
      },
      "execution_count": 119,
      "outputs": [
        {
          "output_type": "stream",
          "name": "stdout",
          "text": [
            "tf.Tensor([2 4 9], shape=(3,), dtype=int32)\n"
          ]
        }
      ]
    },
    {
      "cell_type": "markdown",
      "source": [
        "#### 2D Tensor Indexing"
      ],
      "metadata": {
        "id": "TtZ2lpzjXR-7"
      }
    },
    {
      "cell_type": "code",
      "source": [
        "tensor_indexed=tf.constant([[2,3,4,5,6],\n",
        "                           [9,0,4,2,1],\n",
        "                           [0,0,1,7,0]])\n",
        "print(tensor_indexed)"
      ],
      "metadata": {
        "colab": {
          "base_uri": "https://localhost:8080/"
        },
        "id": "H78ScTP7XUW-",
        "outputId": "1c190b9d-cf55-4e24-dc25-da211ae2520e"
      },
      "execution_count": 137,
      "outputs": [
        {
          "output_type": "stream",
          "name": "stdout",
          "text": [
            "tf.Tensor(\n",
            "[[2 3 4 5 6]\n",
            " [9 0 4 2 1]\n",
            " [0 0 1 7 0]], shape=(3, 5), dtype=int32)\n"
          ]
        }
      ]
    },
    {
      "cell_type": "code",
      "source": [
        "print(tensor_indexed[1,0])\n",
        "print(tensor_indexed[2,2:])"
      ],
      "metadata": {
        "colab": {
          "base_uri": "https://localhost:8080/"
        },
        "id": "CZv2xfDdXpLR",
        "outputId": "5f75d72a-b9b9-4aee-bf30-813c0e3fab89"
      },
      "execution_count": 140,
      "outputs": [
        {
          "output_type": "stream",
          "name": "stdout",
          "text": [
            "tf.Tensor(9, shape=(), dtype=int32)\n",
            "tf.Tensor([1 7 0], shape=(3,), dtype=int32)\n",
            "tf.Tensor(\n",
            "[[6]\n",
            " [1]], shape=(2, 1), dtype=int32)\n",
            "tf.Tensor(\n",
            "[[6]\n",
            " [1]], shape=(2, 1), dtype=int32)\n"
          ]
        }
      ]
    },
    {
      "cell_type": "code",
      "source": [
        "print(tensor_indexed[0:-1,4:]) # same thing\n"
      ],
      "metadata": {
        "colab": {
          "base_uri": "https://localhost:8080/"
        },
        "id": "98j8nduXbWIh",
        "outputId": "c0fdeb81-8520-46c4-bd67-275c789ce5a6"
      },
      "execution_count": 142,
      "outputs": [
        {
          "output_type": "stream",
          "name": "stdout",
          "text": [
            "tf.Tensor(\n",
            "[[6]\n",
            " [1]], shape=(2, 1), dtype=int32)\n"
          ]
        }
      ]
    },
    {
      "cell_type": "code",
      "source": [
        "tensor_indexed[0:2,-1:]"
      ],
      "metadata": {
        "colab": {
          "base_uri": "https://localhost:8080/"
        },
        "id": "zHi6s7bPdEVk",
        "outputId": "df26dc3a-4626-441d-d2e6-88fde3817e1c"
      },
      "execution_count": 144,
      "outputs": [
        {
          "output_type": "execute_result",
          "data": {
            "text/plain": [
              "<tf.Tensor: shape=(2, 1), dtype=int32, numpy=\n",
              "array([[6],\n",
              "       [1]], dtype=int32)>"
            ]
          },
          "metadata": {},
          "execution_count": 144
        }
      ]
    },
    {
      "cell_type": "code",
      "source": [
        "print(tensor_indexed)"
      ],
      "metadata": {
        "colab": {
          "base_uri": "https://localhost:8080/"
        },
        "id": "FWBpuR9ddZRW",
        "outputId": "bbda4356-d76b-402b-b458-a6103ae361ac"
      },
      "execution_count": 145,
      "outputs": [
        {
          "output_type": "stream",
          "name": "stdout",
          "text": [
            "tf.Tensor(\n",
            "[[2 3 4 5 6]\n",
            " [9 0 4 2 1]\n",
            " [0 0 1 7 0]], shape=(3, 5), dtype=int32)\n"
          ]
        }
      ]
    },
    {
      "cell_type": "code",
      "source": [
        "tensor_indexed[:,-1]"
      ],
      "metadata": {
        "colab": {
          "base_uri": "https://localhost:8080/"
        },
        "id": "RWR4UrjDdWQP",
        "outputId": "2c13f5f2-370d-4eec-ffec-96cbf35f1b3f"
      },
      "execution_count": 147,
      "outputs": [
        {
          "output_type": "execute_result",
          "data": {
            "text/plain": [
              "<tf.Tensor: shape=(3,), dtype=int32, numpy=array([6, 1, 0], dtype=int32)>"
            ]
          },
          "metadata": {},
          "execution_count": 147
        }
      ]
    },
    {
      "cell_type": "code",
      "source": [
        "tensor_indexed[:1,:]"
      ],
      "metadata": {
        "colab": {
          "base_uri": "https://localhost:8080/"
        },
        "id": "aZ1ouUh7duou",
        "outputId": "d35da4c2-47af-4f29-a973-26ceccd6cb5c"
      },
      "execution_count": 149,
      "outputs": [
        {
          "output_type": "execute_result",
          "data": {
            "text/plain": [
              "<tf.Tensor: shape=(1, 5), dtype=int32, numpy=array([[2, 3, 4, 5, 6]], dtype=int32)>"
            ]
          },
          "metadata": {},
          "execution_count": 149
        }
      ]
    },
    {
      "cell_type": "code",
      "source": [
        "# 3 dots pull all columns\n",
        "tensor_indexed[0,...]"
      ],
      "metadata": {
        "colab": {
          "base_uri": "https://localhost:8080/"
        },
        "id": "nfEqSaJQd24b",
        "outputId": "18496112-6817-4a71-8d14-3ef04ad8289c"
      },
      "execution_count": 153,
      "outputs": [
        {
          "output_type": "execute_result",
          "data": {
            "text/plain": [
              "<tf.Tensor: shape=(5,), dtype=int32, numpy=array([2, 3, 4, 5, 6], dtype=int32)>"
            ]
          },
          "metadata": {},
          "execution_count": 153
        }
      ]
    },
    {
      "cell_type": "code",
      "source": [
        "# 3 dots pull all columns\n",
        "tensor_indexed[0:1,...]"
      ],
      "metadata": {
        "colab": {
          "base_uri": "https://localhost:8080/"
        },
        "id": "2s_E0grLd4-h",
        "outputId": "420d18d7-3626-451f-f9e7-b3ad4846ab6a"
      },
      "execution_count": 154,
      "outputs": [
        {
          "output_type": "execute_result",
          "data": {
            "text/plain": [
              "<tf.Tensor: shape=(1, 5), dtype=int32, numpy=array([[2, 3, 4, 5, 6]], dtype=int32)>"
            ]
          },
          "metadata": {},
          "execution_count": 154
        }
      ]
    },
    {
      "cell_type": "code",
      "source": [
        "print(tensor_indexed)"
      ],
      "metadata": {
        "colab": {
          "base_uri": "https://localhost:8080/"
        },
        "id": "GWKe2Kh_eFpY",
        "outputId": "1a816372-798d-4ef6-efaa-ea3baf69757b"
      },
      "execution_count": 155,
      "outputs": [
        {
          "output_type": "stream",
          "name": "stdout",
          "text": [
            "tf.Tensor(\n",
            "[[2 3 4 5 6]\n",
            " [9 0 4 2 1]\n",
            " [0 0 1 7 0]], shape=(3, 5), dtype=int32)\n"
          ]
        }
      ]
    },
    {
      "cell_type": "code",
      "source": [
        "tensor_indexed[0:2,2:-1]"
      ],
      "metadata": {
        "colab": {
          "base_uri": "https://localhost:8080/"
        },
        "id": "_aLaarW-eY3_",
        "outputId": "69040c85-f772-4bff-c800-613ecd86fece"
      },
      "execution_count": 156,
      "outputs": [
        {
          "output_type": "execute_result",
          "data": {
            "text/plain": [
              "<tf.Tensor: shape=(2, 2), dtype=int32, numpy=\n",
              "array([[4, 5],\n",
              "       [4, 2]], dtype=int32)>"
            ]
          },
          "metadata": {},
          "execution_count": 156
        }
      ]
    },
    {
      "cell_type": "markdown",
      "source": [
        "#### 3 D tensor Indexing"
      ],
      "metadata": {
        "id": "Lk_idwq-e1GF"
      }
    },
    {
      "cell_type": "code",
      "source": [
        "tensor_indexed = tf.constant(\n",
        "                              [[[1,2,0],\n",
        "                                [3,5,-1]],  #\n",
        "\n",
        "                              [[10,2,0],\n",
        "                               [1,0,2]],\n",
        "\n",
        "                              [[5,8,0],\n",
        "                               [2,7,0]],\n",
        "\n",
        "                              [[2,1,9],\n",
        "                               [4,-3,32]]]) # 4 stacked 3 d tensors"
      ],
      "metadata": {
        "id": "zvXwdKCwe2XQ"
      },
      "execution_count": 157,
      "outputs": []
    },
    {
      "cell_type": "code",
      "source": [
        "print(tensor_indexed) # 4 blocks of 3 d tensors"
      ],
      "metadata": {
        "colab": {
          "base_uri": "https://localhost:8080/"
        },
        "id": "4e0u7JUPfLiv",
        "outputId": "9a412dd0-457f-44cc-afcc-0c77657fecba"
      },
      "execution_count": 158,
      "outputs": [
        {
          "output_type": "stream",
          "name": "stdout",
          "text": [
            "tf.Tensor(\n",
            "[[[ 1  2  0]\n",
            "  [ 3  5 -1]]\n",
            "\n",
            " [[10  2  0]\n",
            "  [ 1  0  2]]\n",
            "\n",
            " [[ 5  8  0]\n",
            "  [ 2  7  0]]\n",
            "\n",
            " [[ 2  1  9]\n",
            "  [ 4 -3 32]]], shape=(4, 2, 3), dtype=int32)\n"
          ]
        }
      ]
    },
    {
      "cell_type": "code",
      "source": [
        "tensor_indexed[3,0,-1]\n",
        "# tensor_indexed[3,0,2] ## same thing"
      ],
      "metadata": {
        "colab": {
          "base_uri": "https://localhost:8080/"
        },
        "id": "krDSkvpYe-st",
        "outputId": "d3a73ca8-df44-4e14-faf0-99cc274b6e07"
      },
      "execution_count": 164,
      "outputs": [
        {
          "output_type": "execute_result",
          "data": {
            "text/plain": [
              "<tf.Tensor: shape=(), dtype=int32, numpy=9>"
            ]
          },
          "metadata": {},
          "execution_count": 164
        }
      ]
    },
    {
      "cell_type": "code",
      "source": [
        "tensor_indexed[3,0,:]"
      ],
      "metadata": {
        "colab": {
          "base_uri": "https://localhost:8080/"
        },
        "id": "7aIxKvSke-pK",
        "outputId": "23ee8f26-427a-42b7-cd9e-46074a6cda0b"
      },
      "execution_count": 168,
      "outputs": [
        {
          "output_type": "execute_result",
          "data": {
            "text/plain": [
              "<tf.Tensor: shape=(3,), dtype=int32, numpy=array([2, 1, 9], dtype=int32)>"
            ]
          },
          "metadata": {},
          "execution_count": 168
        }
      ]
    },
    {
      "cell_type": "code",
      "source": [
        "tensor_indexed[3,0:2,0:-1]"
      ],
      "metadata": {
        "colab": {
          "base_uri": "https://localhost:8080/"
        },
        "id": "rImwOYS7e-m5",
        "outputId": "5a01190f-4462-49a2-f9da-09c23b8dc6c2"
      },
      "execution_count": 170,
      "outputs": [
        {
          "output_type": "execute_result",
          "data": {
            "text/plain": [
              "<tf.Tensor: shape=(2, 2), dtype=int32, numpy=\n",
              "array([[ 2,  1],\n",
              "       [ 4, -3]], dtype=int32)>"
            ]
          },
          "metadata": {},
          "execution_count": 170
        }
      ]
    },
    {
      "cell_type": "code",
      "source": [
        "# from all block pick 3rd element\n",
        "tensor_indexed[...,:,-1]\n",
        "# tensor_indexed[:,:,-1]  ## same thing"
      ],
      "metadata": {
        "colab": {
          "base_uri": "https://localhost:8080/"
        },
        "id": "Z2UgEzOre-kd",
        "outputId": "2785d113-9471-4516-af87-b8b33414fde4"
      },
      "execution_count": 172,
      "outputs": [
        {
          "output_type": "execute_result",
          "data": {
            "text/plain": [
              "<tf.Tensor: shape=(4, 2), dtype=int32, numpy=\n",
              "array([[ 0, -1],\n",
              "       [ 0,  2],\n",
              "       [ 0,  0],\n",
              "       [ 9, 32]], dtype=int32)>"
            ]
          },
          "metadata": {},
          "execution_count": 172
        }
      ]
    },
    {
      "cell_type": "code",
      "source": [],
      "metadata": {
        "id": "oASwaVtBe-hj"
      },
      "execution_count": null,
      "outputs": []
    },
    {
      "cell_type": "markdown",
      "source": [
        "# 13. Tensorflow math"
      ],
      "metadata": {
        "id": "22wBiPdJho0t"
      }
    },
    {
      "cell_type": "markdown",
      "source": [
        "#### 1. Abs Method"
      ],
      "metadata": {
        "id": "Lq8R6KRzkU7y"
      }
    },
    {
      "cell_type": "markdown",
      "source": [
        "* Given a tensor of integer or floating-point values, this operation returns a tensor of the same type, where each element contains the absolute value of the corresponding element in the input."
      ],
      "metadata": {
        "id": "haYgLwTIjN2c"
      }
    },
    {
      "cell_type": "code",
      "source": [
        "# https://www.tensorflow.org/api_docs/python/tf/random/set_seed\n",
        "\n",
        "x=tf.constant(0.2)\n",
        "print(x)"
      ],
      "metadata": {
        "colab": {
          "base_uri": "https://localhost:8080/"
        },
        "id": "YH53ReG5hyoH",
        "outputId": "23edbbd9-dc01-43e5-df40-d16659f30cd4"
      },
      "execution_count": 175,
      "outputs": [
        {
          "output_type": "stream",
          "name": "stdout",
          "text": [
            "tf.Tensor(0.2, shape=(), dtype=float32)\n"
          ]
        }
      ]
    },
    {
      "cell_type": "code",
      "source": [
        "x=tf.constant(-0.2)\n",
        "print(x)\n"
      ],
      "metadata": {
        "colab": {
          "base_uri": "https://localhost:8080/"
        },
        "id": "YDfjwn-tiF39",
        "outputId": "9fa1416f-c86b-4eb2-e37d-83493eacd6ca"
      },
      "execution_count": 176,
      "outputs": [
        {
          "output_type": "stream",
          "name": "stdout",
          "text": [
            "tf.Tensor(-0.2, shape=(), dtype=float32)\n"
          ]
        }
      ]
    },
    {
      "cell_type": "code",
      "source": [
        "# using absolute method\n",
        "x= tf.constant([2,-1,3,0.1,0])\n",
        "print(tf.abs(x)) # it makes all -ve values positive"
      ],
      "metadata": {
        "colab": {
          "base_uri": "https://localhost:8080/"
        },
        "id": "qjp456Z6iIsY",
        "outputId": "6b76940b-cc3f-4c1e-9a52-06c07c5ea135"
      },
      "execution_count": 179,
      "outputs": [
        {
          "output_type": "stream",
          "name": "stdout",
          "text": [
            "tf.Tensor([2.  1.  3.  0.1 0. ], shape=(5,), dtype=float32)\n"
          ]
        }
      ]
    },
    {
      "cell_type": "code",
      "source": [
        "# using absolute method\n",
        "x= tf.constant([2,-1,3,-0.1,0])\n",
        "print(tf.abs(x)) # it makes all -ve values positive"
      ],
      "metadata": {
        "colab": {
          "base_uri": "https://localhost:8080/"
        },
        "id": "X-p4qG0-igFo",
        "outputId": "6dee1ece-e866-4e9f-b682-02248e669b40"
      },
      "execution_count": 180,
      "outputs": [
        {
          "output_type": "stream",
          "name": "stdout",
          "text": [
            "tf.Tensor([2.  1.  3.  0.1 0. ], shape=(5,), dtype=float32)\n"
          ]
        }
      ]
    },
    {
      "cell_type": "markdown",
      "source": [
        "Given a tensor x of complex numbers, this operation returns a tensor of type float32 or float64 that is the absolute value of each element in x. For a complex number a+bj\n",
        ", its absolute value is computed as sqrt(a^2 +b^2)\n"
      ],
      "metadata": {
        "id": "IBz09YuajG2F"
      }
    },
    {
      "cell_type": "code",
      "source": [
        "# using absolute method\n",
        "x= tf.constant(2+3j)\n",
        "print(tf.abs(x)) # it makes all -ve values positive"
      ],
      "metadata": {
        "colab": {
          "base_uri": "https://localhost:8080/"
        },
        "id": "99GIlmJEixyY",
        "outputId": "35c40185-e644-4a10-e4ed-96581d98d91a"
      },
      "execution_count": 181,
      "outputs": [
        {
          "output_type": "stream",
          "name": "stdout",
          "text": [
            "tf.Tensor(3.605551275463989, shape=(), dtype=float64)\n"
          ]
        }
      ]
    },
    {
      "cell_type": "code",
      "source": [
        "# checking if the correct abs value\n",
        "tf.sqrt(2.0**2+3.0**2)"
      ],
      "metadata": {
        "colab": {
          "base_uri": "https://localhost:8080/"
        },
        "id": "WTRKqgv0jC9I",
        "outputId": "ed85630c-f4ea-40e5-d6c2-cebed9ec942c"
      },
      "execution_count": 185,
      "outputs": [
        {
          "output_type": "execute_result",
          "data": {
            "text/plain": [
              "<tf.Tensor: shape=(), dtype=float32, numpy=3.605551242828369>"
            ]
          },
          "metadata": {},
          "execution_count": 185
        }
      ]
    },
    {
      "cell_type": "markdown",
      "source": [
        "* Answer is correct"
      ],
      "metadata": {
        "id": "X-yvVErKkN2D"
      }
    },
    {
      "cell_type": "markdown",
      "source": [
        "#### 2. Add Method"
      ],
      "metadata": {
        "id": "weqxmHeqkbsN"
      }
    },
    {
      "cell_type": "markdown",
      "source": [
        "* the function will add matrixes even when the shape is different"
      ],
      "metadata": {
        "id": "pshkvWKmlMpQ"
      }
    },
    {
      "cell_type": "code",
      "source": [
        "x=tf.constant([2,3,5,7])\n",
        "y=tf.constant([7,7,2,1])\n",
        "tf.add(x,y)"
      ],
      "metadata": {
        "colab": {
          "base_uri": "https://localhost:8080/"
        },
        "id": "xuAObIF8kL4I",
        "outputId": "a348c199-8629-4f42-fa0c-428d437fe048"
      },
      "execution_count": 187,
      "outputs": [
        {
          "output_type": "execute_result",
          "data": {
            "text/plain": [
              "<tf.Tensor: shape=(4,), dtype=int32, numpy=array([ 9, 10,  7,  8], dtype=int32)>"
            ]
          },
          "metadata": {},
          "execution_count": 187
        }
      ]
    },
    {
      "cell_type": "code",
      "source": [
        "x=tf.constant([2,3,5,7])\n",
        "y=tf.constant(1)\n",
        "tf.add(x,y)"
      ],
      "metadata": {
        "colab": {
          "base_uri": "https://localhost:8080/"
        },
        "id": "y2XTyxfekQWH",
        "outputId": "83cd73b7-afb0-435d-a263-9686a232f75f"
      },
      "execution_count": 188,
      "outputs": [
        {
          "output_type": "execute_result",
          "data": {
            "text/plain": [
              "<tf.Tensor: shape=(4,), dtype=int32, numpy=array([3, 4, 6, 8], dtype=int32)>"
            ]
          },
          "metadata": {},
          "execution_count": 188
        }
      ]
    },
    {
      "cell_type": "markdown",
      "source": [
        "#### 2.  Subtraction and Division example are present on documentation:  "
      ],
      "metadata": {
        "id": "blBmemuClqwD"
      }
    },
    {
      "cell_type": "code",
      "source": [
        "# https://www.tensorflow.org/api_docs/python/tf/math/add\n",
        "# https://www.tensorflow.org/api_docs/python/tf/math/subtract\n",
        "# https://www.tensorflow.org/api_docs/python/tf/math/multiply\n",
        "# https://www.tensorflow.org/api_docs/python/tf/math/divide\n"
      ],
      "metadata": {
        "id": "OLkw6tp8l_7X"
      },
      "execution_count": 189,
      "outputs": []
    },
    {
      "cell_type": "markdown",
      "source": [
        "#### 3. divide_no_nan Method"
      ],
      "metadata": {
        "id": "kfjsioUtkari"
      }
    },
    {
      "cell_type": "markdown",
      "source": [
        "*  Computes a safe divide which returns 0 if y (denominator) is zero."
      ],
      "metadata": {
        "id": "BPontuEkmvP5"
      }
    },
    {
      "cell_type": "code",
      "source": [
        "x=tf.constant([2,3,5,7])\n",
        "y=tf.constant(0)\n",
        "tf.math.divide_no_nan(x,y) # safety net to aviod infinity"
      ],
      "metadata": {
        "colab": {
          "base_uri": "https://localhost:8080/"
        },
        "id": "rQrrhN52ms4K",
        "outputId": "4e8f6f13-1aac-4b91-9db5-779060f30963"
      },
      "execution_count": 190,
      "outputs": [
        {
          "output_type": "execute_result",
          "data": {
            "text/plain": [
              "<tf.Tensor: shape=(4,), dtype=float64, numpy=array([0., 0., 0., 0.])>"
            ]
          },
          "metadata": {},
          "execution_count": 190
        }
      ]
    },
    {
      "cell_type": "code",
      "source": [
        "x=tf.constant([2,3,5,7])\n",
        "y=tf.constant([0,2,4,5])\n",
        "\n",
        "#observe  the out puts for this and see infinity\n",
        "print(tf.math.divide_no_nan(x,y))\n",
        "print(tf.math.divide(x,y))\n"
      ],
      "metadata": {
        "colab": {
          "base_uri": "https://localhost:8080/"
        },
        "id": "99fxIYDom6sl",
        "outputId": "b18d6b95-8f2b-4200-e29d-92cb26a1935b"
      },
      "execution_count": 193,
      "outputs": [
        {
          "output_type": "stream",
          "name": "stdout",
          "text": [
            "tf.Tensor([0.   1.5  1.25 1.4 ], shape=(4,), dtype=float64)\n",
            "tf.Tensor([ inf 1.5  1.25 1.4 ], shape=(4,), dtype=float64)\n"
          ]
        }
      ]
    },
    {
      "cell_type": "markdown",
      "source": [
        "#### 4. multiply Method"
      ],
      "metadata": {
        "id": "VzhNJJCzoR1S"
      }
    },
    {
      "cell_type": "code",
      "source": [
        "x=tf.constant([[2,3,4,5]])\n",
        "y=tf.constant([[1],\n",
        "              [3]])\n",
        "\n",
        "print(tf.math.multiply(x,y))"
      ],
      "metadata": {
        "colab": {
          "base_uri": "https://localhost:8080/"
        },
        "id": "Dx8vvVkaoVVR",
        "outputId": "b04cf25d-4e0d-4d6b-881d-6c4ac299f15a"
      },
      "execution_count": 195,
      "outputs": [
        {
          "output_type": "stream",
          "name": "stdout",
          "text": [
            "tf.Tensor(\n",
            "[[ 2  3  4  5]\n",
            " [ 6  9 12 15]], shape=(2, 4), dtype=int32)\n"
          ]
        }
      ]
    },
    {
      "cell_type": "markdown",
      "source": [
        "#### 5. maximum and minimum Method"
      ],
      "metadata": {
        "id": "fo5uc7jzoyny"
      }
    },
    {
      "cell_type": "code",
      "source": [
        "# https://www.tensorflow.org/api_docs/python/tf/math/maximum\n",
        "# https://www.tensorflow.org/api_docs/python/tf/math/minimum\n",
        "\n",
        "x = tf.constant([0., 0., 0., 0.])\n",
        "y = tf.constant([-2., 0., 2., 5.])\n",
        "tf.math.maximum(x, y) # return max after comparing element wise"
      ],
      "metadata": {
        "colab": {
          "base_uri": "https://localhost:8080/"
        },
        "id": "B9n5vVlWo50O",
        "outputId": "b4591d2b-780d-4fe3-e80c-d83db09cf67a"
      },
      "execution_count": 196,
      "outputs": [
        {
          "output_type": "execute_result",
          "data": {
            "text/plain": [
              "<tf.Tensor: shape=(4,), dtype=float32, numpy=array([0., 0., 2., 5.], dtype=float32)>"
            ]
          },
          "metadata": {},
          "execution_count": 196
        }
      ]
    },
    {
      "cell_type": "code",
      "source": [
        "x = tf.constant([-5., 0., 0., 0.])\n",
        "y = tf.constant([-3.])\n",
        "tf.math.maximum(x, y)"
      ],
      "metadata": {
        "colab": {
          "base_uri": "https://localhost:8080/"
        },
        "id": "ft_J2GqCo5xy",
        "outputId": "bf076439-0558-4913-88de-df3c1c23c497"
      },
      "execution_count": 197,
      "outputs": [
        {
          "output_type": "execute_result",
          "data": {
            "text/plain": [
              "<tf.Tensor: shape=(4,), dtype=float32, numpy=array([-3.,  0.,  0.,  0.], dtype=float32)>"
            ]
          },
          "metadata": {},
          "execution_count": 197
        }
      ]
    },
    {
      "cell_type": "code",
      "source": [
        "x = tf.constant([0., 0., 0., 0.])\n",
        "y = tf.constant([-5., -2., 0., 3.])\n",
        "tf.math.minimum(x, y)"
      ],
      "metadata": {
        "colab": {
          "base_uri": "https://localhost:8080/"
        },
        "id": "6--znPsno5vF",
        "outputId": "9cef2ffa-8362-4648-a686-cf3a15665cb7"
      },
      "execution_count": 198,
      "outputs": [
        {
          "output_type": "execute_result",
          "data": {
            "text/plain": [
              "<tf.Tensor: shape=(4,), dtype=float32, numpy=array([-5., -2.,  0.,  0.], dtype=float32)>"
            ]
          },
          "metadata": {},
          "execution_count": 198
        }
      ]
    },
    {
      "cell_type": "code",
      "source": [
        "x = tf.constant([-5., 0., 0., 0.])\n",
        "y = tf.constant([-3.])\n",
        "tf.math.minimum(x, y)"
      ],
      "metadata": {
        "colab": {
          "base_uri": "https://localhost:8080/"
        },
        "id": "GXqaL4XmpaQY",
        "outputId": "fea827a8-5a12-4066-b240-46f2a988102f"
      },
      "execution_count": 199,
      "outputs": [
        {
          "output_type": "execute_result",
          "data": {
            "text/plain": [
              "<tf.Tensor: shape=(4,), dtype=float32, numpy=array([-5., -3., -3., -3.], dtype=float32)>"
            ]
          },
          "metadata": {},
          "execution_count": 199
        }
      ]
    },
    {
      "cell_type": "markdown",
      "source": [
        "#### 5. math.argmax and math.argmin  Method\n",
        "* Returns the index with the largest value across axes of a tensor."
      ],
      "metadata": {
        "id": "LQMvK9M5pxw8"
      }
    },
    {
      "cell_type": "code",
      "source": [
        "# https://www.tensorflow.org/api_docs/python/tf/math/argmax\n",
        "# https://www.tensorflow.org/api_docs/python/tf/math/argmin"
      ],
      "metadata": {
        "id": "6SdQBkvEp0ex"
      },
      "execution_count": 200,
      "outputs": []
    },
    {
      "cell_type": "code",
      "source": [
        "A = tf.constant([2,20,30,3,6])\n",
        "tf.math.argmax(A) # index 2 means 30"
      ],
      "metadata": {
        "colab": {
          "base_uri": "https://localhost:8080/"
        },
        "id": "rbYMNEgCp6yp",
        "outputId": "d5367cf4-971b-4df0-c083-363208fc1631"
      },
      "execution_count": 201,
      "outputs": [
        {
          "output_type": "execute_result",
          "data": {
            "text/plain": [
              "<tf.Tensor: shape=(), dtype=int64, numpy=2>"
            ]
          },
          "metadata": {},
          "execution_count": 201
        }
      ]
    },
    {
      "cell_type": "code",
      "source": [
        "A = tf.constant([2,20,30,3,6])\n",
        "tf.math.argmin(A) # index 0 means 0"
      ],
      "metadata": {
        "colab": {
          "base_uri": "https://localhost:8080/"
        },
        "id": "3ELx3HoTqLRP",
        "outputId": "fe981a29-42ae-4383-9b5c-54db82cc2bce"
      },
      "execution_count": 202,
      "outputs": [
        {
          "output_type": "execute_result",
          "data": {
            "text/plain": [
              "<tf.Tensor: shape=(), dtype=int64, numpy=0>"
            ]
          },
          "metadata": {},
          "execution_count": 202
        }
      ]
    },
    {
      "cell_type": "code",
      "source": [
        "# if you have 2 d tensors\n",
        "t_argmax = tf.constant(\n",
        "  [[3,1,9,6,5],\n",
        "  [0,1,7,3,2],\n",
        "  [1,5,1,2,0],\n",
        "  [7,3,0,9,0],]\n",
        ")\n",
        "tf.math.argmax(t_argmax) # indexes of hight elements are fetched"
      ],
      "metadata": {
        "colab": {
          "base_uri": "https://localhost:8080/"
        },
        "id": "bGd-NXAIqW-5",
        "outputId": "a1bcbe50-b6f4-4671-ab5c-235edcfc15bf"
      },
      "execution_count": 211,
      "outputs": [
        {
          "output_type": "execute_result",
          "data": {
            "text/plain": [
              "<tf.Tensor: shape=(5,), dtype=int64, numpy=array([3, 2, 0, 3, 0])>"
            ]
          },
          "metadata": {},
          "execution_count": 211
        }
      ]
    },
    {
      "cell_type": "code",
      "source": [
        "# if you have 2 d tensors\n",
        "t_argmin = tf.constant(\n",
        "  [[3,1,9,6,5],\n",
        "  [0,1,7,3,2],\n",
        "  [1,5,1,2,0],\n",
        "  [7,3,0,9,0],]\n",
        ")\n",
        "tf.math.argmin(t_argmin) # indexes of lowest elements are fetched"
      ],
      "metadata": {
        "colab": {
          "base_uri": "https://localhost:8080/"
        },
        "id": "USfbb84jqmbZ",
        "outputId": "834bae89-be2a-431b-f879-4f46cab54506"
      },
      "execution_count": 205,
      "outputs": [
        {
          "output_type": "execute_result",
          "data": {
            "text/plain": [
              "<tf.Tensor: shape=(5,), dtype=int64, numpy=array([1, 0, 3, 2, 2])>"
            ]
          },
          "metadata": {},
          "execution_count": 205
        }
      ]
    },
    {
      "cell_type": "code",
      "source": [
        "# if you have 2 d tensors change axis\n",
        "t_argmax = tf.constant([\n",
        "  [3,1,9,6,5],\n",
        "  [0,1,7,3,2],\n",
        "  [1,5,1,2,0],\n",
        "  [7,3,0,9,0],\n",
        "\n",
        "])\n",
        "tf.math.argmax(t_argmax,axis=1) # indexes of highest elements are fetched column wise"
      ],
      "metadata": {
        "colab": {
          "base_uri": "https://localhost:8080/"
        },
        "id": "jZl83OPZq9DQ",
        "outputId": "9bae3df3-c098-4017-c422-cbd3fd656c23"
      },
      "execution_count": 210,
      "outputs": [
        {
          "output_type": "execute_result",
          "data": {
            "text/plain": [
              "<tf.Tensor: shape=(4,), dtype=int64, numpy=array([2, 2, 1, 3])>"
            ]
          },
          "metadata": {},
          "execution_count": 210
        }
      ]
    },
    {
      "cell_type": "code",
      "source": [
        "# if you have 2 d tensors change axis\n",
        "t_argmin= tf.constant([\n",
        "  [3,1,9,6,5],\n",
        "  [0,1,7,3,2],\n",
        "  [1,5,1,2,0],\n",
        "  [7,3,0,9,0],\n",
        "\n",
        "])\n",
        "tf.math.argmin(t_argmin,axis=1) # indexes of highest elements are fetched column wise"
      ],
      "metadata": {
        "colab": {
          "base_uri": "https://localhost:8080/"
        },
        "id": "BjulaPTDrVUi",
        "outputId": "bff15a4c-47f6-4727-de91-522a56387300"
      },
      "execution_count": 212,
      "outputs": [
        {
          "output_type": "execute_result",
          "data": {
            "text/plain": [
              "<tf.Tensor: shape=(4,), dtype=int64, numpy=array([1, 0, 4, 2])>"
            ]
          },
          "metadata": {},
          "execution_count": 212
        }
      ]
    },
    {
      "cell_type": "markdown",
      "source": [
        "#### 6. math.equal  Method"
      ],
      "metadata": {
        "id": "YhL28wGRs5UB"
      }
    },
    {
      "cell_type": "code",
      "source": [
        "# https://www.tensorflow.org/api_docs/python/tf/math/equal"
      ],
      "metadata": {
        "id": "7zjtYlBFs8M5"
      },
      "execution_count": null,
      "outputs": []
    },
    {
      "cell_type": "code",
      "source": [
        "x = tf.constant([2, 4])\n",
        "y = tf.constant(2)\n",
        "tf.math.equal(x, y)"
      ],
      "metadata": {
        "id": "WuOA_FhTug2A",
        "outputId": "2f53d670-41bc-4a68-c4b3-48ccff793433",
        "colab": {
          "base_uri": "https://localhost:8080/"
        }
      },
      "execution_count": 213,
      "outputs": [
        {
          "output_type": "execute_result",
          "data": {
            "text/plain": [
              "<tf.Tensor: shape=(2,), dtype=bool, numpy=array([ True, False])>"
            ]
          },
          "metadata": {},
          "execution_count": 213
        }
      ]
    },
    {
      "cell_type": "code",
      "source": [
        "x = tf.constant([2, 4])\n",
        "y = tf.constant([2, 4])\n",
        "tf.math.equal(x, y)"
      ],
      "metadata": {
        "id": "yu_BqF4xuguJ"
      },
      "execution_count": null,
      "outputs": []
    },
    {
      "cell_type": "markdown",
      "source": [
        "#### 7. Power  Method\n",
        "* Computes the power of one value to another.\n"
      ],
      "metadata": {
        "id": "fTCMGRwhupCG"
      }
    },
    {
      "cell_type": "code",
      "source": [
        "# https://www.tensorflow.org/api_docs/python/tf/math/pow"
      ],
      "metadata": {
        "id": "3iJfkf7Yur5J"
      },
      "execution_count": 214,
      "outputs": []
    },
    {
      "cell_type": "code",
      "source": [
        "x = tf.constant([[2, 2], [3, 3]])\n",
        "y = tf.constant([[0, 1], [2, 3]])\n",
        "tf.pow(x, y)"
      ],
      "metadata": {
        "id": "VxrWvL-suxDL",
        "outputId": "1e96ad2c-1150-423a-9e40-5e190791de09",
        "colab": {
          "base_uri": "https://localhost:8080/"
        }
      },
      "execution_count": 216,
      "outputs": [
        {
          "output_type": "execute_result",
          "data": {
            "text/plain": [
              "<tf.Tensor: shape=(2, 2), dtype=int32, numpy=\n",
              "array([[ 1,  2],\n",
              "       [ 9, 27]], dtype=int32)>"
            ]
          },
          "metadata": {},
          "execution_count": 216
        }
      ]
    },
    {
      "cell_type": "markdown",
      "source": [
        "#### 8. Reduce Max  Method\n",
        "* reduce_max- Computes tf.math.maximum of elements across dimensions of a tensor.\n",
        "* reduce_sum-Computes the sum of elements across dimensions of a tensor."
      ],
      "metadata": {
        "id": "_A8edSebvNvm"
      }
    },
    {
      "cell_type": "code",
      "source": [
        "# https://www.tensorflow.org/api_docs/python/tf/math/reduce_max"
      ],
      "metadata": {
        "id": "kMvObqBdvSm6"
      },
      "execution_count": null,
      "outputs": []
    },
    {
      "cell_type": "code",
      "source": [
        "input_tensor=tf.constant([5,1,2,4])\n",
        "tf.math.reduce_max(\n",
        "    input_tensor, axis=None, keepdims=False, name=None\n",
        ")"
      ],
      "metadata": {
        "id": "PgDrq_ApvcKW",
        "outputId": "1bfb421e-e764-48a2-8060-fc2b4cef520f",
        "colab": {
          "base_uri": "https://localhost:8080/"
        }
      },
      "execution_count": 217,
      "outputs": [
        {
          "output_type": "execute_result",
          "data": {
            "text/plain": [
              "<tf.Tensor: shape=(), dtype=int32, numpy=5>"
            ]
          },
          "metadata": {},
          "execution_count": 217
        }
      ]
    },
    {
      "cell_type": "code",
      "source": [
        "input_tensor=tf.constant([5,1,2,4])\n",
        "tf.math.reduce_sum(\n",
        "    input_tensor, axis=None, keepdims=False, name=None\n",
        ")"
      ],
      "metadata": {
        "id": "je732615voN_",
        "outputId": "931889ba-314d-4d5a-c082-b43720419773",
        "colab": {
          "base_uri": "https://localhost:8080/"
        }
      },
      "execution_count": 218,
      "outputs": [
        {
          "output_type": "execute_result",
          "data": {
            "text/plain": [
              "<tf.Tensor: shape=(), dtype=int32, numpy=12>"
            ]
          },
          "metadata": {},
          "execution_count": 218
        }
      ]
    },
    {
      "cell_type": "code",
      "source": [
        "# keepdim TRUE  - means keep dimensions after add\n",
        "# keepdim FALSE  - means lose dimensions after add\n",
        "\n",
        "input_tensor=tf.constant([5,1,2,4])\n",
        "print(tf.math.reduce_sum(\n",
        "    input_tensor, axis=None, keepdims=True,\n",
        "))\n",
        "\n",
        "print(tf.math.reduce_sum(\n",
        "    input_tensor, axis=None, keepdims=False,\n",
        "))"
      ],
      "metadata": {
        "id": "l5P2LKffvp3S",
        "outputId": "d458c7b8-1a02-426b-9e5e-49848284aeb9",
        "colab": {
          "base_uri": "https://localhost:8080/"
        }
      },
      "execution_count": 222,
      "outputs": [
        {
          "output_type": "stream",
          "name": "stdout",
          "text": [
            "tf.Tensor([12], shape=(1,), dtype=int32)\n",
            "tf.Tensor(12, shape=(), dtype=int32)\n"
          ]
        }
      ]
    },
    {
      "cell_type": "code",
      "source": [
        "# keepdim TRUE  - means keep dimensions after add\n",
        "# keepdim FALSE  - means lose dimensions after add\n",
        "\n",
        "input_tensor= tf.constant([\n",
        "  [3,1,9,6,5],\n",
        "  [0,1,7,3,2],\n",
        "  [1,5,1,2,0],\n",
        "  [7,3,0,9,0],\n",
        "\n",
        "])\n",
        "\n",
        "print(tf.math.reduce_sum(\n",
        "    input_tensor, axis=None, keepdims=True,\n",
        "))\n",
        "\n",
        "print(tf.math.reduce_sum(\n",
        "    input_tensor, axis=None, keepdims=False,\n",
        "))"
      ],
      "metadata": {
        "id": "YmebJlwtwCKK",
        "outputId": "beecae19-a72d-4da8-c259-507b76e0e778",
        "colab": {
          "base_uri": "https://localhost:8080/"
        }
      },
      "execution_count": 223,
      "outputs": [
        {
          "output_type": "stream",
          "name": "stdout",
          "text": [
            "tf.Tensor([[65]], shape=(1, 1), dtype=int32)\n",
            "tf.Tensor(65, shape=(), dtype=int32)\n"
          ]
        }
      ]
    },
    {
      "cell_type": "code",
      "source": [
        "input_tensor= tf.constant([\n",
        "  [3,1,9,6,5],\n",
        "  [0,1,7,3,2],\n",
        "  [1,5,1,2,0],\n",
        "  [7,3,0,9,0],\n",
        "\n",
        "])\n",
        "\n",
        "\n",
        "print(tf.math.reduce_sum(\n",
        "    input_tensor, axis=0, keepdims=False, # axis=0 : take sum by column\n",
        "))\n",
        "\n",
        "\n",
        "print(tf.math.reduce_sum(\n",
        "    input_tensor, axis=1, keepdims=False, # axis=1 : take sum by row\n",
        "))\n",
        "\n",
        "\n",
        "print(tf.math.reduce_sum(\n",
        "    input_tensor, axis=None,# axis=None : take sum every of everything\n",
        "    keepdims=True, # keepdim TRUE  - means keep dimensions after add\n",
        "))"
      ],
      "metadata": {
        "id": "KkJlPPG-w9el",
        "outputId": "a1c29d50-9793-4051-b8fb-1e017d7a2ede",
        "colab": {
          "base_uri": "https://localhost:8080/"
        }
      },
      "execution_count": 228,
      "outputs": [
        {
          "output_type": "stream",
          "name": "stdout",
          "text": [
            "tf.Tensor([11 10 17 20  7], shape=(5,), dtype=int32)\n",
            "tf.Tensor([24 13  9 19], shape=(4,), dtype=int32)\n",
            "tf.Tensor([[65]], shape=(1, 1), dtype=int32)\n"
          ]
        }
      ]
    },
    {
      "cell_type": "code",
      "source": [],
      "metadata": {
        "id": "c8GenJ7pxC2y"
      },
      "execution_count": null,
      "outputs": []
    },
    {
      "cell_type": "markdown",
      "source": [
        "#### 9. math.top_k  Method\n",
        "* Finds values and indices of the k largest entries for the last dimension.\n"
      ],
      "metadata": {
        "id": "O8wSLMeyxzuv"
      }
    },
    {
      "cell_type": "code",
      "source": [
        "# https://www.tensorflow.org/api_docs/python/tf/math/top_k"
      ],
      "metadata": {
        "id": "Br-WN0rIx2Bf"
      },
      "execution_count": 229,
      "outputs": []
    },
    {
      "cell_type": "code",
      "source": [
        "result = tf.math.top_k([1, 2, 98, 1, 1, 99, 3, 1, 3, 96, 4, 1],\n",
        "                        k=3) # pick top 3 by k=3\n",
        "print(result)"
      ],
      "metadata": {
        "id": "7IXGF_MVx-na",
        "outputId": "34386916-f4bb-479d-8862-abd3cee184e2",
        "colab": {
          "base_uri": "https://localhost:8080/"
        }
      },
      "execution_count": 230,
      "outputs": [
        {
          "output_type": "stream",
          "name": "stdout",
          "text": [
            "TopKV2(values=<tf.Tensor: shape=(3,), dtype=int32, numpy=array([99, 98, 96], dtype=int32)>, indices=<tf.Tensor: shape=(3,), dtype=int32, numpy=array([5, 2, 9], dtype=int32)>)\n"
          ]
        }
      ]
    },
    {
      "cell_type": "code",
      "source": [
        "result = tf.math.top_k([1, 2, 98, 1, 1, 99, 3, 1, 3, 96, 4, 1],\n",
        "                        k=1) # pick top 1\n",
        "print(result)"
      ],
      "metadata": {
        "id": "tajSFchZyEvw",
        "outputId": "982c5dee-4ca4-4495-f9b7-efd447c3cd83",
        "colab": {
          "base_uri": "https://localhost:8080/"
        }
      },
      "execution_count": 231,
      "outputs": [
        {
          "output_type": "stream",
          "name": "stdout",
          "text": [
            "TopKV2(values=<tf.Tensor: shape=(1,), dtype=int32, numpy=array([99], dtype=int32)>, indices=<tf.Tensor: shape=(1,), dtype=int32, numpy=array([5], dtype=int32)>)\n"
          ]
        }
      ]
    },
    {
      "cell_type": "markdown",
      "source": [
        "#### 10. sigmoid Method\n",
        "* Computes sigmoid of x element-wise.\n",
        "![image.png](data:image/png;base64,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)"
      ],
      "metadata": {
        "id": "0PqiEK8uySUJ"
      }
    },
    {
      "cell_type": "code",
      "source": [
        "# https://www.tensorflow.org/api_docs/python/tf/math/sigmoid"
      ],
      "metadata": {
        "id": "EgvueDw6yskr"
      },
      "execution_count": null,
      "outputs": []
    },
    {
      "cell_type": "code",
      "source": [
        "x = tf.constant([0.0, 1.0, 50.0, 100.0])\n",
        "tf.math.sigmoid(x)"
      ],
      "metadata": {
        "id": "KxYIikFTysh5",
        "outputId": "0f47a65c-d18d-47df-ca71-71ee844e1a9d",
        "colab": {
          "base_uri": "https://localhost:8080/"
        }
      },
      "execution_count": 232,
      "outputs": [
        {
          "output_type": "execute_result",
          "data": {
            "text/plain": [
              "<tf.Tensor: shape=(4,), dtype=float32, numpy=array([0.5      , 0.7310586, 1.       , 1.       ], dtype=float32)>"
            ]
          },
          "metadata": {},
          "execution_count": 232
        }
      ]
    },
    {
      "cell_type": "code",
      "source": [
        "x = tf.constant([-50, 1.0, -5e10, 100.0])\n",
        "tf.math.sigmoid(x)"
      ],
      "metadata": {
        "id": "SEY9DSr8zLty",
        "outputId": "942102b0-ff19-4636-8199-bc22ed6438e8",
        "colab": {
          "base_uri": "https://localhost:8080/"
        }
      },
      "execution_count": 233,
      "outputs": [
        {
          "output_type": "execute_result",
          "data": {
            "text/plain": [
              "<tf.Tensor: shape=(4,), dtype=float32, numpy=\n",
              "array([1.9287499e-22, 7.3105860e-01, 0.0000000e+00, 1.0000000e+00],\n",
              "      dtype=float32)>"
            ]
          },
          "metadata": {},
          "execution_count": 233
        }
      ]
    },
    {
      "cell_type": "code",
      "source": [],
      "metadata": {
        "id": "CIDuQKG5zWZR"
      },
      "execution_count": null,
      "outputs": []
    }
  ]
}