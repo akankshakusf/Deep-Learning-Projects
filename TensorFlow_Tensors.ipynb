{
  "nbformat": 4,
  "nbformat_minor": 0,
  "metadata": {
    "colab": {
      "provenance": [],
      "authorship_tag": "ABX9TyP7OBsSOJD6U2+xAirrbyat",
      "include_colab_link": true
    },
    "kernelspec": {
      "name": "python3",
      "display_name": "Python 3"
    },
    "language_info": {
      "name": "python"
    }
  },
  "cells": [
    {
      "cell_type": "markdown",
      "metadata": {
        "id": "view-in-github",
        "colab_type": "text"
      },
      "source": [
        "<a href=\"https://colab.research.google.com/github/akankshakusf/Deep-Learning-Projects/blob/master/TensorFlow_Tensors.ipynb\" target=\"_parent\"><img src=\"https://colab.research.google.com/assets/colab-badge.svg\" alt=\"Open In Colab\"/></a>"
      ]
    },
    {
      "cell_type": "markdown",
      "source": [
        "# 1.Type of densional tensors - pay attention to closing brackets\n",
        "* 1 closing square brackets\"[---]\" ----> 1D\n",
        "* 2 closing square brackets\"[[---]]\" ----> 2D\n",
        "* 3 closing square brackets\"[[[---]]]\" ----> 3D\n",
        "* 4 closing square brackets\"[[[[---]]]]\" ----> 4D"
      ],
      "metadata": {
        "id": "PZxeg8-x1-tM"
      }
    },
    {
      "cell_type": "code",
      "execution_count": 19,
      "metadata": {
        "id": "9JXy-s2NkBS9"
      },
      "outputs": [],
      "source": [
        "#import packages\n",
        "import tensorflow as tf"
      ]
    },
    {
      "cell_type": "code",
      "source": [
        "tensor_zero_d=tf.constant(4)\n",
        "print(tensor_zero_d)"
      ],
      "metadata": {
        "colab": {
          "base_uri": "https://localhost:8080/"
        },
        "id": "W4tpE4dIsd2c",
        "outputId": "7e937ad9-1e55-4609-89ac-3c4567a5ee1a"
      },
      "execution_count": 20,
      "outputs": [
        {
          "output_type": "stream",
          "name": "stdout",
          "text": [
            "tf.Tensor(4, shape=(), dtype=int32)\n"
          ]
        }
      ]
    },
    {
      "cell_type": "code",
      "source": [
        "#one d\n",
        "tensor_one_d=tf.constant([2,0,-3, 8 ,90.1])\n",
        "print(tensor_one_d)"
      ],
      "metadata": {
        "id": "lGgEEeG-stnr",
        "outputId": "28c31e0f-0d47-4a91-95af-f6e290bc620c",
        "colab": {
          "base_uri": "https://localhost:8080/"
        }
      },
      "execution_count": 21,
      "outputs": [
        {
          "output_type": "stream",
          "name": "stdout",
          "text": [
            "tf.Tensor([ 2.   0.  -3.   8.  90.1], shape=(5,), dtype=float32)\n"
          ]
        }
      ]
    },
    {
      "cell_type": "code",
      "source": [
        "tensor_one_d.shape"
      ],
      "metadata": {
        "id": "6E4HROZKvXlI",
        "outputId": "061da24b-f715-4f44-e944-2bdd590758f5",
        "colab": {
          "base_uri": "https://localhost:8080/"
        }
      },
      "execution_count": 22,
      "outputs": [
        {
          "output_type": "execute_result",
          "data": {
            "text/plain": [
              "TensorShape([5])"
            ]
          },
          "metadata": {},
          "execution_count": 22
        }
      ]
    },
    {
      "cell_type": "code",
      "source": [
        "#stacked one d is 2 d\n",
        "tensor_two_d = tf.constant(\n",
        "    [[1,2,3],\n",
        "    [3,5,-1],\n",
        "    [4,5,6],\n",
        "    [2,3,8]]\n",
        "    )\n",
        "print(tensor_two_d)"
      ],
      "metadata": {
        "id": "6QMphHjctDlh",
        "outputId": "c4e2bd6f-a6fe-4438-fc67-766e929168f8",
        "colab": {
          "base_uri": "https://localhost:8080/"
        }
      },
      "execution_count": 124,
      "outputs": [
        {
          "output_type": "stream",
          "name": "stdout",
          "text": [
            "tf.Tensor(\n",
            "[[ 1  2  3]\n",
            " [ 3  5 -1]\n",
            " [ 4  5  6]\n",
            " [ 2  3  8]], shape=(4, 3), dtype=int32)\n"
          ]
        }
      ]
    },
    {
      "cell_type": "code",
      "source": [
        "tensor_two_d.shape"
      ],
      "metadata": {
        "id": "Ccq6qJSRvVOl",
        "outputId": "9294a327-8425-4a96-d154-8f6cb6756a16",
        "colab": {
          "base_uri": "https://localhost:8080/"
        }
      },
      "execution_count": 24,
      "outputs": [
        {
          "output_type": "execute_result",
          "data": {
            "text/plain": [
              "TensorShape([4, 3])"
            ]
          },
          "metadata": {},
          "execution_count": 24
        }
      ]
    },
    {
      "cell_type": "code",
      "source": [
        "#stacked 2 d is 3 d\n",
        "tensor_three_d=tf.constant(\n",
        "    [[[1,2,3], # as you see they are stacked\n",
        "     [4,5,6]],\n",
        "\n",
        "    [[5,6,4],\n",
        "     [2,0,6]],\n",
        "\n",
        "    [[9,2,1],\n",
        "     [4,9,5]],\n",
        "\n",
        "    [[1,5,3],\n",
        "     [0,1,6]],]\n",
        "\n",
        ")\n",
        "print(tensor_three_d)"
      ],
      "metadata": {
        "id": "xx1KhIKttiAD",
        "outputId": "4f915f15-d2e9-4e53-ab67-aa14f7f2a39a",
        "colab": {
          "base_uri": "https://localhost:8080/"
        }
      },
      "execution_count": 125,
      "outputs": [
        {
          "output_type": "stream",
          "name": "stdout",
          "text": [
            "tf.Tensor(\n",
            "[[[1 2 3]\n",
            "  [4 5 6]]\n",
            "\n",
            " [[5 6 4]\n",
            "  [2 0 6]]\n",
            "\n",
            " [[9 2 1]\n",
            "  [4 9 5]]\n",
            "\n",
            " [[1 5 3]\n",
            "  [0 1 6]]], shape=(4, 2, 3), dtype=int32)\n"
          ]
        }
      ]
    },
    {
      "cell_type": "code",
      "source": [
        "tensor_three_d.shape"
      ],
      "metadata": {
        "id": "_se3He1auGfq",
        "outputId": "d2c2958c-af83-4bcf-d527-b19aa99f562a",
        "colab": {
          "base_uri": "https://localhost:8080/"
        }
      },
      "execution_count": 26,
      "outputs": [
        {
          "output_type": "execute_result",
          "data": {
            "text/plain": [
              "TensorShape([4, 2, 3])"
            ]
          },
          "metadata": {},
          "execution_count": 26
        }
      ]
    },
    {
      "cell_type": "code",
      "source": [
        "#stacked 3 d is 4 d\n",
        "tensor_four_d=tf.constant(\n",
        "[[[[1,2,3],\n",
        "     [4,5,6]],\n",
        "\n",
        "    [[5,6,4],\n",
        "     [2,0,6]],\n",
        "\n",
        "    [[9,3,1],\n",
        "     [4,0,5]],\n",
        "\n",
        "    [[1,5,3],\n",
        "     [0,1,6]]\n",
        "],  #--------first stack ends here\n",
        "\n",
        "[    [[1,7,3],\n",
        "     [4,5,0]],\n",
        "\n",
        "    [[5,9,4],\n",
        "     [2,0,6]],\n",
        "\n",
        "    [[32,2,1],\n",
        "     [4,9,5]],\n",
        "\n",
        "    [[1,5,3],\n",
        "     [0,3,43]]\n",
        "\n",
        "], #--------second stack ends here\n",
        "\n",
        "[   [[1,2,3],\n",
        "     [4,6,6]],\n",
        "\n",
        "    [[5,6,4],\n",
        "     [2,2,6]],\n",
        "\n",
        "    [[9,2,1],\n",
        "     [4,9,5]],\n",
        "\n",
        "    [[1,2,3],\n",
        "     [0,1,9]]],])\n",
        "#--------third stack ends here\n",
        "\n",
        "print(tensor_four_d)"
      ],
      "metadata": {
        "id": "K6ujTfgevglz",
        "outputId": "04e0ba9e-6316-4240-b9bc-08b1e2bedb71",
        "colab": {
          "base_uri": "https://localhost:8080/"
        }
      },
      "execution_count": 126,
      "outputs": [
        {
          "output_type": "stream",
          "name": "stdout",
          "text": [
            "tf.Tensor(\n",
            "[[[[ 1  2  3]\n",
            "   [ 4  5  6]]\n",
            "\n",
            "  [[ 5  6  4]\n",
            "   [ 2  0  6]]\n",
            "\n",
            "  [[ 9  3  1]\n",
            "   [ 4  0  5]]\n",
            "\n",
            "  [[ 1  5  3]\n",
            "   [ 0  1  6]]]\n",
            "\n",
            "\n",
            " [[[ 1  7  3]\n",
            "   [ 4  5  0]]\n",
            "\n",
            "  [[ 5  9  4]\n",
            "   [ 2  0  6]]\n",
            "\n",
            "  [[32  2  1]\n",
            "   [ 4  9  5]]\n",
            "\n",
            "  [[ 1  5  3]\n",
            "   [ 0  3 43]]]\n",
            "\n",
            "\n",
            " [[[ 1  2  3]\n",
            "   [ 4  6  6]]\n",
            "\n",
            "  [[ 5  6  4]\n",
            "   [ 2  2  6]]\n",
            "\n",
            "  [[ 9  2  1]\n",
            "   [ 4  9  5]]\n",
            "\n",
            "  [[ 1  2  3]\n",
            "   [ 0  1  9]]]], shape=(3, 4, 2, 3), dtype=int32)\n"
          ]
        }
      ]
    },
    {
      "cell_type": "code",
      "source": [
        "tensor_four_d.shape"
      ],
      "metadata": {
        "id": "I8tkqwVrvgjJ",
        "outputId": "20f3f1a7-6c86-45d3-d7b8-604c431ed1ae",
        "colab": {
          "base_uri": "https://localhost:8080/"
        }
      },
      "execution_count": 28,
      "outputs": [
        {
          "output_type": "execute_result",
          "data": {
            "text/plain": [
              "TensorShape([3, 4, 2, 3])"
            ]
          },
          "metadata": {},
          "execution_count": 28
        }
      ]
    },
    {
      "cell_type": "markdown",
      "source": [
        "# 2. manually changing the data type\n",
        "* lower precision tensors float 16, float 32, float 64 etc"
      ],
      "metadata": {
        "id": "XbjWBf4o1ztt"
      }
    },
    {
      "cell_type": "code",
      "source": [
        "tensor_one_d=tf.constant([2,0,-3, 8 ,90.1], dtype=tf.float16)\n",
        "print(tensor_one_d)\n",
        "\n",
        "tensor_one_d=tf.constant([2,0,-3, 8 ,90.1], dtype=tf.float32)\n",
        "print(tensor_one_d)\n",
        "\n",
        "tensor_one_d=tf.constant([2,0,-3, 8 ,90.1], dtype=tf.float64)\n",
        "print(tensor_one_d)"
      ],
      "metadata": {
        "id": "EOw3H-onxQ9c",
        "outputId": "ddefd41b-05df-4140-cfea-479f0212b84a",
        "colab": {
          "base_uri": "https://localhost:8080/"
        }
      },
      "execution_count": 32,
      "outputs": [
        {
          "output_type": "stream",
          "name": "stdout",
          "text": [
            "tf.Tensor([ 2.   0.  -3.   8.  90.1], shape=(5,), dtype=float16)\n",
            "tf.Tensor([ 2.   0.  -3.   8.  90.1], shape=(5,), dtype=float32)\n",
            "tf.Tensor([ 2.   0.  -3.   8.  90.1], shape=(5,), dtype=float64)\n"
          ]
        }
      ]
    },
    {
      "cell_type": "markdown",
      "source": [
        "This is simply means that tensors will take less space in ram"
      ],
      "metadata": {
        "id": "-wVbsazV2mtQ"
      }
    },
    {
      "cell_type": "markdown",
      "source": [
        "# 3. Casting of tensors to different data types"
      ],
      "metadata": {
        "id": "D9X2D7_929Kw"
      }
    },
    {
      "cell_type": "code",
      "source": [
        "tensor_one_d=tf.constant([2,0,-3, 8 ,90.1], dtype=tf.float16)\n",
        "\n",
        "casted_tensor_one_d=tf.cast(tensor_one_d, dtype=tf.int64)\n",
        "print(casted_tensor_one_d)\n",
        "print(tensor_one_d)"
      ],
      "metadata": {
        "id": "WeLYCDJc2P9D",
        "outputId": "49054404-7f26-4c51-dce6-9ef449484e00",
        "colab": {
          "base_uri": "https://localhost:8080/"
        }
      },
      "execution_count": 37,
      "outputs": [
        {
          "output_type": "stream",
          "name": "stdout",
          "text": [
            "tf.Tensor([ 2  0 -3  8 90], shape=(5,), dtype=int64)\n",
            "tf.Tensor([ 2.   0.  -3.   8.  90.1], shape=(5,), dtype=float16)\n"
          ]
        }
      ]
    },
    {
      "cell_type": "code",
      "source": [
        "tensor_two_d = tf.constant([\n",
        "    [1,2,3],\n",
        "    [3,5,-1],\n",
        "    [4,5,6],\n",
        "    [2,3,8]\n",
        "])\n",
        "\n",
        "casted_tensor_two_d=tf.cast(tensor_two_d, dtype=tf.float32)\n",
        "print(casted_tensor_two_d)\n",
        "print(tensor_two_d)"
      ],
      "metadata": {
        "id": "h5uJVfbz3pwD",
        "outputId": "1508feb3-5f24-40a1-a971-833e3ac4018a",
        "colab": {
          "base_uri": "https://localhost:8080/"
        }
      },
      "execution_count": 38,
      "outputs": [
        {
          "output_type": "stream",
          "name": "stdout",
          "text": [
            "tf.Tensor(\n",
            "[[ 1.  2.  3.]\n",
            " [ 3.  5. -1.]\n",
            " [ 4.  5.  6.]\n",
            " [ 2.  3.  8.]], shape=(4, 3), dtype=float32)\n",
            "tf.Tensor(\n",
            "[[ 1  2  3]\n",
            " [ 3  5 -1]\n",
            " [ 4  5  6]\n",
            " [ 2  3  8]], shape=(4, 3), dtype=int32)\n"
          ]
        }
      ]
    },
    {
      "cell_type": "code",
      "source": [
        "tensor_one_d=tf.constant([2,0,-3, 8 ,90.1], dtype=tf.float16)\n",
        "print(tensor_one_d)\n",
        "tensor_bool=tf.cast(tensor_one_d,dtype=tf.bool)\n",
        "print(tensor_bool)"
      ],
      "metadata": {
        "id": "MtWhEerU4C2r",
        "outputId": "a020316b-cfdd-4701-8cc8-bf93354b5871",
        "colab": {
          "base_uri": "https://localhost:8080/"
        }
      },
      "execution_count": 40,
      "outputs": [
        {
          "output_type": "stream",
          "name": "stdout",
          "text": [
            "tf.Tensor([ 2.   0.  -3.   8.  90.1], shape=(5,), dtype=float16)\n",
            "tf.Tensor([ True False  True  True  True], shape=(5,), dtype=bool)\n"
          ]
        }
      ]
    },
    {
      "cell_type": "code",
      "source": [
        "tensor_string=tf.constant([\"hello world\",\"hi\"])\n",
        "print(tensor_string)"
      ],
      "metadata": {
        "id": "Ez2k2zMO9CLk",
        "outputId": "2f4048dd-140b-4629-dfb4-086591769f67",
        "colab": {
          "base_uri": "https://localhost:8080/"
        }
      },
      "execution_count": 41,
      "outputs": [
        {
          "output_type": "stream",
          "name": "stdout",
          "text": [
            "tf.Tensor([b'hello world' b'hi'], shape=(2,), dtype=string)\n"
          ]
        }
      ]
    },
    {
      "cell_type": "markdown",
      "source": [
        "# 4. Converting Numpy to tensor"
      ],
      "metadata": {
        "id": "I0TJ6vqo9kuT"
      }
    },
    {
      "cell_type": "code",
      "source": [
        "import numpy as np\n",
        "np_array=np.array([1,2,3])\n",
        "print(np_array)\n"
      ],
      "metadata": {
        "id": "NG2sFij49cYN",
        "outputId": "455430d0-4939-40db-e0d2-e11131e95bfd",
        "colab": {
          "base_uri": "https://localhost:8080/"
        }
      },
      "execution_count": 43,
      "outputs": [
        {
          "output_type": "stream",
          "name": "stdout",
          "text": [
            "[1 2 3]\n"
          ]
        }
      ]
    },
    {
      "cell_type": "code",
      "source": [
        "converted_tensor=tf.convert_to_tensor(np_array)\n",
        "print(converted_tensor)"
      ],
      "metadata": {
        "id": "lhNOynjd960M",
        "outputId": "e572e302-8e14-4415-d074-1261b044cc19",
        "colab": {
          "base_uri": "https://localhost:8080/"
        }
      },
      "execution_count": 44,
      "outputs": [
        {
          "output_type": "stream",
          "name": "stdout",
          "text": [
            "tf.Tensor([1 2 3], shape=(3,), dtype=int64)\n"
          ]
        }
      ]
    },
    {
      "cell_type": "code",
      "source": [
        "#recheck the type\n",
        "print(type(np_array))\n",
        "print(type(converted_tensor))"
      ],
      "metadata": {
        "id": "zshxLzbm-Pet",
        "outputId": "3b02f1fc-6c32-41c2-fd58-0390a09a98c8",
        "colab": {
          "base_uri": "https://localhost:8080/"
        }
      },
      "execution_count": 45,
      "outputs": [
        {
          "output_type": "stream",
          "name": "stdout",
          "text": [
            "<class 'numpy.ndarray'>\n",
            "<class 'tensorflow.python.framework.ops.EagerTensor'>\n"
          ]
        }
      ]
    },
    {
      "cell_type": "markdown",
      "source": [
        "# 5. Using eye method\n"
      ],
      "metadata": {
        "id": "DWUTxbMTBZgf"
      }
    },
    {
      "cell_type": "code",
      "source": [
        "# got this code form \"https://www.tensorflow.org/api_docs/python/tf/eye\"\n",
        "eye_tensor=tf.eye(\n",
        "    num_rows=3,\n",
        "    num_columns=None,\n",
        "    batch_shape=None,\n",
        "    dtype=tf.dtypes.float16,\n",
        "    name=None\n",
        ")\n",
        "print(3*eye_tensor)"
      ],
      "metadata": {
        "id": "q0Gl3Q4-Bb8U",
        "outputId": "c426de28-8f8e-4947-dc5e-b84135af552a",
        "colab": {
          "base_uri": "https://localhost:8080/"
        }
      },
      "execution_count": 52,
      "outputs": [
        {
          "output_type": "stream",
          "name": "stdout",
          "text": [
            "tf.Tensor(\n",
            "[[3. 0. 0.]\n",
            " [0. 3. 0.]\n",
            " [0. 0. 3.]], shape=(3, 3), dtype=float16)\n"
          ]
        }
      ]
    },
    {
      "cell_type": "code",
      "source": [
        "eye_tensor=tf.eye(\n",
        "    num_rows=3,\n",
        "    num_columns=None,\n",
        "    batch_shape=None,\n",
        "    dtype=tf.dtypes.bool,\n",
        "    name=None\n",
        ")\n",
        "print(eye_tensor)"
      ],
      "metadata": {
        "id": "Ee5FQKS_BtmY",
        "outputId": "6f9b564c-8d6f-467a-cfa8-d23b521abed1",
        "colab": {
          "base_uri": "https://localhost:8080/"
        }
      },
      "execution_count": 53,
      "outputs": [
        {
          "output_type": "stream",
          "name": "stdout",
          "text": [
            "tf.Tensor(\n",
            "[[ True False False]\n",
            " [False  True False]\n",
            " [False False  True]], shape=(3, 3), dtype=bool)\n"
          ]
        }
      ]
    },
    {
      "cell_type": "code",
      "source": [
        "# changing batch size\n",
        "eye_tensor=tf.eye(\n",
        "    num_rows=5,\n",
        "    num_columns=None,\n",
        "    batch_shape=[3,],\n",
        "    dtype=tf.dtypes.float32,\n",
        "    name=None\n",
        ")\n",
        "print(eye_tensor)"
      ],
      "metadata": {
        "id": "OkhiVoYKCGeb",
        "outputId": "0312fedc-ad92-407d-ad10-18eac98614a0",
        "colab": {
          "base_uri": "https://localhost:8080/"
        }
      },
      "execution_count": 58,
      "outputs": [
        {
          "output_type": "stream",
          "name": "stdout",
          "text": [
            "tf.Tensor(\n",
            "[[[1. 0. 0. 0. 0.]\n",
            "  [0. 1. 0. 0. 0.]\n",
            "  [0. 0. 1. 0. 0.]\n",
            "  [0. 0. 0. 1. 0.]\n",
            "  [0. 0. 0. 0. 1.]]\n",
            "\n",
            " [[1. 0. 0. 0. 0.]\n",
            "  [0. 1. 0. 0. 0.]\n",
            "  [0. 0. 1. 0. 0.]\n",
            "  [0. 0. 0. 1. 0.]\n",
            "  [0. 0. 0. 0. 1.]]\n",
            "\n",
            " [[1. 0. 0. 0. 0.]\n",
            "  [0. 1. 0. 0. 0.]\n",
            "  [0. 0. 1. 0. 0.]\n",
            "  [0. 0. 0. 1. 0.]\n",
            "  [0. 0. 0. 0. 1.]]], shape=(3, 5, 5), dtype=float32)\n"
          ]
        }
      ]
    },
    {
      "cell_type": "code",
      "source": [
        "# changing batch size\n",
        "eye_tensor=tf.eye(\n",
        "    num_rows=5,\n",
        "    num_columns=None,\n",
        "    batch_shape=[2,],\n",
        "    dtype=tf.dtypes.float32,\n",
        "    name=None\n",
        ")\n",
        "print(eye_tensor)"
      ],
      "metadata": {
        "id": "lb8v0ymKCGbt",
        "outputId": "61a4f2f8-82c8-49c5-a2d7-9de4246c0f4e",
        "colab": {
          "base_uri": "https://localhost:8080/"
        }
      },
      "execution_count": 59,
      "outputs": [
        {
          "output_type": "stream",
          "name": "stdout",
          "text": [
            "tf.Tensor(\n",
            "[[[1. 0. 0. 0. 0.]\n",
            "  [0. 1. 0. 0. 0.]\n",
            "  [0. 0. 1. 0. 0.]\n",
            "  [0. 0. 0. 1. 0.]\n",
            "  [0. 0. 0. 0. 1.]]\n",
            "\n",
            " [[1. 0. 0. 0. 0.]\n",
            "  [0. 1. 0. 0. 0.]\n",
            "  [0. 0. 1. 0. 0.]\n",
            "  [0. 0. 0. 1. 0.]\n",
            "  [0. 0. 0. 0. 1.]]], shape=(2, 5, 5), dtype=float32)\n"
          ]
        }
      ]
    },
    {
      "cell_type": "code",
      "source": [
        "# changing batch size\n",
        "eye_tensor=tf.eye(\n",
        "    num_rows=5,\n",
        "    num_columns=None,\n",
        "    batch_shape=[2,4],\n",
        "    dtype=tf.dtypes.float32,\n",
        "    name=None\n",
        ")\n",
        "print(eye_tensor)"
      ],
      "metadata": {
        "id": "b-F11IP_CGZT",
        "outputId": "8fd7b5d8-9052-466c-ab65-9ca52c4f362b",
        "colab": {
          "base_uri": "https://localhost:8080/"
        }
      },
      "execution_count": 60,
      "outputs": [
        {
          "output_type": "stream",
          "name": "stdout",
          "text": [
            "tf.Tensor(\n",
            "[[[[1. 0. 0. 0. 0.]\n",
            "   [0. 1. 0. 0. 0.]\n",
            "   [0. 0. 1. 0. 0.]\n",
            "   [0. 0. 0. 1. 0.]\n",
            "   [0. 0. 0. 0. 1.]]\n",
            "\n",
            "  [[1. 0. 0. 0. 0.]\n",
            "   [0. 1. 0. 0. 0.]\n",
            "   [0. 0. 1. 0. 0.]\n",
            "   [0. 0. 0. 1. 0.]\n",
            "   [0. 0. 0. 0. 1.]]\n",
            "\n",
            "  [[1. 0. 0. 0. 0.]\n",
            "   [0. 1. 0. 0. 0.]\n",
            "   [0. 0. 1. 0. 0.]\n",
            "   [0. 0. 0. 1. 0.]\n",
            "   [0. 0. 0. 0. 1.]]\n",
            "\n",
            "  [[1. 0. 0. 0. 0.]\n",
            "   [0. 1. 0. 0. 0.]\n",
            "   [0. 0. 1. 0. 0.]\n",
            "   [0. 0. 0. 1. 0.]\n",
            "   [0. 0. 0. 0. 1.]]]\n",
            "\n",
            "\n",
            " [[[1. 0. 0. 0. 0.]\n",
            "   [0. 1. 0. 0. 0.]\n",
            "   [0. 0. 1. 0. 0.]\n",
            "   [0. 0. 0. 1. 0.]\n",
            "   [0. 0. 0. 0. 1.]]\n",
            "\n",
            "  [[1. 0. 0. 0. 0.]\n",
            "   [0. 1. 0. 0. 0.]\n",
            "   [0. 0. 1. 0. 0.]\n",
            "   [0. 0. 0. 1. 0.]\n",
            "   [0. 0. 0. 0. 1.]]\n",
            "\n",
            "  [[1. 0. 0. 0. 0.]\n",
            "   [0. 1. 0. 0. 0.]\n",
            "   [0. 0. 1. 0. 0.]\n",
            "   [0. 0. 0. 1. 0.]\n",
            "   [0. 0. 0. 0. 1.]]\n",
            "\n",
            "  [[1. 0. 0. 0. 0.]\n",
            "   [0. 1. 0. 0. 0.]\n",
            "   [0. 0. 1. 0. 0.]\n",
            "   [0. 0. 0. 1. 0.]\n",
            "   [0. 0. 0. 0. 1.]]]], shape=(2, 4, 5, 5), dtype=float32)\n"
          ]
        }
      ]
    },
    {
      "cell_type": "markdown",
      "source": [
        "# 5. Using Fill method\n"
      ],
      "metadata": {
        "id": "UQGyi5fVC7DT"
      }
    },
    {
      "cell_type": "code",
      "source": [
        "# https://www.tensorflow.org/api_docs/python/tf/fill\n",
        "fill_tensor=tf.fill(\n",
        "    [1,3,4], 5, name=None, layout=None\n",
        ")\n",
        "print(fill_tensor) # 3d"
      ],
      "metadata": {
        "id": "UdfWNzVDC904",
        "outputId": "e8588e7c-8979-41bc-8fc2-a7e3ce1a13b9",
        "colab": {
          "base_uri": "https://localhost:8080/"
        }
      },
      "execution_count": 61,
      "outputs": [
        {
          "output_type": "stream",
          "name": "stdout",
          "text": [
            "tf.Tensor(\n",
            "[[[5 5 5 5]\n",
            "  [5 5 5 5]\n",
            "  [5 5 5 5]]], shape=(1, 3, 4), dtype=int32)\n"
          ]
        }
      ]
    },
    {
      "cell_type": "markdown",
      "source": [
        "# 6. Using Ones method  "
      ],
      "metadata": {
        "id": "cDvCaGIVDbE8"
      }
    },
    {
      "cell_type": "code",
      "source": [
        "# https://www.tensorflow.org/api_docs/python/tf/ones\n",
        "ones_tensor=tf.ones(\n",
        "    [5,3], #shape 2d\n",
        "    dtype=tf.dtypes.float32,\n",
        "    name=None,\n",
        "    layout=None\n",
        ")\n",
        "print(ones_tensor)"
      ],
      "metadata": {
        "id": "2sOUvuxQDedx",
        "outputId": "e4ba0046-d660-4eb9-edb9-39942a8ffd80",
        "colab": {
          "base_uri": "https://localhost:8080/"
        }
      },
      "execution_count": 62,
      "outputs": [
        {
          "output_type": "stream",
          "name": "stdout",
          "text": [
            "tf.Tensor(\n",
            "[[1. 1. 1.]\n",
            " [1. 1. 1.]\n",
            " [1. 1. 1.]\n",
            " [1. 1. 1.]\n",
            " [1. 1. 1.]], shape=(5, 3), dtype=float32)\n"
          ]
        }
      ]
    },
    {
      "cell_type": "code",
      "source": [
        "ones_tensor=tf.ones(\n",
        "    [5,3,2], #shape 3d\n",
        "    dtype=tf.dtypes.float32,\n",
        "    name=None,\n",
        "    layout=None\n",
        ")\n",
        "print(ones_tensor)"
      ],
      "metadata": {
        "id": "6JvoLA2qEDpg",
        "outputId": "704f60b6-c37d-4a83-a1a5-4c251481dfb2",
        "colab": {
          "base_uri": "https://localhost:8080/"
        }
      },
      "execution_count": 63,
      "outputs": [
        {
          "output_type": "stream",
          "name": "stdout",
          "text": [
            "tf.Tensor(\n",
            "[[[1. 1.]\n",
            "  [1. 1.]\n",
            "  [1. 1.]]\n",
            "\n",
            " [[1. 1.]\n",
            "  [1. 1.]\n",
            "  [1. 1.]]\n",
            "\n",
            " [[1. 1.]\n",
            "  [1. 1.]\n",
            "  [1. 1.]]\n",
            "\n",
            " [[1. 1.]\n",
            "  [1. 1.]\n",
            "  [1. 1.]]\n",
            "\n",
            " [[1. 1.]\n",
            "  [1. 1.]\n",
            "  [1. 1.]]], shape=(5, 3, 2), dtype=float32)\n"
          ]
        }
      ]
    },
    {
      "cell_type": "markdown",
      "source": [
        "# 7. Using Ones like Method"
      ],
      "metadata": {
        "id": "1x4U9OL2EPzZ"
      }
    },
    {
      "cell_type": "code",
      "source": [
        "# https://www.tensorflow.org/api_docs/python/tf/ones_like\n",
        "once_like_tensor = tf.ones_like(fill_tensor)\n",
        "print(once_like_tensor)"
      ],
      "metadata": {
        "id": "4YCmMoUcESwP",
        "outputId": "09b8a62e-69b5-4a2b-8818-80aae30ea252",
        "colab": {
          "base_uri": "https://localhost:8080/"
        }
      },
      "execution_count": 67,
      "outputs": [
        {
          "output_type": "stream",
          "name": "stdout",
          "text": [
            "tf.Tensor(\n",
            "[[[1 1 1 1]\n",
            "  [1 1 1 1]\n",
            "  [1 1 1 1]]], shape=(1, 3, 4), dtype=int32)\n"
          ]
        }
      ]
    },
    {
      "cell_type": "markdown",
      "source": [
        "# 8. Using Zeros method"
      ],
      "metadata": {
        "id": "WPERMpnKFtpW"
      }
    },
    {
      "cell_type": "code",
      "source": [
        "#https://www.tensorflow.org/api_docs/python/tf/zeros\n",
        "zeros_tensor=tf.zeros(\n",
        "    [3,2],\n",
        "    dtype=tf.dtypes.float32,\n",
        "    name=None,\n",
        "    layout=None\n",
        ")\n",
        "print(zeros_tensor)"
      ],
      "metadata": {
        "id": "ZZbg5pVZEmvf",
        "outputId": "3750c448-136f-413d-b744-4d6ba1a6a4f1",
        "colab": {
          "base_uri": "https://localhost:8080/"
        }
      },
      "execution_count": 68,
      "outputs": [
        {
          "output_type": "stream",
          "name": "stdout",
          "text": [
            "tf.Tensor(\n",
            "[[0. 0.]\n",
            " [0. 0.]\n",
            " [0. 0.]], shape=(3, 2), dtype=float32)\n"
          ]
        }
      ]
    },
    {
      "cell_type": "markdown",
      "source": [
        "# 9. Using shape method"
      ],
      "metadata": {
        "id": "yKvVwzg5GKmm"
      }
    },
    {
      "cell_type": "code",
      "source": [
        "#https://www.tensorflow.org/api_docs/python/tf/shape\n",
        "print(tensor_three_d)"
      ],
      "metadata": {
        "id": "7czU11m6GVB5",
        "outputId": "05265c58-f822-4adc-9157-c56cc8c59bcc",
        "colab": {
          "base_uri": "https://localhost:8080/"
        }
      },
      "execution_count": 73,
      "outputs": [
        {
          "output_type": "stream",
          "name": "stdout",
          "text": [
            "tf.Tensor(\n",
            "[[[1 2 3]\n",
            "  [4 5 6]]\n",
            "\n",
            " [[5 6 4]\n",
            "  [2 0 6]]\n",
            "\n",
            " [[9 2 1]\n",
            "  [4 9 5]]\n",
            "\n",
            " [[1 5 3]\n",
            "  [0 1 6]]], shape=(4, 2, 3), dtype=int32)\n"
          ]
        }
      ]
    },
    {
      "cell_type": "code",
      "source": [
        "print(tf.shape(tensor_three_d))"
      ],
      "metadata": {
        "id": "tzRM5M0DGl9H",
        "outputId": "276e8ea8-afd0-489b-a9b6-0d13b101e3ff",
        "colab": {
          "base_uri": "https://localhost:8080/"
        }
      },
      "execution_count": 72,
      "outputs": [
        {
          "output_type": "stream",
          "name": "stdout",
          "text": [
            "tf.Tensor([4 2 3], shape=(3,), dtype=int32)\n"
          ]
        }
      ]
    },
    {
      "cell_type": "markdown",
      "source": [
        "# 10.Rank method"
      ],
      "metadata": {
        "id": "JpxhLDgiHCL2"
      }
    },
    {
      "cell_type": "code",
      "source": [
        "# https://www.tensorflow.org/api_docs/python/tf/rank\n",
        "# shape of tensor 't' is [2, 2, 3]\n",
        "t = tf.constant([[1, 1, 1], [2, 2, 2]])\n",
        "tf.rank(t)  # 3\n"
      ],
      "metadata": {
        "id": "D_ZUQYucGtwY",
        "outputId": "67db7770-428d-4f18-bdcf-c250bf336e95",
        "colab": {
          "base_uri": "https://localhost:8080/"
        }
      },
      "execution_count": 76,
      "outputs": [
        {
          "output_type": "execute_result",
          "data": {
            "text/plain": [
              "<tf.Tensor: shape=(), dtype=int32, numpy=2>"
            ]
          },
          "metadata": {},
          "execution_count": 76
        }
      ]
    },
    {
      "cell_type": "markdown",
      "source": [
        "# 11.Size method"
      ],
      "metadata": {
        "id": "CCLlxL1XJQ9g"
      }
    },
    {
      "cell_type": "code",
      "source": [
        "#https://www.tensorflow.org/api_docs/python/tf/size\n",
        "#tf.shape.- Returns a 0-D Tensor representing the number of elements in input of type out_type. Defaults to tf.int32.\n",
        "t = tf.constant([[[1, 1, 1], [2, 2, 2]], [[3, 3, 3], [4, 4, 4]]])\n",
        "tf.size(t)"
      ],
      "metadata": {
        "id": "F-zcEvXoI-Et",
        "outputId": "8c1ec31a-f331-4c3c-a918-8018d29042a6",
        "colab": {
          "base_uri": "https://localhost:8080/"
        }
      },
      "execution_count": 78,
      "outputs": [
        {
          "output_type": "execute_result",
          "data": {
            "text/plain": [
              "<tf.Tensor: shape=(), dtype=int32, numpy=12>"
            ]
          },
          "metadata": {},
          "execution_count": 78
        }
      ]
    },
    {
      "cell_type": "code",
      "source": [
        "t = tf.constant([[1, 1, 1], [2, 2, 2]])\n",
        "tf.size(t)"
      ],
      "metadata": {
        "id": "Nac5ASGXJTxR",
        "outputId": "c98e685f-a103-4eaa-8210-25839688c63d",
        "colab": {
          "base_uri": "https://localhost:8080/"
        }
      },
      "execution_count": 84,
      "outputs": [
        {
          "output_type": "execute_result",
          "data": {
            "text/plain": [
              "<tf.Tensor: shape=(), dtype=int32, numpy=6>"
            ]
          },
          "metadata": {},
          "execution_count": 84
        }
      ]
    },
    {
      "cell_type": "code",
      "source": [
        "#change the dtype- here called outtype\n",
        "\n",
        "t = tf.constant([[1, 1, 1], [2, 2, 2]],)\n",
        "tf.size(t,out_type=tf.float32)"
      ],
      "metadata": {
        "id": "e8PwJ00fJTuz",
        "outputId": "3740cfc9-05b7-420a-d6c7-a998a802fd1b",
        "colab": {
          "base_uri": "https://localhost:8080/"
        }
      },
      "execution_count": 86,
      "outputs": [
        {
          "output_type": "execute_result",
          "data": {
            "text/plain": [
              "<tf.Tensor: shape=(), dtype=float32, numpy=6.0>"
            ]
          },
          "metadata": {},
          "execution_count": 86
        }
      ]
    },
    {
      "cell_type": "markdown",
      "source": [
        "# 12.Random Normal method"
      ],
      "metadata": {
        "id": "W-E82cQXKcK3"
      }
    },
    {
      "cell_type": "code",
      "source": [
        "# https://www.tensorflow.org/api_docs/python/tf/random/normal\n",
        "# Outputs random values from a normal distribution.\n",
        "random_tensor=tf.random.normal(\n",
        "    [3,2],\n",
        "    mean=0.0, # this is normal distribution\n",
        "    stddev=1.0, # this is normal distribution\n",
        "    dtype=tf.dtypes.float32,\n",
        "    seed=None,\n",
        "    name=None\n",
        ")\n",
        "print(random_tensor) # if you see the all elements in matrix are very close to 0 showing Normal distribution"
      ],
      "metadata": {
        "id": "_OKe-1OAJTsD",
        "outputId": "6400d1e1-6758-40c8-8f85-02db8058b2a7",
        "colab": {
          "base_uri": "https://localhost:8080/"
        }
      },
      "execution_count": 87,
      "outputs": [
        {
          "output_type": "stream",
          "name": "stdout",
          "text": [
            "tf.Tensor(\n",
            "[[ 0.2750867  -0.43862012]\n",
            " [-0.14218335  0.40876484]\n",
            " [-0.75498474 -0.90786606]], shape=(3, 2), dtype=float32)\n"
          ]
        }
      ]
    },
    {
      "cell_type": "code",
      "source": [
        "random_tensor=tf.random.normal(\n",
        "    [3,2],\n",
        "    mean=100, # this is normal distribution\n",
        "    stddev=1.0, # this is normal distribution\n",
        "    dtype=tf.dtypes.float32,\n",
        "    seed=None,\n",
        "    name=None\n",
        ")\n",
        "print(random_tensor) # if you see the all elements in matrix are far away from 0 close to 100 showing No Normal distribution"
      ],
      "metadata": {
        "id": "KrCnHsGvJTpW",
        "outputId": "e8723441-1909-48be-8538-e76131594798",
        "colab": {
          "base_uri": "https://localhost:8080/"
        }
      },
      "execution_count": 88,
      "outputs": [
        {
          "output_type": "stream",
          "name": "stdout",
          "text": [
            "tf.Tensor(\n",
            "[[ 99.73101  100.62563 ]\n",
            " [ 99.619644  99.33961 ]\n",
            " [ 98.33884   99.67424 ]], shape=(3, 2), dtype=float32)\n"
          ]
        }
      ]
    },
    {
      "cell_type": "markdown",
      "source": [
        "# 11. Uniform method"
      ],
      "metadata": {
        "id": "dv6IgO72O9Cz"
      }
    },
    {
      "cell_type": "code",
      "source": [
        "# https://www.tensorflow.org/api_docs/python/tf/random/uniform\n",
        "random_tensor=tf.random.uniform(\n",
        "    [5,],\n",
        "    minval=0,\n",
        "    maxval=8,\n",
        "    dtype=tf.dtypes.float32,\n",
        "    seed=None,\n",
        "    name=None\n",
        ")\n",
        "print(random_tensor)"
      ],
      "metadata": {
        "id": "e2tFVg-2PBf7",
        "outputId": "4c90a172-a118-4444-a26d-a1c931fa28b2",
        "colab": {
          "base_uri": "https://localhost:8080/"
        }
      },
      "execution_count": 91,
      "outputs": [
        {
          "output_type": "stream",
          "name": "stdout",
          "text": [
            "tf.Tensor([0.7093086 4.782407  7.717207  2.840849  6.352215 ], shape=(5,), dtype=float32)\n"
          ]
        }
      ]
    },
    {
      "cell_type": "code",
      "source": [
        "random_tensor=tf.random.uniform(\n",
        "    [1,],\n",
        "    minval=0,\n",
        "    maxval=None,\n",
        "    dtype=tf.dtypes.float32,\n",
        "    seed=None,\n",
        "    name=None\n",
        ")\n",
        "print(random_tensor)"
      ],
      "metadata": {
        "id": "RxCnBgZIPbr1",
        "outputId": "60cde0ff-f7b6-4326-c98a-f03be75f7a4c",
        "colab": {
          "base_uri": "https://localhost:8080/"
        }
      },
      "execution_count": 93,
      "outputs": [
        {
          "output_type": "stream",
          "name": "stdout",
          "text": [
            "tf.Tensor([0.56499684], shape=(1,), dtype=float32)\n"
          ]
        }
      ]
    },
    {
      "cell_type": "code",
      "source": [
        "random_tensor=tf.random.uniform(\n",
        "    [2,2],\n",
        "    minval=0,\n",
        "    maxval=100,\n",
        "    dtype=tf.dtypes.int32,\n",
        "    seed=None,\n",
        "    name=None\n",
        ")\n",
        "print(random_tensor)"
      ],
      "metadata": {
        "id": "1Wy-gVHiPtBD",
        "outputId": "3cf1e685-bd65-447a-90fb-6c6286549407",
        "colab": {
          "base_uri": "https://localhost:8080/"
        }
      },
      "execution_count": 98,
      "outputs": [
        {
          "output_type": "stream",
          "name": "stdout",
          "text": [
            "tf.Tensor(\n",
            "[[26 84]\n",
            " [13 40]], shape=(2, 2), dtype=int32)\n"
          ]
        }
      ]
    },
    {
      "cell_type": "code",
      "source": [
        "random_tensor=tf.random.uniform(\n",
        "    [5,5],\n",
        "    minval=0,\n",
        "    maxval=1000,\n",
        "    dtype=tf.dtypes.int32,\n",
        "    seed=None,\n",
        "    name=None\n",
        ")\n",
        "print(random_tensor)"
      ],
      "metadata": {
        "id": "Jmr-Xb3RRPr-",
        "outputId": "1e2a0198-acf0-4bfe-e47d-d67a28471edd",
        "colab": {
          "base_uri": "https://localhost:8080/"
        }
      },
      "execution_count": 96,
      "outputs": [
        {
          "output_type": "stream",
          "name": "stdout",
          "text": [
            "tf.Tensor(\n",
            "[[496 325 831 556 989]\n",
            " [739 259 458 535 676]\n",
            " [834  47 821 652 525]\n",
            " [274 976 109 556 768]\n",
            " [372 863 663 649 241]], shape=(5, 5), dtype=int32)\n"
          ]
        }
      ]
    },
    {
      "cell_type": "code",
      "source": [],
      "metadata": {
        "id": "iQ_7g3VJRxgO"
      },
      "execution_count": null,
      "outputs": []
    },
    {
      "cell_type": "markdown",
      "source": [
        "# 12.RandomSeed"
      ],
      "metadata": {
        "id": "XGFvhy_RR_07"
      }
    },
    {
      "cell_type": "code",
      "source": [
        "# https://www.tensorflow.org/api_docs/python/tf/random/set_seed\n",
        "\n",
        "tf.random.set_seed(5)\n",
        "print(tf.random.uniform(shape=[3,],maxval=5,dtype=tf.int32,seed=10))\n",
        "print(tf.random.uniform(shape=[3,],maxval=5,dtype=tf.int32,seed=10))\n",
        "print(tf.random.uniform(shape=[3,],maxval=5,dtype=tf.int32,seed=10))\n",
        "print(tf.random.uniform(shape=[3,],maxval=5,dtype=tf.int32,seed=10))\n",
        "print(tf.random.uniform(shape=[3,],maxval=5,dtype=tf.int32,seed=10))\n",
        "\n",
        "\n",
        ""
      ],
      "metadata": {
        "id": "zu_lw58BSEVP",
        "outputId": "bcf0557f-52b4-446c-fc58-feaca3cf2646",
        "colab": {
          "base_uri": "https://localhost:8080/"
        }
      },
      "execution_count": 99,
      "outputs": [
        {
          "output_type": "stream",
          "name": "stdout",
          "text": [
            "tf.Tensor([4 3 1], shape=(3,), dtype=int32)\n",
            "tf.Tensor([4 3 2], shape=(3,), dtype=int32)\n",
            "tf.Tensor([1 1 1], shape=(3,), dtype=int32)\n",
            "tf.Tensor([1 3 3], shape=(3,), dtype=int32)\n",
            "tf.Tensor([4 2 2], shape=(3,), dtype=int32)\n"
          ]
        }
      ]
    },
    {
      "cell_type": "code",
      "source": [
        "tf.random.set_seed(5)\n",
        "print(tf.random.uniform(shape=[3,],maxval=5,dtype=tf.int32,seed=10))\n",
        "print(tf.random.uniform(shape=[3,],maxval=5,dtype=tf.int32,seed=10))\n",
        "print(tf.random.uniform(shape=[3,],maxval=5,dtype=tf.int32,seed=10))\n",
        "print(tf.random.uniform(shape=[3,],maxval=5,dtype=tf.int32,seed=10))\n",
        "print(tf.random.uniform(shape=[3,],maxval=5,dtype=tf.int32,seed=10))\n",
        "\n",
        ""
      ],
      "metadata": {
        "id": "5B2yTNa7S_F4",
        "outputId": "75aa68e4-de09-4285-8218-b0c59251cd8a",
        "colab": {
          "base_uri": "https://localhost:8080/"
        }
      },
      "execution_count": 100,
      "outputs": [
        {
          "output_type": "stream",
          "name": "stdout",
          "text": [
            "tf.Tensor([4 3 1], shape=(3,), dtype=int32)\n",
            "tf.Tensor([4 3 2], shape=(3,), dtype=int32)\n",
            "tf.Tensor([1 1 1], shape=(3,), dtype=int32)\n",
            "tf.Tensor([1 3 3], shape=(3,), dtype=int32)\n",
            "tf.Tensor([4 2 2], shape=(3,), dtype=int32)\n"
          ]
        }
      ]
    },
    {
      "cell_type": "markdown",
      "source": [
        "* See that since seed is set to 10  even the though the random method is used we are able to reproduce the same result"
      ],
      "metadata": {
        "id": "N1TGm7LqTCZB"
      }
    },
    {
      "cell_type": "code",
      "source": [
        "# change seed and see results change s\n",
        "\n",
        "tf.random.set_seed(5)\n",
        "print(tf.random.uniform(shape=[3,],maxval=5,dtype=tf.int32,seed=10))\n",
        "print(tf.random.uniform(shape=[3,],maxval=5,dtype=tf.int32,seed=10))\n",
        "print(tf.random.uniform(shape=[3,],maxval=5,dtype=tf.int32,seed=10))\n",
        "print(tf.random.uniform(shape=[3,],maxval=5,dtype=tf.int32,seed=10))\n",
        "print(tf.random.uniform(shape=[3,],maxval=5,dtype=tf.int32,seed=1)) # i changed this\n"
      ],
      "metadata": {
        "id": "4GBv_Ni3TQKG",
        "outputId": "f72c7aef-ffcd-4f9d-85a5-960ef601c853",
        "colab": {
          "base_uri": "https://localhost:8080/"
        }
      },
      "execution_count": 101,
      "outputs": [
        {
          "output_type": "stream",
          "name": "stdout",
          "text": [
            "tf.Tensor([4 3 1], shape=(3,), dtype=int32)\n",
            "tf.Tensor([4 3 2], shape=(3,), dtype=int32)\n",
            "tf.Tensor([1 1 1], shape=(3,), dtype=int32)\n",
            "tf.Tensor([1 3 3], shape=(3,), dtype=int32)\n",
            "tf.Tensor([4 1 3], shape=(3,), dtype=int32)\n"
          ]
        }
      ]
    },
    {
      "cell_type": "code",
      "source": [
        "# change seed and see results change s\n",
        "\n",
        "tf.random.set_seed(2) # now i changed this\n",
        "print(tf.random.uniform(shape=[3,],maxval=5,dtype=tf.int32,seed=10))\n",
        "print(tf.random.uniform(shape=[3,],maxval=5,dtype=tf.int32,seed=10))\n",
        "print(tf.random.uniform(shape=[3,],maxval=5,dtype=tf.int32,seed=10))\n",
        "print(tf.random.uniform(shape=[3,],maxval=5,dtype=tf.int32,seed=10))\n",
        "print(tf.random.uniform(shape=[3,],maxval=5,dtype=tf.int32,seed=1)) # i changed this"
      ],
      "metadata": {
        "id": "zfCGDUi6Ta_o",
        "outputId": "3ed457bc-13fb-4742-942a-5a5ec7b40681",
        "colab": {
          "base_uri": "https://localhost:8080/"
        }
      },
      "execution_count": 102,
      "outputs": [
        {
          "output_type": "stream",
          "name": "stdout",
          "text": [
            "tf.Tensor([1 2 1], shape=(3,), dtype=int32)\n",
            "tf.Tensor([2 2 2], shape=(3,), dtype=int32)\n",
            "tf.Tensor([4 0 1], shape=(3,), dtype=int32)\n",
            "tf.Tensor([3 2 1], shape=(3,), dtype=int32)\n",
            "tf.Tensor([4 2 0], shape=(3,), dtype=int32)\n"
          ]
        }
      ]
    },
    {
      "cell_type": "code",
      "source": [
        "# change seed and see results change s\n",
        "\n",
        "tf.random.set_seed(5) # now i change it back to 5 to see reproducebility\n",
        "print(tf.random.uniform(shape=[3,],maxval=5,dtype=tf.int32,seed=10))\n",
        "print(tf.random.uniform(shape=[3,],maxval=5,dtype=tf.int32,seed=10))\n",
        "print(tf.random.uniform(shape=[3,],maxval=5,dtype=tf.int32,seed=10))\n",
        "print(tf.random.uniform(shape=[3,],maxval=5,dtype=tf.int32,seed=10))\n",
        "print(tf.random.uniform(shape=[3,],maxval=5,dtype=tf.int32,seed=10))"
      ],
      "metadata": {
        "id": "br2v4jzvTknW",
        "outputId": "f384201e-1a84-4426-e188-7b92e932d0af",
        "colab": {
          "base_uri": "https://localhost:8080/"
        }
      },
      "execution_count": 104,
      "outputs": [
        {
          "output_type": "stream",
          "name": "stdout",
          "text": [
            "tf.Tensor([4 3 1], shape=(3,), dtype=int32)\n",
            "tf.Tensor([4 3 2], shape=(3,), dtype=int32)\n",
            "tf.Tensor([1 1 1], shape=(3,), dtype=int32)\n",
            "tf.Tensor([1 3 3], shape=(3,), dtype=int32)\n",
            "tf.Tensor([4 2 2], shape=(3,), dtype=int32)\n"
          ]
        }
      ]
    },
    {
      "cell_type": "markdown",
      "source": [
        "# 12. Tensor Index"
      ],
      "metadata": {
        "id": "XXwfJy_WT8Kf"
      }
    },
    {
      "cell_type": "markdown",
      "source": [
        "#### 1 D tensor"
      ],
      "metadata": {
        "id": "iI_AICEVXHus"
      }
    },
    {
      "cell_type": "code",
      "source": [
        "tensor_indexed= tf.constant([2,3,4,9,9,2,4,7])"
      ],
      "metadata": {
        "id": "T0M8PfyGT74i"
      },
      "execution_count": 105,
      "outputs": []
    },
    {
      "cell_type": "code",
      "source": [
        "print(tensor_indexed[3])"
      ],
      "metadata": {
        "id": "WEUBVmk0TypH",
        "outputId": "a7e836e2-3b2e-4185-bb49-b302a43fbe0c",
        "colab": {
          "base_uri": "https://localhost:8080/"
        }
      },
      "execution_count": 106,
      "outputs": [
        {
          "output_type": "stream",
          "name": "stdout",
          "text": [
            "tf.Tensor(9, shape=(), dtype=int32)\n"
          ]
        }
      ]
    },
    {
      "cell_type": "code",
      "source": [
        "#first  element\n",
        "print(tensor_indexed[0])"
      ],
      "metadata": {
        "id": "ImDlYgj9UXh3",
        "outputId": "fee4278e-f6f6-4f67-b2c4-ce22106803ce",
        "colab": {
          "base_uri": "https://localhost:8080/"
        }
      },
      "execution_count": 107,
      "outputs": [
        {
          "output_type": "stream",
          "name": "stdout",
          "text": [
            "tf.Tensor(2, shape=(), dtype=int32)\n"
          ]
        }
      ]
    },
    {
      "cell_type": "code",
      "source": [
        "#last element\n",
        "print(tensor_indexed[-1])"
      ],
      "metadata": {
        "id": "Om1k8wbSUeCm",
        "outputId": "540801b9-6d1a-4320-e8bc-7e2aa6d86960",
        "colab": {
          "base_uri": "https://localhost:8080/"
        }
      },
      "execution_count": 108,
      "outputs": [
        {
          "output_type": "stream",
          "name": "stdout",
          "text": [
            "tf.Tensor(7, shape=(), dtype=int32)\n"
          ]
        }
      ]
    },
    {
      "cell_type": "code",
      "source": [
        "# just get a segment of the tensor\n",
        "print(tensor_indexed[1:7])"
      ],
      "metadata": {
        "id": "6r4qYxVfUg4_",
        "outputId": "1aac8720-f994-4751-dc29-018f30cf88d3",
        "colab": {
          "base_uri": "https://localhost:8080/"
        }
      },
      "execution_count": 112,
      "outputs": [
        {
          "output_type": "stream",
          "name": "stdout",
          "text": [
            "tf.Tensor([3 4 9 9 2 4], shape=(6,), dtype=int32)\n"
          ]
        }
      ]
    },
    {
      "cell_type": "code",
      "source": [
        "# just get a segment of the tensor\n",
        "print(tensor_indexed[0:3])"
      ],
      "metadata": {
        "id": "HtPEMTi3UzhZ",
        "outputId": "21ea0060-4c8f-4fde-ad29-e3ac1d081d2e",
        "colab": {
          "base_uri": "https://localhost:8080/"
        }
      },
      "execution_count": 114,
      "outputs": [
        {
          "output_type": "stream",
          "name": "stdout",
          "text": [
            "tf.Tensor([2 3 4], shape=(3,), dtype=int32)\n"
          ]
        }
      ]
    },
    {
      "cell_type": "code",
      "source": [
        "# just get a segment of the tensor\n",
        "print(tensor_indexed[3:])"
      ],
      "metadata": {
        "id": "8eYK8kylVO2Y",
        "outputId": "b696dcad-0003-4802-dc26-079ad4d70c1b",
        "colab": {
          "base_uri": "https://localhost:8080/"
        }
      },
      "execution_count": 115,
      "outputs": [
        {
          "output_type": "stream",
          "name": "stdout",
          "text": [
            "tf.Tensor([9 9 2 4 7], shape=(5,), dtype=int32)\n"
          ]
        }
      ]
    },
    {
      "cell_type": "code",
      "source": [
        "print(tensor_indexed)\n",
        "print(tensor_indexed[0:5])\n",
        "print(tensor_indexed[:5:2])"
      ],
      "metadata": {
        "id": "XZGhiWNfWHZu",
        "outputId": "c213a7ee-3d17-4b70-bd52-6aadb61e9ee2",
        "colab": {
          "base_uri": "https://localhost:8080/"
        }
      },
      "execution_count": 121,
      "outputs": [
        {
          "output_type": "stream",
          "name": "stdout",
          "text": [
            "tf.Tensor([2 3 4 9 9 2 4 7], shape=(8,), dtype=int32)\n",
            "tf.Tensor([2 3 4 9 9], shape=(5,), dtype=int32)\n",
            "tf.Tensor([2 4 9], shape=(3,), dtype=int32)\n"
          ]
        }
      ]
    },
    {
      "cell_type": "code",
      "source": [
        "# just get a segment of the tensor\n",
        "print(tensor_indexed[:5:2])"
      ],
      "metadata": {
        "id": "XMfEWA0MVlz_",
        "outputId": "d7962a0a-8041-4ce7-e8af-9df5b78e9c77",
        "colab": {
          "base_uri": "https://localhost:8080/"
        }
      },
      "execution_count": 119,
      "outputs": [
        {
          "output_type": "stream",
          "name": "stdout",
          "text": [
            "tf.Tensor([2 4 9], shape=(3,), dtype=int32)\n"
          ]
        }
      ]
    },
    {
      "cell_type": "markdown",
      "source": [
        "#### 2D Tensor"
      ],
      "metadata": {
        "id": "TtZ2lpzjXR-7"
      }
    },
    {
      "cell_type": "code",
      "source": [
        "tensor_indexed=tf.constant([[2,3,4,5,6],\n",
        "                           [9,0,4,2,1],\n",
        "                           [0,0,1,7,0]])\n",
        "print(tensor_indexed)"
      ],
      "metadata": {
        "id": "H78ScTP7XUW-",
        "outputId": "07d6e292-cb45-4e8a-ba51-ab3418851f5f",
        "colab": {
          "base_uri": "https://localhost:8080/"
        }
      },
      "execution_count": 123,
      "outputs": [
        {
          "output_type": "stream",
          "name": "stdout",
          "text": [
            "tf.Tensor(\n",
            "[[2 3 4 5 6]\n",
            " [9 0 4 2 1]\n",
            " [0 0 1 7 0]], shape=(3, 5), dtype=int32)\n"
          ]
        }
      ]
    },
    {
      "cell_type": "code",
      "source": [],
      "metadata": {
        "id": "CZv2xfDdXpLR"
      },
      "execution_count": null,
      "outputs": []
    }
  ]
}