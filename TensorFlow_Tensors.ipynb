{
  "nbformat": 4,
  "nbformat_minor": 0,
  "metadata": {
    "colab": {
      "provenance": [],
      "authorship_tag": "ABX9TyOxBMngj8wb88Q+316DSBaK",
      "include_colab_link": true
    },
    "kernelspec": {
      "name": "python3",
      "display_name": "Python 3"
    },
    "language_info": {
      "name": "python"
    }
  },
  "cells": [
    {
      "cell_type": "markdown",
      "metadata": {
        "id": "view-in-github",
        "colab_type": "text"
      },
      "source": [
        "<a href=\"https://colab.research.google.com/github/akankshakusf/Deep-Learning-Projects/blob/master/TensorFlow_Tensors.ipynb\" target=\"_parent\"><img src=\"https://colab.research.google.com/assets/colab-badge.svg\" alt=\"Open In Colab\"/></a>"
      ]
    },
    {
      "cell_type": "markdown",
      "source": [
        "# 1.Type of densional tensors - pay attention to closing brackets\n",
        "* 1 closing square brackets\"[---]\" ----> 1D\n",
        "* 2 closing square brackets\"[[---]]\" ----> 2D\n",
        "* 3 closing square brackets\"[[[---]]]\" ----> 3D\n",
        "* 4 closing square brackets\"[[[[---]]]]\" ----> 4D"
      ],
      "metadata": {
        "id": "PZxeg8-x1-tM"
      }
    },
    {
      "cell_type": "code",
      "execution_count": 19,
      "metadata": {
        "id": "9JXy-s2NkBS9"
      },
      "outputs": [],
      "source": [
        "#import packages\n",
        "import tensorflow as tf"
      ]
    },
    {
      "cell_type": "code",
      "source": [
        "tensor_zero_d=tf.constant(4)\n",
        "print(tensor_zero_d)"
      ],
      "metadata": {
        "colab": {
          "base_uri": "https://localhost:8080/"
        },
        "id": "W4tpE4dIsd2c",
        "outputId": "7e937ad9-1e55-4609-89ac-3c4567a5ee1a"
      },
      "execution_count": 20,
      "outputs": [
        {
          "output_type": "stream",
          "name": "stdout",
          "text": [
            "tf.Tensor(4, shape=(), dtype=int32)\n"
          ]
        }
      ]
    },
    {
      "cell_type": "code",
      "source": [
        "#one d\n",
        "tensor_one_d=tf.constant([2,0,-3, 8 ,90.1])\n",
        "print(tensor_one_d)"
      ],
      "metadata": {
        "colab": {
          "base_uri": "https://localhost:8080/"
        },
        "id": "lGgEEeG-stnr",
        "outputId": "28c31e0f-0d47-4a91-95af-f6e290bc620c"
      },
      "execution_count": 21,
      "outputs": [
        {
          "output_type": "stream",
          "name": "stdout",
          "text": [
            "tf.Tensor([ 2.   0.  -3.   8.  90.1], shape=(5,), dtype=float32)\n"
          ]
        }
      ]
    },
    {
      "cell_type": "code",
      "source": [
        "tensor_one_d.shape"
      ],
      "metadata": {
        "colab": {
          "base_uri": "https://localhost:8080/"
        },
        "id": "6E4HROZKvXlI",
        "outputId": "061da24b-f715-4f44-e944-2bdd590758f5"
      },
      "execution_count": 22,
      "outputs": [
        {
          "output_type": "execute_result",
          "data": {
            "text/plain": [
              "TensorShape([5])"
            ]
          },
          "metadata": {},
          "execution_count": 22
        }
      ]
    },
    {
      "cell_type": "code",
      "source": [
        "#stacked one d is 2 d\n",
        "tensor_two_d = tf.constant(\n",
        "    [[1,2,3],\n",
        "    [3,5,-1],\n",
        "    [4,5,6],\n",
        "    [2,3,8]]\n",
        "    )\n",
        "print(tensor_two_d)"
      ],
      "metadata": {
        "colab": {
          "base_uri": "https://localhost:8080/"
        },
        "id": "6QMphHjctDlh",
        "outputId": "c4e2bd6f-a6fe-4438-fc67-766e929168f8"
      },
      "execution_count": 124,
      "outputs": [
        {
          "output_type": "stream",
          "name": "stdout",
          "text": [
            "tf.Tensor(\n",
            "[[ 1  2  3]\n",
            " [ 3  5 -1]\n",
            " [ 4  5  6]\n",
            " [ 2  3  8]], shape=(4, 3), dtype=int32)\n"
          ]
        }
      ]
    },
    {
      "cell_type": "code",
      "source": [
        "tensor_two_d.shape"
      ],
      "metadata": {
        "colab": {
          "base_uri": "https://localhost:8080/"
        },
        "id": "Ccq6qJSRvVOl",
        "outputId": "9294a327-8425-4a96-d154-8f6cb6756a16"
      },
      "execution_count": 24,
      "outputs": [
        {
          "output_type": "execute_result",
          "data": {
            "text/plain": [
              "TensorShape([4, 3])"
            ]
          },
          "metadata": {},
          "execution_count": 24
        }
      ]
    },
    {
      "cell_type": "code",
      "source": [
        "#stacked 2 d is 3 d\n",
        "tensor_three_d=tf.constant(\n",
        "    [[[1,2,3], # as you see they are stacked\n",
        "     [4,5,6]],\n",
        "\n",
        "    [[5,6,4],\n",
        "     [2,0,6]],\n",
        "\n",
        "    [[9,2,1],\n",
        "     [4,9,5]],\n",
        "\n",
        "    [[1,5,3],\n",
        "     [0,1,6]],]\n",
        "\n",
        ")\n",
        "print(tensor_three_d)"
      ],
      "metadata": {
        "colab": {
          "base_uri": "https://localhost:8080/"
        },
        "id": "xx1KhIKttiAD",
        "outputId": "4f915f15-d2e9-4e53-ab67-aa14f7f2a39a"
      },
      "execution_count": 125,
      "outputs": [
        {
          "output_type": "stream",
          "name": "stdout",
          "text": [
            "tf.Tensor(\n",
            "[[[1 2 3]\n",
            "  [4 5 6]]\n",
            "\n",
            " [[5 6 4]\n",
            "  [2 0 6]]\n",
            "\n",
            " [[9 2 1]\n",
            "  [4 9 5]]\n",
            "\n",
            " [[1 5 3]\n",
            "  [0 1 6]]], shape=(4, 2, 3), dtype=int32)\n"
          ]
        }
      ]
    },
    {
      "cell_type": "code",
      "source": [
        "tensor_three_d.shape"
      ],
      "metadata": {
        "colab": {
          "base_uri": "https://localhost:8080/"
        },
        "id": "_se3He1auGfq",
        "outputId": "d2c2958c-af83-4bcf-d527-b19aa99f562a"
      },
      "execution_count": 26,
      "outputs": [
        {
          "output_type": "execute_result",
          "data": {
            "text/plain": [
              "TensorShape([4, 2, 3])"
            ]
          },
          "metadata": {},
          "execution_count": 26
        }
      ]
    },
    {
      "cell_type": "code",
      "source": [
        "#stacked 3 d is 4 d\n",
        "tensor_four_d=tf.constant(\n",
        "[[[[1,2,3],\n",
        "     [4,5,6]],\n",
        "\n",
        "    [[5,6,4],\n",
        "     [2,0,6]],\n",
        "\n",
        "    [[9,3,1],\n",
        "     [4,0,5]],\n",
        "\n",
        "    [[1,5,3],\n",
        "     [0,1,6]]\n",
        "],  #--------first stack ends here\n",
        "\n",
        "[    [[1,7,3],\n",
        "     [4,5,0]],\n",
        "\n",
        "    [[5,9,4],\n",
        "     [2,0,6]],\n",
        "\n",
        "    [[32,2,1],\n",
        "     [4,9,5]],\n",
        "\n",
        "    [[1,5,3],\n",
        "     [0,3,43]]\n",
        "\n",
        "], #--------second stack ends here\n",
        "\n",
        "[   [[1,2,3],\n",
        "     [4,6,6]],\n",
        "\n",
        "    [[5,6,4],\n",
        "     [2,2,6]],\n",
        "\n",
        "    [[9,2,1],\n",
        "     [4,9,5]],\n",
        "\n",
        "    [[1,2,3],\n",
        "     [0,1,9]]],])\n",
        "#--------third stack ends here\n",
        "\n",
        "print(tensor_four_d)"
      ],
      "metadata": {
        "colab": {
          "base_uri": "https://localhost:8080/"
        },
        "id": "K6ujTfgevglz",
        "outputId": "04e0ba9e-6316-4240-b9bc-08b1e2bedb71"
      },
      "execution_count": 126,
      "outputs": [
        {
          "output_type": "stream",
          "name": "stdout",
          "text": [
            "tf.Tensor(\n",
            "[[[[ 1  2  3]\n",
            "   [ 4  5  6]]\n",
            "\n",
            "  [[ 5  6  4]\n",
            "   [ 2  0  6]]\n",
            "\n",
            "  [[ 9  3  1]\n",
            "   [ 4  0  5]]\n",
            "\n",
            "  [[ 1  5  3]\n",
            "   [ 0  1  6]]]\n",
            "\n",
            "\n",
            " [[[ 1  7  3]\n",
            "   [ 4  5  0]]\n",
            "\n",
            "  [[ 5  9  4]\n",
            "   [ 2  0  6]]\n",
            "\n",
            "  [[32  2  1]\n",
            "   [ 4  9  5]]\n",
            "\n",
            "  [[ 1  5  3]\n",
            "   [ 0  3 43]]]\n",
            "\n",
            "\n",
            " [[[ 1  2  3]\n",
            "   [ 4  6  6]]\n",
            "\n",
            "  [[ 5  6  4]\n",
            "   [ 2  2  6]]\n",
            "\n",
            "  [[ 9  2  1]\n",
            "   [ 4  9  5]]\n",
            "\n",
            "  [[ 1  2  3]\n",
            "   [ 0  1  9]]]], shape=(3, 4, 2, 3), dtype=int32)\n"
          ]
        }
      ]
    },
    {
      "cell_type": "code",
      "source": [
        "tensor_four_d.shape"
      ],
      "metadata": {
        "colab": {
          "base_uri": "https://localhost:8080/"
        },
        "id": "I8tkqwVrvgjJ",
        "outputId": "20f3f1a7-6c86-45d3-d7b8-604c431ed1ae"
      },
      "execution_count": 28,
      "outputs": [
        {
          "output_type": "execute_result",
          "data": {
            "text/plain": [
              "TensorShape([3, 4, 2, 3])"
            ]
          },
          "metadata": {},
          "execution_count": 28
        }
      ]
    },
    {
      "cell_type": "markdown",
      "source": [
        "# 2. manually changing the data type\n",
        "* lower precision tensors float 16, float 32, float 64 etc"
      ],
      "metadata": {
        "id": "XbjWBf4o1ztt"
      }
    },
    {
      "cell_type": "code",
      "source": [
        "tensor_one_d=tf.constant([2,0,-3, 8 ,90.1], dtype=tf.float16)\n",
        "print(tensor_one_d)\n",
        "\n",
        "tensor_one_d=tf.constant([2,0,-3, 8 ,90.1], dtype=tf.float32)\n",
        "print(tensor_one_d)\n",
        "\n",
        "tensor_one_d=tf.constant([2,0,-3, 8 ,90.1], dtype=tf.float64)\n",
        "print(tensor_one_d)"
      ],
      "metadata": {
        "colab": {
          "base_uri": "https://localhost:8080/"
        },
        "id": "EOw3H-onxQ9c",
        "outputId": "ddefd41b-05df-4140-cfea-479f0212b84a"
      },
      "execution_count": 32,
      "outputs": [
        {
          "output_type": "stream",
          "name": "stdout",
          "text": [
            "tf.Tensor([ 2.   0.  -3.   8.  90.1], shape=(5,), dtype=float16)\n",
            "tf.Tensor([ 2.   0.  -3.   8.  90.1], shape=(5,), dtype=float32)\n",
            "tf.Tensor([ 2.   0.  -3.   8.  90.1], shape=(5,), dtype=float64)\n"
          ]
        }
      ]
    },
    {
      "cell_type": "markdown",
      "source": [
        "This is simply means that tensors will take less space in ram"
      ],
      "metadata": {
        "id": "-wVbsazV2mtQ"
      }
    },
    {
      "cell_type": "markdown",
      "source": [
        "# 3. Casting of tensors to different data types"
      ],
      "metadata": {
        "id": "D9X2D7_929Kw"
      }
    },
    {
      "cell_type": "code",
      "source": [
        "tensor_one_d=tf.constant([2,0,-3, 8 ,90.1], dtype=tf.float16)\n",
        "\n",
        "casted_tensor_one_d=tf.cast(tensor_one_d, dtype=tf.int64)\n",
        "print(casted_tensor_one_d)\n",
        "print(tensor_one_d)"
      ],
      "metadata": {
        "colab": {
          "base_uri": "https://localhost:8080/"
        },
        "id": "WeLYCDJc2P9D",
        "outputId": "49054404-7f26-4c51-dce6-9ef449484e00"
      },
      "execution_count": 37,
      "outputs": [
        {
          "output_type": "stream",
          "name": "stdout",
          "text": [
            "tf.Tensor([ 2  0 -3  8 90], shape=(5,), dtype=int64)\n",
            "tf.Tensor([ 2.   0.  -3.   8.  90.1], shape=(5,), dtype=float16)\n"
          ]
        }
      ]
    },
    {
      "cell_type": "code",
      "source": [
        "tensor_two_d = tf.constant([\n",
        "    [1,2,3],\n",
        "    [3,5,-1],\n",
        "    [4,5,6],\n",
        "    [2,3,8]\n",
        "])\n",
        "\n",
        "casted_tensor_two_d=tf.cast(tensor_two_d, dtype=tf.float32)\n",
        "print(casted_tensor_two_d)\n",
        "print(tensor_two_d)"
      ],
      "metadata": {
        "colab": {
          "base_uri": "https://localhost:8080/"
        },
        "id": "h5uJVfbz3pwD",
        "outputId": "1508feb3-5f24-40a1-a971-833e3ac4018a"
      },
      "execution_count": 38,
      "outputs": [
        {
          "output_type": "stream",
          "name": "stdout",
          "text": [
            "tf.Tensor(\n",
            "[[ 1.  2.  3.]\n",
            " [ 3.  5. -1.]\n",
            " [ 4.  5.  6.]\n",
            " [ 2.  3.  8.]], shape=(4, 3), dtype=float32)\n",
            "tf.Tensor(\n",
            "[[ 1  2  3]\n",
            " [ 3  5 -1]\n",
            " [ 4  5  6]\n",
            " [ 2  3  8]], shape=(4, 3), dtype=int32)\n"
          ]
        }
      ]
    },
    {
      "cell_type": "code",
      "source": [
        "tensor_one_d=tf.constant([2,0,-3, 8 ,90.1], dtype=tf.float16)\n",
        "print(tensor_one_d)\n",
        "tensor_bool=tf.cast(tensor_one_d,dtype=tf.bool)\n",
        "print(tensor_bool)"
      ],
      "metadata": {
        "colab": {
          "base_uri": "https://localhost:8080/"
        },
        "id": "MtWhEerU4C2r",
        "outputId": "a020316b-cfdd-4701-8cc8-bf93354b5871"
      },
      "execution_count": 40,
      "outputs": [
        {
          "output_type": "stream",
          "name": "stdout",
          "text": [
            "tf.Tensor([ 2.   0.  -3.   8.  90.1], shape=(5,), dtype=float16)\n",
            "tf.Tensor([ True False  True  True  True], shape=(5,), dtype=bool)\n"
          ]
        }
      ]
    },
    {
      "cell_type": "code",
      "source": [
        "tensor_string=tf.constant([\"hello world\",\"hi\"])\n",
        "print(tensor_string)"
      ],
      "metadata": {
        "colab": {
          "base_uri": "https://localhost:8080/"
        },
        "id": "Ez2k2zMO9CLk",
        "outputId": "2f4048dd-140b-4629-dfb4-086591769f67"
      },
      "execution_count": 41,
      "outputs": [
        {
          "output_type": "stream",
          "name": "stdout",
          "text": [
            "tf.Tensor([b'hello world' b'hi'], shape=(2,), dtype=string)\n"
          ]
        }
      ]
    },
    {
      "cell_type": "markdown",
      "source": [
        "# 4. Converting Numpy to tensor"
      ],
      "metadata": {
        "id": "I0TJ6vqo9kuT"
      }
    },
    {
      "cell_type": "code",
      "source": [
        "import numpy as np\n",
        "np_array=np.array([1,2,3])\n",
        "print(np_array)\n"
      ],
      "metadata": {
        "colab": {
          "base_uri": "https://localhost:8080/"
        },
        "id": "NG2sFij49cYN",
        "outputId": "455430d0-4939-40db-e0d2-e11131e95bfd"
      },
      "execution_count": 43,
      "outputs": [
        {
          "output_type": "stream",
          "name": "stdout",
          "text": [
            "[1 2 3]\n"
          ]
        }
      ]
    },
    {
      "cell_type": "code",
      "source": [
        "converted_tensor=tf.convert_to_tensor(np_array)\n",
        "print(converted_tensor)"
      ],
      "metadata": {
        "colab": {
          "base_uri": "https://localhost:8080/"
        },
        "id": "lhNOynjd960M",
        "outputId": "e572e302-8e14-4415-d074-1261b044cc19"
      },
      "execution_count": 44,
      "outputs": [
        {
          "output_type": "stream",
          "name": "stdout",
          "text": [
            "tf.Tensor([1 2 3], shape=(3,), dtype=int64)\n"
          ]
        }
      ]
    },
    {
      "cell_type": "code",
      "source": [
        "#recheck the type\n",
        "print(type(np_array))\n",
        "print(type(converted_tensor))"
      ],
      "metadata": {
        "colab": {
          "base_uri": "https://localhost:8080/"
        },
        "id": "zshxLzbm-Pet",
        "outputId": "3b02f1fc-6c32-41c2-fd58-0390a09a98c8"
      },
      "execution_count": 45,
      "outputs": [
        {
          "output_type": "stream",
          "name": "stdout",
          "text": [
            "<class 'numpy.ndarray'>\n",
            "<class 'tensorflow.python.framework.ops.EagerTensor'>\n"
          ]
        }
      ]
    },
    {
      "cell_type": "markdown",
      "source": [
        "# 5. Using eye method\n"
      ],
      "metadata": {
        "id": "DWUTxbMTBZgf"
      }
    },
    {
      "cell_type": "code",
      "source": [
        "# got this code form \"https://www.tensorflow.org/api_docs/python/tf/eye\"\n",
        "eye_tensor=tf.eye(\n",
        "    num_rows=3,\n",
        "    num_columns=None,\n",
        "    batch_shape=None,\n",
        "    dtype=tf.dtypes.float16,\n",
        "    name=None\n",
        ")\n",
        "print(3*eye_tensor)"
      ],
      "metadata": {
        "colab": {
          "base_uri": "https://localhost:8080/"
        },
        "id": "q0Gl3Q4-Bb8U",
        "outputId": "c426de28-8f8e-4947-dc5e-b84135af552a"
      },
      "execution_count": 52,
      "outputs": [
        {
          "output_type": "stream",
          "name": "stdout",
          "text": [
            "tf.Tensor(\n",
            "[[3. 0. 0.]\n",
            " [0. 3. 0.]\n",
            " [0. 0. 3.]], shape=(3, 3), dtype=float16)\n"
          ]
        }
      ]
    },
    {
      "cell_type": "code",
      "source": [
        "eye_tensor=tf.eye(\n",
        "    num_rows=3,\n",
        "    num_columns=None,\n",
        "    batch_shape=None,\n",
        "    dtype=tf.dtypes.bool,\n",
        "    name=None\n",
        ")\n",
        "print(eye_tensor)"
      ],
      "metadata": {
        "colab": {
          "base_uri": "https://localhost:8080/"
        },
        "id": "Ee5FQKS_BtmY",
        "outputId": "6f9b564c-8d6f-467a-cfa8-d23b521abed1"
      },
      "execution_count": 53,
      "outputs": [
        {
          "output_type": "stream",
          "name": "stdout",
          "text": [
            "tf.Tensor(\n",
            "[[ True False False]\n",
            " [False  True False]\n",
            " [False False  True]], shape=(3, 3), dtype=bool)\n"
          ]
        }
      ]
    },
    {
      "cell_type": "code",
      "source": [
        "# changing batch size\n",
        "eye_tensor=tf.eye(\n",
        "    num_rows=5,\n",
        "    num_columns=None,\n",
        "    batch_shape=[3,],\n",
        "    dtype=tf.dtypes.float32,\n",
        "    name=None\n",
        ")\n",
        "print(eye_tensor)"
      ],
      "metadata": {
        "colab": {
          "base_uri": "https://localhost:8080/"
        },
        "id": "OkhiVoYKCGeb",
        "outputId": "0312fedc-ad92-407d-ad10-18eac98614a0"
      },
      "execution_count": 58,
      "outputs": [
        {
          "output_type": "stream",
          "name": "stdout",
          "text": [
            "tf.Tensor(\n",
            "[[[1. 0. 0. 0. 0.]\n",
            "  [0. 1. 0. 0. 0.]\n",
            "  [0. 0. 1. 0. 0.]\n",
            "  [0. 0. 0. 1. 0.]\n",
            "  [0. 0. 0. 0. 1.]]\n",
            "\n",
            " [[1. 0. 0. 0. 0.]\n",
            "  [0. 1. 0. 0. 0.]\n",
            "  [0. 0. 1. 0. 0.]\n",
            "  [0. 0. 0. 1. 0.]\n",
            "  [0. 0. 0. 0. 1.]]\n",
            "\n",
            " [[1. 0. 0. 0. 0.]\n",
            "  [0. 1. 0. 0. 0.]\n",
            "  [0. 0. 1. 0. 0.]\n",
            "  [0. 0. 0. 1. 0.]\n",
            "  [0. 0. 0. 0. 1.]]], shape=(3, 5, 5), dtype=float32)\n"
          ]
        }
      ]
    },
    {
      "cell_type": "code",
      "source": [
        "# changing batch size\n",
        "eye_tensor=tf.eye(\n",
        "    num_rows=5,\n",
        "    num_columns=None,\n",
        "    batch_shape=[2,],\n",
        "    dtype=tf.dtypes.float32,\n",
        "    name=None\n",
        ")\n",
        "print(eye_tensor)"
      ],
      "metadata": {
        "colab": {
          "base_uri": "https://localhost:8080/"
        },
        "id": "lb8v0ymKCGbt",
        "outputId": "61a4f2f8-82c8-49c5-a2d7-9de4246c0f4e"
      },
      "execution_count": 59,
      "outputs": [
        {
          "output_type": "stream",
          "name": "stdout",
          "text": [
            "tf.Tensor(\n",
            "[[[1. 0. 0. 0. 0.]\n",
            "  [0. 1. 0. 0. 0.]\n",
            "  [0. 0. 1. 0. 0.]\n",
            "  [0. 0. 0. 1. 0.]\n",
            "  [0. 0. 0. 0. 1.]]\n",
            "\n",
            " [[1. 0. 0. 0. 0.]\n",
            "  [0. 1. 0. 0. 0.]\n",
            "  [0. 0. 1. 0. 0.]\n",
            "  [0. 0. 0. 1. 0.]\n",
            "  [0. 0. 0. 0. 1.]]], shape=(2, 5, 5), dtype=float32)\n"
          ]
        }
      ]
    },
    {
      "cell_type": "code",
      "source": [
        "# changing batch size\n",
        "eye_tensor=tf.eye(\n",
        "    num_rows=5,\n",
        "    num_columns=None,\n",
        "    batch_shape=[2,4],\n",
        "    dtype=tf.dtypes.float32,\n",
        "    name=None\n",
        ")\n",
        "print(eye_tensor)"
      ],
      "metadata": {
        "colab": {
          "base_uri": "https://localhost:8080/"
        },
        "id": "b-F11IP_CGZT",
        "outputId": "8fd7b5d8-9052-466c-ab65-9ca52c4f362b"
      },
      "execution_count": 60,
      "outputs": [
        {
          "output_type": "stream",
          "name": "stdout",
          "text": [
            "tf.Tensor(\n",
            "[[[[1. 0. 0. 0. 0.]\n",
            "   [0. 1. 0. 0. 0.]\n",
            "   [0. 0. 1. 0. 0.]\n",
            "   [0. 0. 0. 1. 0.]\n",
            "   [0. 0. 0. 0. 1.]]\n",
            "\n",
            "  [[1. 0. 0. 0. 0.]\n",
            "   [0. 1. 0. 0. 0.]\n",
            "   [0. 0. 1. 0. 0.]\n",
            "   [0. 0. 0. 1. 0.]\n",
            "   [0. 0. 0. 0. 1.]]\n",
            "\n",
            "  [[1. 0. 0. 0. 0.]\n",
            "   [0. 1. 0. 0. 0.]\n",
            "   [0. 0. 1. 0. 0.]\n",
            "   [0. 0. 0. 1. 0.]\n",
            "   [0. 0. 0. 0. 1.]]\n",
            "\n",
            "  [[1. 0. 0. 0. 0.]\n",
            "   [0. 1. 0. 0. 0.]\n",
            "   [0. 0. 1. 0. 0.]\n",
            "   [0. 0. 0. 1. 0.]\n",
            "   [0. 0. 0. 0. 1.]]]\n",
            "\n",
            "\n",
            " [[[1. 0. 0. 0. 0.]\n",
            "   [0. 1. 0. 0. 0.]\n",
            "   [0. 0. 1. 0. 0.]\n",
            "   [0. 0. 0. 1. 0.]\n",
            "   [0. 0. 0. 0. 1.]]\n",
            "\n",
            "  [[1. 0. 0. 0. 0.]\n",
            "   [0. 1. 0. 0. 0.]\n",
            "   [0. 0. 1. 0. 0.]\n",
            "   [0. 0. 0. 1. 0.]\n",
            "   [0. 0. 0. 0. 1.]]\n",
            "\n",
            "  [[1. 0. 0. 0. 0.]\n",
            "   [0. 1. 0. 0. 0.]\n",
            "   [0. 0. 1. 0. 0.]\n",
            "   [0. 0. 0. 1. 0.]\n",
            "   [0. 0. 0. 0. 1.]]\n",
            "\n",
            "  [[1. 0. 0. 0. 0.]\n",
            "   [0. 1. 0. 0. 0.]\n",
            "   [0. 0. 1. 0. 0.]\n",
            "   [0. 0. 0. 1. 0.]\n",
            "   [0. 0. 0. 0. 1.]]]], shape=(2, 4, 5, 5), dtype=float32)\n"
          ]
        }
      ]
    },
    {
      "cell_type": "markdown",
      "source": [
        "# 5. Using Fill method\n"
      ],
      "metadata": {
        "id": "UQGyi5fVC7DT"
      }
    },
    {
      "cell_type": "code",
      "source": [
        "# https://www.tensorflow.org/api_docs/python/tf/fill\n",
        "fill_tensor=tf.fill(\n",
        "    [1,3,4], 5, name=None, layout=None\n",
        ")\n",
        "print(fill_tensor) # 3d"
      ],
      "metadata": {
        "colab": {
          "base_uri": "https://localhost:8080/"
        },
        "id": "UdfWNzVDC904",
        "outputId": "e8588e7c-8979-41bc-8fc2-a7e3ce1a13b9"
      },
      "execution_count": 61,
      "outputs": [
        {
          "output_type": "stream",
          "name": "stdout",
          "text": [
            "tf.Tensor(\n",
            "[[[5 5 5 5]\n",
            "  [5 5 5 5]\n",
            "  [5 5 5 5]]], shape=(1, 3, 4), dtype=int32)\n"
          ]
        }
      ]
    },
    {
      "cell_type": "markdown",
      "source": [
        "# 6. Using Ones method  "
      ],
      "metadata": {
        "id": "cDvCaGIVDbE8"
      }
    },
    {
      "cell_type": "code",
      "source": [
        "# https://www.tensorflow.org/api_docs/python/tf/ones\n",
        "ones_tensor=tf.ones(\n",
        "    [5,3], #shape 2d\n",
        "    dtype=tf.dtypes.float32,\n",
        "    name=None,\n",
        "    layout=None\n",
        ")\n",
        "print(ones_tensor)"
      ],
      "metadata": {
        "colab": {
          "base_uri": "https://localhost:8080/"
        },
        "id": "2sOUvuxQDedx",
        "outputId": "e4ba0046-d660-4eb9-edb9-39942a8ffd80"
      },
      "execution_count": 62,
      "outputs": [
        {
          "output_type": "stream",
          "name": "stdout",
          "text": [
            "tf.Tensor(\n",
            "[[1. 1. 1.]\n",
            " [1. 1. 1.]\n",
            " [1. 1. 1.]\n",
            " [1. 1. 1.]\n",
            " [1. 1. 1.]], shape=(5, 3), dtype=float32)\n"
          ]
        }
      ]
    },
    {
      "cell_type": "code",
      "source": [
        "ones_tensor=tf.ones(\n",
        "    [5,3,2], #shape 3d\n",
        "    dtype=tf.dtypes.float32,\n",
        "    name=None,\n",
        "    layout=None\n",
        ")\n",
        "print(ones_tensor)"
      ],
      "metadata": {
        "colab": {
          "base_uri": "https://localhost:8080/"
        },
        "id": "6JvoLA2qEDpg",
        "outputId": "704f60b6-c37d-4a83-a1a5-4c251481dfb2"
      },
      "execution_count": 63,
      "outputs": [
        {
          "output_type": "stream",
          "name": "stdout",
          "text": [
            "tf.Tensor(\n",
            "[[[1. 1.]\n",
            "  [1. 1.]\n",
            "  [1. 1.]]\n",
            "\n",
            " [[1. 1.]\n",
            "  [1. 1.]\n",
            "  [1. 1.]]\n",
            "\n",
            " [[1. 1.]\n",
            "  [1. 1.]\n",
            "  [1. 1.]]\n",
            "\n",
            " [[1. 1.]\n",
            "  [1. 1.]\n",
            "  [1. 1.]]\n",
            "\n",
            " [[1. 1.]\n",
            "  [1. 1.]\n",
            "  [1. 1.]]], shape=(5, 3, 2), dtype=float32)\n"
          ]
        }
      ]
    },
    {
      "cell_type": "markdown",
      "source": [
        "# 7. Using Ones like Method"
      ],
      "metadata": {
        "id": "1x4U9OL2EPzZ"
      }
    },
    {
      "cell_type": "code",
      "source": [
        "# https://www.tensorflow.org/api_docs/python/tf/ones_like\n",
        "once_like_tensor = tf.ones_like(fill_tensor)\n",
        "print(once_like_tensor)"
      ],
      "metadata": {
        "colab": {
          "base_uri": "https://localhost:8080/"
        },
        "id": "4YCmMoUcESwP",
        "outputId": "09b8a62e-69b5-4a2b-8818-80aae30ea252"
      },
      "execution_count": 67,
      "outputs": [
        {
          "output_type": "stream",
          "name": "stdout",
          "text": [
            "tf.Tensor(\n",
            "[[[1 1 1 1]\n",
            "  [1 1 1 1]\n",
            "  [1 1 1 1]]], shape=(1, 3, 4), dtype=int32)\n"
          ]
        }
      ]
    },
    {
      "cell_type": "markdown",
      "source": [
        "# 8. Using Zeros method"
      ],
      "metadata": {
        "id": "WPERMpnKFtpW"
      }
    },
    {
      "cell_type": "code",
      "source": [
        "#https://www.tensorflow.org/api_docs/python/tf/zeros\n",
        "zeros_tensor=tf.zeros(\n",
        "    [3,2],\n",
        "    dtype=tf.dtypes.float32,\n",
        "    name=None,\n",
        "    layout=None\n",
        ")\n",
        "print(zeros_tensor)"
      ],
      "metadata": {
        "colab": {
          "base_uri": "https://localhost:8080/"
        },
        "id": "ZZbg5pVZEmvf",
        "outputId": "3750c448-136f-413d-b744-4d6ba1a6a4f1"
      },
      "execution_count": 68,
      "outputs": [
        {
          "output_type": "stream",
          "name": "stdout",
          "text": [
            "tf.Tensor(\n",
            "[[0. 0.]\n",
            " [0. 0.]\n",
            " [0. 0.]], shape=(3, 2), dtype=float32)\n"
          ]
        }
      ]
    },
    {
      "cell_type": "markdown",
      "source": [
        "# 9. Using shape method"
      ],
      "metadata": {
        "id": "yKvVwzg5GKmm"
      }
    },
    {
      "cell_type": "code",
      "source": [
        "#https://www.tensorflow.org/api_docs/python/tf/shape\n",
        "print(tensor_three_d)"
      ],
      "metadata": {
        "colab": {
          "base_uri": "https://localhost:8080/"
        },
        "id": "7czU11m6GVB5",
        "outputId": "05265c58-f822-4adc-9157-c56cc8c59bcc"
      },
      "execution_count": 73,
      "outputs": [
        {
          "output_type": "stream",
          "name": "stdout",
          "text": [
            "tf.Tensor(\n",
            "[[[1 2 3]\n",
            "  [4 5 6]]\n",
            "\n",
            " [[5 6 4]\n",
            "  [2 0 6]]\n",
            "\n",
            " [[9 2 1]\n",
            "  [4 9 5]]\n",
            "\n",
            " [[1 5 3]\n",
            "  [0 1 6]]], shape=(4, 2, 3), dtype=int32)\n"
          ]
        }
      ]
    },
    {
      "cell_type": "code",
      "source": [
        "print(tf.shape(tensor_three_d))"
      ],
      "metadata": {
        "colab": {
          "base_uri": "https://localhost:8080/"
        },
        "id": "tzRM5M0DGl9H",
        "outputId": "276e8ea8-afd0-489b-a9b6-0d13b101e3ff"
      },
      "execution_count": 72,
      "outputs": [
        {
          "output_type": "stream",
          "name": "stdout",
          "text": [
            "tf.Tensor([4 2 3], shape=(3,), dtype=int32)\n"
          ]
        }
      ]
    },
    {
      "cell_type": "markdown",
      "source": [
        "# 10.Rank method"
      ],
      "metadata": {
        "id": "JpxhLDgiHCL2"
      }
    },
    {
      "cell_type": "code",
      "source": [
        "# https://www.tensorflow.org/api_docs/python/tf/rank\n",
        "# shape of tensor 't' is [2, 2, 3]\n",
        "t = tf.constant([[1, 1, 1], [2, 2, 2]])\n",
        "tf.rank(t)  # 3\n"
      ],
      "metadata": {
        "colab": {
          "base_uri": "https://localhost:8080/"
        },
        "id": "D_ZUQYucGtwY",
        "outputId": "67db7770-428d-4f18-bdcf-c250bf336e95"
      },
      "execution_count": 76,
      "outputs": [
        {
          "output_type": "execute_result",
          "data": {
            "text/plain": [
              "<tf.Tensor: shape=(), dtype=int32, numpy=2>"
            ]
          },
          "metadata": {},
          "execution_count": 76
        }
      ]
    },
    {
      "cell_type": "markdown",
      "source": [
        "# 11.Size method"
      ],
      "metadata": {
        "id": "CCLlxL1XJQ9g"
      }
    },
    {
      "cell_type": "code",
      "source": [
        "#https://www.tensorflow.org/api_docs/python/tf/size\n",
        "#tf.shape.- Returns a 0-D Tensor representing the number of elements in input of type out_type. Defaults to tf.int32.\n",
        "t = tf.constant([[[1, 1, 1], [2, 2, 2]], [[3, 3, 3], [4, 4, 4]]])\n",
        "tf.size(t)"
      ],
      "metadata": {
        "colab": {
          "base_uri": "https://localhost:8080/"
        },
        "id": "F-zcEvXoI-Et",
        "outputId": "8c1ec31a-f331-4c3c-a918-8018d29042a6"
      },
      "execution_count": 78,
      "outputs": [
        {
          "output_type": "execute_result",
          "data": {
            "text/plain": [
              "<tf.Tensor: shape=(), dtype=int32, numpy=12>"
            ]
          },
          "metadata": {},
          "execution_count": 78
        }
      ]
    },
    {
      "cell_type": "code",
      "source": [
        "t = tf.constant([[1, 1, 1], [2, 2, 2]])\n",
        "tf.size(t)"
      ],
      "metadata": {
        "colab": {
          "base_uri": "https://localhost:8080/"
        },
        "id": "Nac5ASGXJTxR",
        "outputId": "c98e685f-a103-4eaa-8210-25839688c63d"
      },
      "execution_count": 84,
      "outputs": [
        {
          "output_type": "execute_result",
          "data": {
            "text/plain": [
              "<tf.Tensor: shape=(), dtype=int32, numpy=6>"
            ]
          },
          "metadata": {},
          "execution_count": 84
        }
      ]
    },
    {
      "cell_type": "code",
      "source": [
        "#change the dtype- here called outtype\n",
        "\n",
        "t = tf.constant([[1, 1, 1], [2, 2, 2]],)\n",
        "tf.size(t,out_type=tf.float32)"
      ],
      "metadata": {
        "colab": {
          "base_uri": "https://localhost:8080/"
        },
        "id": "e8PwJ00fJTuz",
        "outputId": "3740cfc9-05b7-420a-d6c7-a998a802fd1b"
      },
      "execution_count": 86,
      "outputs": [
        {
          "output_type": "execute_result",
          "data": {
            "text/plain": [
              "<tf.Tensor: shape=(), dtype=float32, numpy=6.0>"
            ]
          },
          "metadata": {},
          "execution_count": 86
        }
      ]
    },
    {
      "cell_type": "markdown",
      "source": [
        "# 12.Random Normal method"
      ],
      "metadata": {
        "id": "W-E82cQXKcK3"
      }
    },
    {
      "cell_type": "code",
      "source": [
        "# https://www.tensorflow.org/api_docs/python/tf/random/normal\n",
        "# Outputs random values from a normal distribution.\n",
        "random_tensor=tf.random.normal(\n",
        "    [3,2],\n",
        "    mean=0.0, # this is normal distribution\n",
        "    stddev=1.0, # this is normal distribution\n",
        "    dtype=tf.dtypes.float32,\n",
        "    seed=None,\n",
        "    name=None\n",
        ")\n",
        "print(random_tensor) # if you see the all elements in matrix are very close to 0 showing Normal distribution"
      ],
      "metadata": {
        "colab": {
          "base_uri": "https://localhost:8080/"
        },
        "id": "_OKe-1OAJTsD",
        "outputId": "6400d1e1-6758-40c8-8f85-02db8058b2a7"
      },
      "execution_count": 87,
      "outputs": [
        {
          "output_type": "stream",
          "name": "stdout",
          "text": [
            "tf.Tensor(\n",
            "[[ 0.2750867  -0.43862012]\n",
            " [-0.14218335  0.40876484]\n",
            " [-0.75498474 -0.90786606]], shape=(3, 2), dtype=float32)\n"
          ]
        }
      ]
    },
    {
      "cell_type": "code",
      "source": [
        "random_tensor=tf.random.normal(\n",
        "    [3,2],\n",
        "    mean=100, # this is normal distribution\n",
        "    stddev=1.0, # this is normal distribution\n",
        "    dtype=tf.dtypes.float32,\n",
        "    seed=None,\n",
        "    name=None\n",
        ")\n",
        "print(random_tensor) # if you see the all elements in matrix are far away from 0 close to 100 showing No Normal distribution"
      ],
      "metadata": {
        "colab": {
          "base_uri": "https://localhost:8080/"
        },
        "id": "KrCnHsGvJTpW",
        "outputId": "e8723441-1909-48be-8538-e76131594798"
      },
      "execution_count": 88,
      "outputs": [
        {
          "output_type": "stream",
          "name": "stdout",
          "text": [
            "tf.Tensor(\n",
            "[[ 99.73101  100.62563 ]\n",
            " [ 99.619644  99.33961 ]\n",
            " [ 98.33884   99.67424 ]], shape=(3, 2), dtype=float32)\n"
          ]
        }
      ]
    },
    {
      "cell_type": "markdown",
      "source": [
        "# 11. Uniform method"
      ],
      "metadata": {
        "id": "dv6IgO72O9Cz"
      }
    },
    {
      "cell_type": "code",
      "source": [
        "# https://www.tensorflow.org/api_docs/python/tf/random/uniform\n",
        "random_tensor=tf.random.uniform(\n",
        "    [5,],\n",
        "    minval=0,\n",
        "    maxval=8,\n",
        "    dtype=tf.dtypes.float32,\n",
        "    seed=None,\n",
        "    name=None\n",
        ")\n",
        "print(random_tensor)"
      ],
      "metadata": {
        "colab": {
          "base_uri": "https://localhost:8080/"
        },
        "id": "e2tFVg-2PBf7",
        "outputId": "4c90a172-a118-4444-a26d-a1c931fa28b2"
      },
      "execution_count": 91,
      "outputs": [
        {
          "output_type": "stream",
          "name": "stdout",
          "text": [
            "tf.Tensor([0.7093086 4.782407  7.717207  2.840849  6.352215 ], shape=(5,), dtype=float32)\n"
          ]
        }
      ]
    },
    {
      "cell_type": "code",
      "source": [
        "random_tensor=tf.random.uniform(\n",
        "    [1,],\n",
        "    minval=0,\n",
        "    maxval=None,\n",
        "    dtype=tf.dtypes.float32,\n",
        "    seed=None,\n",
        "    name=None\n",
        ")\n",
        "print(random_tensor)"
      ],
      "metadata": {
        "colab": {
          "base_uri": "https://localhost:8080/"
        },
        "id": "RxCnBgZIPbr1",
        "outputId": "60cde0ff-f7b6-4326-c98a-f03be75f7a4c"
      },
      "execution_count": 93,
      "outputs": [
        {
          "output_type": "stream",
          "name": "stdout",
          "text": [
            "tf.Tensor([0.56499684], shape=(1,), dtype=float32)\n"
          ]
        }
      ]
    },
    {
      "cell_type": "code",
      "source": [
        "random_tensor=tf.random.uniform(\n",
        "    [2,2],\n",
        "    minval=0,\n",
        "    maxval=100,\n",
        "    dtype=tf.dtypes.int32,\n",
        "    seed=None,\n",
        "    name=None\n",
        ")\n",
        "print(random_tensor)"
      ],
      "metadata": {
        "colab": {
          "base_uri": "https://localhost:8080/"
        },
        "id": "1Wy-gVHiPtBD",
        "outputId": "3cf1e685-bd65-447a-90fb-6c6286549407"
      },
      "execution_count": 98,
      "outputs": [
        {
          "output_type": "stream",
          "name": "stdout",
          "text": [
            "tf.Tensor(\n",
            "[[26 84]\n",
            " [13 40]], shape=(2, 2), dtype=int32)\n"
          ]
        }
      ]
    },
    {
      "cell_type": "code",
      "source": [
        "random_tensor=tf.random.uniform(\n",
        "    [5,5],\n",
        "    minval=0,\n",
        "    maxval=1000,\n",
        "    dtype=tf.dtypes.int32,\n",
        "    seed=None,\n",
        "    name=None\n",
        ")\n",
        "print(random_tensor)"
      ],
      "metadata": {
        "colab": {
          "base_uri": "https://localhost:8080/"
        },
        "id": "Jmr-Xb3RRPr-",
        "outputId": "1e2a0198-acf0-4bfe-e47d-d67a28471edd"
      },
      "execution_count": 96,
      "outputs": [
        {
          "output_type": "stream",
          "name": "stdout",
          "text": [
            "tf.Tensor(\n",
            "[[496 325 831 556 989]\n",
            " [739 259 458 535 676]\n",
            " [834  47 821 652 525]\n",
            " [274 976 109 556 768]\n",
            " [372 863 663 649 241]], shape=(5, 5), dtype=int32)\n"
          ]
        }
      ]
    },
    {
      "cell_type": "code",
      "source": [],
      "metadata": {
        "id": "iQ_7g3VJRxgO"
      },
      "execution_count": null,
      "outputs": []
    },
    {
      "cell_type": "markdown",
      "source": [
        "# 12.RandomSeed"
      ],
      "metadata": {
        "id": "XGFvhy_RR_07"
      }
    },
    {
      "cell_type": "code",
      "source": [
        "# https://www.tensorflow.org/api_docs/python/tf/random/set_seed\n",
        "\n",
        "tf.random.set_seed(5)\n",
        "print(tf.random.uniform(shape=[3,],maxval=5,dtype=tf.int32,seed=10))\n",
        "print(tf.random.uniform(shape=[3,],maxval=5,dtype=tf.int32,seed=10))\n",
        "print(tf.random.uniform(shape=[3,],maxval=5,dtype=tf.int32,seed=10))\n",
        "print(tf.random.uniform(shape=[3,],maxval=5,dtype=tf.int32,seed=10))\n",
        "print(tf.random.uniform(shape=[3,],maxval=5,dtype=tf.int32,seed=10))\n",
        "\n",
        "\n",
        ""
      ],
      "metadata": {
        "colab": {
          "base_uri": "https://localhost:8080/"
        },
        "id": "zu_lw58BSEVP",
        "outputId": "bcf0557f-52b4-446c-fc58-feaca3cf2646"
      },
      "execution_count": 99,
      "outputs": [
        {
          "output_type": "stream",
          "name": "stdout",
          "text": [
            "tf.Tensor([4 3 1], shape=(3,), dtype=int32)\n",
            "tf.Tensor([4 3 2], shape=(3,), dtype=int32)\n",
            "tf.Tensor([1 1 1], shape=(3,), dtype=int32)\n",
            "tf.Tensor([1 3 3], shape=(3,), dtype=int32)\n",
            "tf.Tensor([4 2 2], shape=(3,), dtype=int32)\n"
          ]
        }
      ]
    },
    {
      "cell_type": "code",
      "source": [
        "tf.random.set_seed(5)\n",
        "print(tf.random.uniform(shape=[3,],maxval=5,dtype=tf.int32,seed=10))\n",
        "print(tf.random.uniform(shape=[3,],maxval=5,dtype=tf.int32,seed=10))\n",
        "print(tf.random.uniform(shape=[3,],maxval=5,dtype=tf.int32,seed=10))\n",
        "print(tf.random.uniform(shape=[3,],maxval=5,dtype=tf.int32,seed=10))\n",
        "print(tf.random.uniform(shape=[3,],maxval=5,dtype=tf.int32,seed=10))\n",
        "\n",
        ""
      ],
      "metadata": {
        "colab": {
          "base_uri": "https://localhost:8080/"
        },
        "id": "5B2yTNa7S_F4",
        "outputId": "75aa68e4-de09-4285-8218-b0c59251cd8a"
      },
      "execution_count": 100,
      "outputs": [
        {
          "output_type": "stream",
          "name": "stdout",
          "text": [
            "tf.Tensor([4 3 1], shape=(3,), dtype=int32)\n",
            "tf.Tensor([4 3 2], shape=(3,), dtype=int32)\n",
            "tf.Tensor([1 1 1], shape=(3,), dtype=int32)\n",
            "tf.Tensor([1 3 3], shape=(3,), dtype=int32)\n",
            "tf.Tensor([4 2 2], shape=(3,), dtype=int32)\n"
          ]
        }
      ]
    },
    {
      "cell_type": "markdown",
      "source": [
        "* See that since seed is set to 10  even the though the random method is used we are able to reproduce the same result"
      ],
      "metadata": {
        "id": "N1TGm7LqTCZB"
      }
    },
    {
      "cell_type": "code",
      "source": [
        "# change seed and see results change s\n",
        "\n",
        "tf.random.set_seed(5)\n",
        "print(tf.random.uniform(shape=[3,],maxval=5,dtype=tf.int32,seed=10))\n",
        "print(tf.random.uniform(shape=[3,],maxval=5,dtype=tf.int32,seed=10))\n",
        "print(tf.random.uniform(shape=[3,],maxval=5,dtype=tf.int32,seed=10))\n",
        "print(tf.random.uniform(shape=[3,],maxval=5,dtype=tf.int32,seed=10))\n",
        "print(tf.random.uniform(shape=[3,],maxval=5,dtype=tf.int32,seed=1)) # i changed this\n"
      ],
      "metadata": {
        "colab": {
          "base_uri": "https://localhost:8080/"
        },
        "id": "4GBv_Ni3TQKG",
        "outputId": "f72c7aef-ffcd-4f9d-85a5-960ef601c853"
      },
      "execution_count": 101,
      "outputs": [
        {
          "output_type": "stream",
          "name": "stdout",
          "text": [
            "tf.Tensor([4 3 1], shape=(3,), dtype=int32)\n",
            "tf.Tensor([4 3 2], shape=(3,), dtype=int32)\n",
            "tf.Tensor([1 1 1], shape=(3,), dtype=int32)\n",
            "tf.Tensor([1 3 3], shape=(3,), dtype=int32)\n",
            "tf.Tensor([4 1 3], shape=(3,), dtype=int32)\n"
          ]
        }
      ]
    },
    {
      "cell_type": "code",
      "source": [
        "# change seed and see results change s\n",
        "\n",
        "tf.random.set_seed(2) # now i changed this\n",
        "print(tf.random.uniform(shape=[3,],maxval=5,dtype=tf.int32,seed=10))\n",
        "print(tf.random.uniform(shape=[3,],maxval=5,dtype=tf.int32,seed=10))\n",
        "print(tf.random.uniform(shape=[3,],maxval=5,dtype=tf.int32,seed=10))\n",
        "print(tf.random.uniform(shape=[3,],maxval=5,dtype=tf.int32,seed=10))\n",
        "print(tf.random.uniform(shape=[3,],maxval=5,dtype=tf.int32,seed=1)) # i changed this"
      ],
      "metadata": {
        "colab": {
          "base_uri": "https://localhost:8080/"
        },
        "id": "zfCGDUi6Ta_o",
        "outputId": "3ed457bc-13fb-4742-942a-5a5ec7b40681"
      },
      "execution_count": 102,
      "outputs": [
        {
          "output_type": "stream",
          "name": "stdout",
          "text": [
            "tf.Tensor([1 2 1], shape=(3,), dtype=int32)\n",
            "tf.Tensor([2 2 2], shape=(3,), dtype=int32)\n",
            "tf.Tensor([4 0 1], shape=(3,), dtype=int32)\n",
            "tf.Tensor([3 2 1], shape=(3,), dtype=int32)\n",
            "tf.Tensor([4 2 0], shape=(3,), dtype=int32)\n"
          ]
        }
      ]
    },
    {
      "cell_type": "code",
      "source": [
        "# change seed and see results change s\n",
        "\n",
        "tf.random.set_seed(5) # now i change it back to 5 to see reproducebility\n",
        "print(tf.random.uniform(shape=[3,],maxval=5,dtype=tf.int32,seed=10))\n",
        "print(tf.random.uniform(shape=[3,],maxval=5,dtype=tf.int32,seed=10))\n",
        "print(tf.random.uniform(shape=[3,],maxval=5,dtype=tf.int32,seed=10))\n",
        "print(tf.random.uniform(shape=[3,],maxval=5,dtype=tf.int32,seed=10))\n",
        "print(tf.random.uniform(shape=[3,],maxval=5,dtype=tf.int32,seed=10))"
      ],
      "metadata": {
        "colab": {
          "base_uri": "https://localhost:8080/"
        },
        "id": "br2v4jzvTknW",
        "outputId": "f384201e-1a84-4426-e188-7b92e932d0af"
      },
      "execution_count": 104,
      "outputs": [
        {
          "output_type": "stream",
          "name": "stdout",
          "text": [
            "tf.Tensor([4 3 1], shape=(3,), dtype=int32)\n",
            "tf.Tensor([4 3 2], shape=(3,), dtype=int32)\n",
            "tf.Tensor([1 1 1], shape=(3,), dtype=int32)\n",
            "tf.Tensor([1 3 3], shape=(3,), dtype=int32)\n",
            "tf.Tensor([4 2 2], shape=(3,), dtype=int32)\n"
          ]
        }
      ]
    },
    {
      "cell_type": "markdown",
      "source": [
        "# 12. Tensor Index"
      ],
      "metadata": {
        "id": "XXwfJy_WT8Kf"
      }
    },
    {
      "cell_type": "markdown",
      "source": [
        "#### 1 D tensor Indexing"
      ],
      "metadata": {
        "id": "iI_AICEVXHus"
      }
    },
    {
      "cell_type": "code",
      "source": [
        "tensor_indexed= tf.constant([2,3,4,9,9,2,4,7])"
      ],
      "metadata": {
        "id": "T0M8PfyGT74i"
      },
      "execution_count": 105,
      "outputs": []
    },
    {
      "cell_type": "code",
      "source": [
        "print(tensor_indexed[3])"
      ],
      "metadata": {
        "colab": {
          "base_uri": "https://localhost:8080/"
        },
        "id": "WEUBVmk0TypH",
        "outputId": "a7e836e2-3b2e-4185-bb49-b302a43fbe0c"
      },
      "execution_count": 106,
      "outputs": [
        {
          "output_type": "stream",
          "name": "stdout",
          "text": [
            "tf.Tensor(9, shape=(), dtype=int32)\n"
          ]
        }
      ]
    },
    {
      "cell_type": "code",
      "source": [
        "#first  element\n",
        "print(tensor_indexed[0])"
      ],
      "metadata": {
        "colab": {
          "base_uri": "https://localhost:8080/"
        },
        "id": "ImDlYgj9UXh3",
        "outputId": "fee4278e-f6f6-4f67-b2c4-ce22106803ce"
      },
      "execution_count": 107,
      "outputs": [
        {
          "output_type": "stream",
          "name": "stdout",
          "text": [
            "tf.Tensor(2, shape=(), dtype=int32)\n"
          ]
        }
      ]
    },
    {
      "cell_type": "code",
      "source": [
        "#last element\n",
        "print(tensor_indexed[-1])"
      ],
      "metadata": {
        "colab": {
          "base_uri": "https://localhost:8080/"
        },
        "id": "Om1k8wbSUeCm",
        "outputId": "540801b9-6d1a-4320-e8bc-7e2aa6d86960"
      },
      "execution_count": 108,
      "outputs": [
        {
          "output_type": "stream",
          "name": "stdout",
          "text": [
            "tf.Tensor(7, shape=(), dtype=int32)\n"
          ]
        }
      ]
    },
    {
      "cell_type": "code",
      "source": [
        "# just get a segment of the tensor\n",
        "print(tensor_indexed[1:7])"
      ],
      "metadata": {
        "colab": {
          "base_uri": "https://localhost:8080/"
        },
        "id": "6r4qYxVfUg4_",
        "outputId": "1aac8720-f994-4751-dc29-018f30cf88d3"
      },
      "execution_count": 112,
      "outputs": [
        {
          "output_type": "stream",
          "name": "stdout",
          "text": [
            "tf.Tensor([3 4 9 9 2 4], shape=(6,), dtype=int32)\n"
          ]
        }
      ]
    },
    {
      "cell_type": "code",
      "source": [
        "# just get a segment of the tensor\n",
        "print(tensor_indexed[0:3])"
      ],
      "metadata": {
        "colab": {
          "base_uri": "https://localhost:8080/"
        },
        "id": "HtPEMTi3UzhZ",
        "outputId": "21ea0060-4c8f-4fde-ad29-e3ac1d081d2e"
      },
      "execution_count": 114,
      "outputs": [
        {
          "output_type": "stream",
          "name": "stdout",
          "text": [
            "tf.Tensor([2 3 4], shape=(3,), dtype=int32)\n"
          ]
        }
      ]
    },
    {
      "cell_type": "code",
      "source": [
        "# just get a segment of the tensor\n",
        "print(tensor_indexed[3:])"
      ],
      "metadata": {
        "colab": {
          "base_uri": "https://localhost:8080/"
        },
        "id": "8eYK8kylVO2Y",
        "outputId": "b696dcad-0003-4802-dc26-079ad4d70c1b"
      },
      "execution_count": 115,
      "outputs": [
        {
          "output_type": "stream",
          "name": "stdout",
          "text": [
            "tf.Tensor([9 9 2 4 7], shape=(5,), dtype=int32)\n"
          ]
        }
      ]
    },
    {
      "cell_type": "code",
      "source": [
        "print(tensor_indexed)\n",
        "print(tensor_indexed[0:5])\n",
        "print(tensor_indexed[:5:2])"
      ],
      "metadata": {
        "colab": {
          "base_uri": "https://localhost:8080/"
        },
        "id": "XZGhiWNfWHZu",
        "outputId": "c213a7ee-3d17-4b70-bd52-6aadb61e9ee2"
      },
      "execution_count": 121,
      "outputs": [
        {
          "output_type": "stream",
          "name": "stdout",
          "text": [
            "tf.Tensor([2 3 4 9 9 2 4 7], shape=(8,), dtype=int32)\n",
            "tf.Tensor([2 3 4 9 9], shape=(5,), dtype=int32)\n",
            "tf.Tensor([2 4 9], shape=(3,), dtype=int32)\n"
          ]
        }
      ]
    },
    {
      "cell_type": "code",
      "source": [
        "# just get a segment of the tensor\n",
        "print(tensor_indexed[:5:2])"
      ],
      "metadata": {
        "colab": {
          "base_uri": "https://localhost:8080/"
        },
        "id": "XMfEWA0MVlz_",
        "outputId": "d7962a0a-8041-4ce7-e8af-9df5b78e9c77"
      },
      "execution_count": 119,
      "outputs": [
        {
          "output_type": "stream",
          "name": "stdout",
          "text": [
            "tf.Tensor([2 4 9], shape=(3,), dtype=int32)\n"
          ]
        }
      ]
    },
    {
      "cell_type": "markdown",
      "source": [
        "#### 2D Tensor Indexing"
      ],
      "metadata": {
        "id": "TtZ2lpzjXR-7"
      }
    },
    {
      "cell_type": "code",
      "source": [
        "tensor_indexed=tf.constant([[2,3,4,5,6],\n",
        "                           [9,0,4,2,1],\n",
        "                           [0,0,1,7,0]])\n",
        "print(tensor_indexed)"
      ],
      "metadata": {
        "colab": {
          "base_uri": "https://localhost:8080/"
        },
        "id": "H78ScTP7XUW-",
        "outputId": "1c190b9d-cf55-4e24-dc25-da211ae2520e"
      },
      "execution_count": 137,
      "outputs": [
        {
          "output_type": "stream",
          "name": "stdout",
          "text": [
            "tf.Tensor(\n",
            "[[2 3 4 5 6]\n",
            " [9 0 4 2 1]\n",
            " [0 0 1 7 0]], shape=(3, 5), dtype=int32)\n"
          ]
        }
      ]
    },
    {
      "cell_type": "code",
      "source": [
        "print(tensor_indexed[1,0])\n",
        "print(tensor_indexed[2,2:])"
      ],
      "metadata": {
        "colab": {
          "base_uri": "https://localhost:8080/"
        },
        "id": "CZv2xfDdXpLR",
        "outputId": "5f75d72a-b9b9-4aee-bf30-813c0e3fab89"
      },
      "execution_count": 140,
      "outputs": [
        {
          "output_type": "stream",
          "name": "stdout",
          "text": [
            "tf.Tensor(9, shape=(), dtype=int32)\n",
            "tf.Tensor([1 7 0], shape=(3,), dtype=int32)\n",
            "tf.Tensor(\n",
            "[[6]\n",
            " [1]], shape=(2, 1), dtype=int32)\n",
            "tf.Tensor(\n",
            "[[6]\n",
            " [1]], shape=(2, 1), dtype=int32)\n"
          ]
        }
      ]
    },
    {
      "cell_type": "code",
      "source": [
        "print(tensor_indexed[0:-1,4:]) # same thing\n"
      ],
      "metadata": {
        "id": "98j8nduXbWIh",
        "outputId": "c0fdeb81-8520-46c4-bd67-275c789ce5a6",
        "colab": {
          "base_uri": "https://localhost:8080/"
        }
      },
      "execution_count": 142,
      "outputs": [
        {
          "output_type": "stream",
          "name": "stdout",
          "text": [
            "tf.Tensor(\n",
            "[[6]\n",
            " [1]], shape=(2, 1), dtype=int32)\n"
          ]
        }
      ]
    },
    {
      "cell_type": "code",
      "source": [
        "tensor_indexed[0:2,-1:]"
      ],
      "metadata": {
        "id": "zHi6s7bPdEVk",
        "outputId": "df26dc3a-4626-441d-d2e6-88fde3817e1c",
        "colab": {
          "base_uri": "https://localhost:8080/"
        }
      },
      "execution_count": 144,
      "outputs": [
        {
          "output_type": "execute_result",
          "data": {
            "text/plain": [
              "<tf.Tensor: shape=(2, 1), dtype=int32, numpy=\n",
              "array([[6],\n",
              "       [1]], dtype=int32)>"
            ]
          },
          "metadata": {},
          "execution_count": 144
        }
      ]
    },
    {
      "cell_type": "code",
      "source": [
        "print(tensor_indexed)"
      ],
      "metadata": {
        "id": "FWBpuR9ddZRW",
        "outputId": "bbda4356-d76b-402b-b458-a6103ae361ac",
        "colab": {
          "base_uri": "https://localhost:8080/"
        }
      },
      "execution_count": 145,
      "outputs": [
        {
          "output_type": "stream",
          "name": "stdout",
          "text": [
            "tf.Tensor(\n",
            "[[2 3 4 5 6]\n",
            " [9 0 4 2 1]\n",
            " [0 0 1 7 0]], shape=(3, 5), dtype=int32)\n"
          ]
        }
      ]
    },
    {
      "cell_type": "code",
      "source": [
        "tensor_indexed[:,-1]"
      ],
      "metadata": {
        "id": "RWR4UrjDdWQP",
        "outputId": "2c13f5f2-370d-4eec-ffec-96cbf35f1b3f",
        "colab": {
          "base_uri": "https://localhost:8080/"
        }
      },
      "execution_count": 147,
      "outputs": [
        {
          "output_type": "execute_result",
          "data": {
            "text/plain": [
              "<tf.Tensor: shape=(3,), dtype=int32, numpy=array([6, 1, 0], dtype=int32)>"
            ]
          },
          "metadata": {},
          "execution_count": 147
        }
      ]
    },
    {
      "cell_type": "code",
      "source": [
        "tensor_indexed[:1,:]"
      ],
      "metadata": {
        "id": "aZ1ouUh7duou",
        "outputId": "d35da4c2-47af-4f29-a973-26ceccd6cb5c",
        "colab": {
          "base_uri": "https://localhost:8080/"
        }
      },
      "execution_count": 149,
      "outputs": [
        {
          "output_type": "execute_result",
          "data": {
            "text/plain": [
              "<tf.Tensor: shape=(1, 5), dtype=int32, numpy=array([[2, 3, 4, 5, 6]], dtype=int32)>"
            ]
          },
          "metadata": {},
          "execution_count": 149
        }
      ]
    },
    {
      "cell_type": "code",
      "source": [
        "# 3 dots pull all columns\n",
        "tensor_indexed[0,...]"
      ],
      "metadata": {
        "id": "nfEqSaJQd24b",
        "outputId": "18496112-6817-4a71-8d14-3ef04ad8289c",
        "colab": {
          "base_uri": "https://localhost:8080/"
        }
      },
      "execution_count": 153,
      "outputs": [
        {
          "output_type": "execute_result",
          "data": {
            "text/plain": [
              "<tf.Tensor: shape=(5,), dtype=int32, numpy=array([2, 3, 4, 5, 6], dtype=int32)>"
            ]
          },
          "metadata": {},
          "execution_count": 153
        }
      ]
    },
    {
      "cell_type": "code",
      "source": [
        "# 3 dots pull all columns\n",
        "tensor_indexed[0:1,...]"
      ],
      "metadata": {
        "id": "2s_E0grLd4-h",
        "outputId": "420d18d7-3626-451f-f9e7-b3ad4846ab6a",
        "colab": {
          "base_uri": "https://localhost:8080/"
        }
      },
      "execution_count": 154,
      "outputs": [
        {
          "output_type": "execute_result",
          "data": {
            "text/plain": [
              "<tf.Tensor: shape=(1, 5), dtype=int32, numpy=array([[2, 3, 4, 5, 6]], dtype=int32)>"
            ]
          },
          "metadata": {},
          "execution_count": 154
        }
      ]
    },
    {
      "cell_type": "code",
      "source": [
        "print(tensor_indexed)"
      ],
      "metadata": {
        "id": "GWKe2Kh_eFpY",
        "outputId": "1a816372-798d-4ef6-efaa-ea3baf69757b",
        "colab": {
          "base_uri": "https://localhost:8080/"
        }
      },
      "execution_count": 155,
      "outputs": [
        {
          "output_type": "stream",
          "name": "stdout",
          "text": [
            "tf.Tensor(\n",
            "[[2 3 4 5 6]\n",
            " [9 0 4 2 1]\n",
            " [0 0 1 7 0]], shape=(3, 5), dtype=int32)\n"
          ]
        }
      ]
    },
    {
      "cell_type": "code",
      "source": [
        "tensor_indexed[0:2,2:-1]"
      ],
      "metadata": {
        "id": "_aLaarW-eY3_",
        "outputId": "69040c85-f772-4bff-c800-613ecd86fece",
        "colab": {
          "base_uri": "https://localhost:8080/"
        }
      },
      "execution_count": 156,
      "outputs": [
        {
          "output_type": "execute_result",
          "data": {
            "text/plain": [
              "<tf.Tensor: shape=(2, 2), dtype=int32, numpy=\n",
              "array([[4, 5],\n",
              "       [4, 2]], dtype=int32)>"
            ]
          },
          "metadata": {},
          "execution_count": 156
        }
      ]
    },
    {
      "cell_type": "markdown",
      "source": [
        "#### 3 D tensor Indexing"
      ],
      "metadata": {
        "id": "Lk_idwq-e1GF"
      }
    },
    {
      "cell_type": "code",
      "source": [
        "tensor_indexed = tf.constant(\n",
        "                              [[[1,2,0],\n",
        "                                [3,5,-1]],  #\n",
        "\n",
        "                              [[10,2,0],\n",
        "                               [1,0,2]],\n",
        "\n",
        "                              [[5,8,0],\n",
        "                               [2,7,0]],\n",
        "\n",
        "                              [[2,1,9],\n",
        "                               [4,-3,32]]]) # 4 stacked 3 d tensors"
      ],
      "metadata": {
        "id": "zvXwdKCwe2XQ"
      },
      "execution_count": 157,
      "outputs": []
    },
    {
      "cell_type": "code",
      "source": [
        "print(tensor_indexed) # 4 blocks of 3 d tensors"
      ],
      "metadata": {
        "id": "4e0u7JUPfLiv",
        "outputId": "9a412dd0-457f-44cc-afcc-0c77657fecba",
        "colab": {
          "base_uri": "https://localhost:8080/"
        }
      },
      "execution_count": 158,
      "outputs": [
        {
          "output_type": "stream",
          "name": "stdout",
          "text": [
            "tf.Tensor(\n",
            "[[[ 1  2  0]\n",
            "  [ 3  5 -1]]\n",
            "\n",
            " [[10  2  0]\n",
            "  [ 1  0  2]]\n",
            "\n",
            " [[ 5  8  0]\n",
            "  [ 2  7  0]]\n",
            "\n",
            " [[ 2  1  9]\n",
            "  [ 4 -3 32]]], shape=(4, 2, 3), dtype=int32)\n"
          ]
        }
      ]
    },
    {
      "cell_type": "code",
      "source": [
        "tensor_indexed[3,0,-1]\n",
        "# tensor_indexed[3,0,2] ## same thing"
      ],
      "metadata": {
        "id": "krDSkvpYe-st",
        "outputId": "d3a73ca8-df44-4e14-faf0-99cc274b6e07",
        "colab": {
          "base_uri": "https://localhost:8080/"
        }
      },
      "execution_count": 164,
      "outputs": [
        {
          "output_type": "execute_result",
          "data": {
            "text/plain": [
              "<tf.Tensor: shape=(), dtype=int32, numpy=9>"
            ]
          },
          "metadata": {},
          "execution_count": 164
        }
      ]
    },
    {
      "cell_type": "code",
      "source": [
        "tensor_indexed[3,0,:]"
      ],
      "metadata": {
        "id": "7aIxKvSke-pK",
        "outputId": "23ee8f26-427a-42b7-cd9e-46074a6cda0b",
        "colab": {
          "base_uri": "https://localhost:8080/"
        }
      },
      "execution_count": 168,
      "outputs": [
        {
          "output_type": "execute_result",
          "data": {
            "text/plain": [
              "<tf.Tensor: shape=(3,), dtype=int32, numpy=array([2, 1, 9], dtype=int32)>"
            ]
          },
          "metadata": {},
          "execution_count": 168
        }
      ]
    },
    {
      "cell_type": "code",
      "source": [
        "tensor_indexed[3,0:2,0:-1]"
      ],
      "metadata": {
        "id": "rImwOYS7e-m5",
        "outputId": "5a01190f-4462-49a2-f9da-09c23b8dc6c2",
        "colab": {
          "base_uri": "https://localhost:8080/"
        }
      },
      "execution_count": 170,
      "outputs": [
        {
          "output_type": "execute_result",
          "data": {
            "text/plain": [
              "<tf.Tensor: shape=(2, 2), dtype=int32, numpy=\n",
              "array([[ 2,  1],\n",
              "       [ 4, -3]], dtype=int32)>"
            ]
          },
          "metadata": {},
          "execution_count": 170
        }
      ]
    },
    {
      "cell_type": "code",
      "source": [
        "# from all block pick 3rd element\n",
        "tensor_indexed[...,:,-1]\n",
        "# tensor_indexed[:,:,-1]  ## same thing"
      ],
      "metadata": {
        "id": "Z2UgEzOre-kd",
        "outputId": "2785d113-9471-4516-af87-b8b33414fde4",
        "colab": {
          "base_uri": "https://localhost:8080/"
        }
      },
      "execution_count": 172,
      "outputs": [
        {
          "output_type": "execute_result",
          "data": {
            "text/plain": [
              "<tf.Tensor: shape=(4, 2), dtype=int32, numpy=\n",
              "array([[ 0, -1],\n",
              "       [ 0,  2],\n",
              "       [ 0,  0],\n",
              "       [ 9, 32]], dtype=int32)>"
            ]
          },
          "metadata": {},
          "execution_count": 172
        }
      ]
    },
    {
      "cell_type": "code",
      "source": [],
      "metadata": {
        "id": "oASwaVtBe-hj"
      },
      "execution_count": null,
      "outputs": []
    },
    {
      "cell_type": "markdown",
      "source": [
        "# 13. Tensorflow math"
      ],
      "metadata": {
        "id": "22wBiPdJho0t"
      }
    },
    {
      "cell_type": "markdown",
      "source": [
        "#### 1. Abs Method"
      ],
      "metadata": {
        "id": "Lq8R6KRzkU7y"
      }
    },
    {
      "cell_type": "markdown",
      "source": [
        "* Given a tensor of integer or floating-point values, this operation returns a tensor of the same type, where each element contains the absolute value of the corresponding element in the input."
      ],
      "metadata": {
        "id": "haYgLwTIjN2c"
      }
    },
    {
      "cell_type": "code",
      "source": [
        "# https://www.tensorflow.org/api_docs/python/tf/random/set_seed\n",
        "\n",
        "x=tf.constant(0.2)\n",
        "print(x)"
      ],
      "metadata": {
        "id": "YH53ReG5hyoH",
        "outputId": "23edbbd9-dc01-43e5-df40-d16659f30cd4",
        "colab": {
          "base_uri": "https://localhost:8080/"
        }
      },
      "execution_count": 175,
      "outputs": [
        {
          "output_type": "stream",
          "name": "stdout",
          "text": [
            "tf.Tensor(0.2, shape=(), dtype=float32)\n"
          ]
        }
      ]
    },
    {
      "cell_type": "code",
      "source": [
        "x=tf.constant(-0.2)\n",
        "print(x)\n"
      ],
      "metadata": {
        "id": "YDfjwn-tiF39",
        "outputId": "9fa1416f-c86b-4eb2-e37d-83493eacd6ca",
        "colab": {
          "base_uri": "https://localhost:8080/"
        }
      },
      "execution_count": 176,
      "outputs": [
        {
          "output_type": "stream",
          "name": "stdout",
          "text": [
            "tf.Tensor(-0.2, shape=(), dtype=float32)\n"
          ]
        }
      ]
    },
    {
      "cell_type": "code",
      "source": [
        "# using absolute method\n",
        "x= tf.constant([2,-1,3,0.1,0])\n",
        "print(tf.abs(x)) # it makes all -ve values positive"
      ],
      "metadata": {
        "id": "qjp456Z6iIsY",
        "outputId": "6b76940b-cc3f-4c1e-9a52-06c07c5ea135",
        "colab": {
          "base_uri": "https://localhost:8080/"
        }
      },
      "execution_count": 179,
      "outputs": [
        {
          "output_type": "stream",
          "name": "stdout",
          "text": [
            "tf.Tensor([2.  1.  3.  0.1 0. ], shape=(5,), dtype=float32)\n"
          ]
        }
      ]
    },
    {
      "cell_type": "code",
      "source": [
        "# using absolute method\n",
        "x= tf.constant([2,-1,3,-0.1,0])\n",
        "print(tf.abs(x)) # it makes all -ve values positive"
      ],
      "metadata": {
        "id": "X-p4qG0-igFo",
        "outputId": "6dee1ece-e866-4e9f-b682-02248e669b40",
        "colab": {
          "base_uri": "https://localhost:8080/"
        }
      },
      "execution_count": 180,
      "outputs": [
        {
          "output_type": "stream",
          "name": "stdout",
          "text": [
            "tf.Tensor([2.  1.  3.  0.1 0. ], shape=(5,), dtype=float32)\n"
          ]
        }
      ]
    },
    {
      "cell_type": "markdown",
      "source": [
        "Given a tensor x of complex numbers, this operation returns a tensor of type float32 or float64 that is the absolute value of each element in x. For a complex number a+bj\n",
        ", its absolute value is computed as sqrt(a^2 +b^2)\n"
      ],
      "metadata": {
        "id": "IBz09YuajG2F"
      }
    },
    {
      "cell_type": "code",
      "source": [
        "# using absolute method\n",
        "x= tf.constant(2+3j)\n",
        "print(tf.abs(x)) # it makes all -ve values positive"
      ],
      "metadata": {
        "id": "99GIlmJEixyY",
        "outputId": "35c40185-e644-4a10-e4ed-96581d98d91a",
        "colab": {
          "base_uri": "https://localhost:8080/"
        }
      },
      "execution_count": 181,
      "outputs": [
        {
          "output_type": "stream",
          "name": "stdout",
          "text": [
            "tf.Tensor(3.605551275463989, shape=(), dtype=float64)\n"
          ]
        }
      ]
    },
    {
      "cell_type": "code",
      "source": [
        "# checking if the correct abs value\n",
        "tf.sqrt(2.0**2+3.0**2)"
      ],
      "metadata": {
        "id": "WTRKqgv0jC9I",
        "outputId": "ed85630c-f4ea-40e5-d6c2-cebed9ec942c",
        "colab": {
          "base_uri": "https://localhost:8080/"
        }
      },
      "execution_count": 185,
      "outputs": [
        {
          "output_type": "execute_result",
          "data": {
            "text/plain": [
              "<tf.Tensor: shape=(), dtype=float32, numpy=3.605551242828369>"
            ]
          },
          "metadata": {},
          "execution_count": 185
        }
      ]
    },
    {
      "cell_type": "markdown",
      "source": [
        "* Answer is correct"
      ],
      "metadata": {
        "id": "X-yvVErKkN2D"
      }
    },
    {
      "cell_type": "markdown",
      "source": [
        "#### 2. Add Method"
      ],
      "metadata": {
        "id": "weqxmHeqkbsN"
      }
    },
    {
      "cell_type": "markdown",
      "source": [
        "* the function will add matrixes even when the shape is different"
      ],
      "metadata": {
        "id": "pshkvWKmlMpQ"
      }
    },
    {
      "cell_type": "code",
      "source": [
        "x=tf.constant([2,3,5,7])\n",
        "y=tf.constant([7,7,2,1])\n",
        "tf.add(x,y)"
      ],
      "metadata": {
        "id": "xuAObIF8kL4I",
        "outputId": "a348c199-8629-4f42-fa0c-428d437fe048",
        "colab": {
          "base_uri": "https://localhost:8080/"
        }
      },
      "execution_count": 187,
      "outputs": [
        {
          "output_type": "execute_result",
          "data": {
            "text/plain": [
              "<tf.Tensor: shape=(4,), dtype=int32, numpy=array([ 9, 10,  7,  8], dtype=int32)>"
            ]
          },
          "metadata": {},
          "execution_count": 187
        }
      ]
    },
    {
      "cell_type": "code",
      "source": [
        "x=tf.constant([2,3,5,7])\n",
        "y=tf.constant(1)\n",
        "tf.add(x,y)"
      ],
      "metadata": {
        "id": "y2XTyxfekQWH",
        "outputId": "83cd73b7-afb0-435d-a263-9686a232f75f",
        "colab": {
          "base_uri": "https://localhost:8080/"
        }
      },
      "execution_count": 188,
      "outputs": [
        {
          "output_type": "execute_result",
          "data": {
            "text/plain": [
              "<tf.Tensor: shape=(4,), dtype=int32, numpy=array([3, 4, 6, 8], dtype=int32)>"
            ]
          },
          "metadata": {},
          "execution_count": 188
        }
      ]
    },
    {
      "cell_type": "markdown",
      "source": [
        "#### 2.  Subtraction and Division example are present on documentation:  "
      ],
      "metadata": {
        "id": "blBmemuClqwD"
      }
    },
    {
      "cell_type": "code",
      "source": [
        "# https://www.tensorflow.org/api_docs/python/tf/math/add\n",
        "# https://www.tensorflow.org/api_docs/python/tf/math/subtract\n",
        "# https://www.tensorflow.org/api_docs/python/tf/math/multiply\n",
        "# https://www.tensorflow.org/api_docs/python/tf/math/divide\n"
      ],
      "metadata": {
        "id": "OLkw6tp8l_7X"
      },
      "execution_count": 189,
      "outputs": []
    },
    {
      "cell_type": "markdown",
      "source": [
        "#### 3. divide_no_nan Method"
      ],
      "metadata": {
        "id": "kfjsioUtkari"
      }
    },
    {
      "cell_type": "markdown",
      "source": [
        "*  Computes a safe divide which returns 0 if y (denominator) is zero."
      ],
      "metadata": {
        "id": "BPontuEkmvP5"
      }
    },
    {
      "cell_type": "code",
      "source": [
        "x=tf.constant([2,3,5,7])\n",
        "y=tf.constant(0)\n",
        "tf.math.divide_no_nan(x,y) # safety net to aviod infinity"
      ],
      "metadata": {
        "id": "rQrrhN52ms4K",
        "outputId": "4e8f6f13-1aac-4b91-9db5-779060f30963",
        "colab": {
          "base_uri": "https://localhost:8080/"
        }
      },
      "execution_count": 190,
      "outputs": [
        {
          "output_type": "execute_result",
          "data": {
            "text/plain": [
              "<tf.Tensor: shape=(4,), dtype=float64, numpy=array([0., 0., 0., 0.])>"
            ]
          },
          "metadata": {},
          "execution_count": 190
        }
      ]
    },
    {
      "cell_type": "code",
      "source": [
        "x=tf.constant([2,3,5,7])\n",
        "y=tf.constant([0,2,4,5])\n",
        "\n",
        "#observe  the out puts for this and see infinity\n",
        "print(tf.math.divide_no_nan(x,y))\n",
        "print(tf.math.divide(x,y))\n"
      ],
      "metadata": {
        "id": "99fxIYDom6sl",
        "outputId": "b18d6b95-8f2b-4200-e29d-92cb26a1935b",
        "colab": {
          "base_uri": "https://localhost:8080/"
        }
      },
      "execution_count": 193,
      "outputs": [
        {
          "output_type": "stream",
          "name": "stdout",
          "text": [
            "tf.Tensor([0.   1.5  1.25 1.4 ], shape=(4,), dtype=float64)\n",
            "tf.Tensor([ inf 1.5  1.25 1.4 ], shape=(4,), dtype=float64)\n"
          ]
        }
      ]
    },
    {
      "cell_type": "markdown",
      "source": [
        "#### 4. multiply Method"
      ],
      "metadata": {
        "id": "VzhNJJCzoR1S"
      }
    },
    {
      "cell_type": "code",
      "source": [
        "x=tf.constant([[2,3,4,5]])\n",
        "y=tf.constant([[1],\n",
        "              [3]])\n",
        "\n",
        "print(tf.math.multiply(x,y))"
      ],
      "metadata": {
        "id": "Dx8vvVkaoVVR",
        "outputId": "b04cf25d-4e0d-4d6b-881d-6c4ac299f15a",
        "colab": {
          "base_uri": "https://localhost:8080/"
        }
      },
      "execution_count": 195,
      "outputs": [
        {
          "output_type": "stream",
          "name": "stdout",
          "text": [
            "tf.Tensor(\n",
            "[[ 2  3  4  5]\n",
            " [ 6  9 12 15]], shape=(2, 4), dtype=int32)\n"
          ]
        }
      ]
    },
    {
      "cell_type": "markdown",
      "source": [
        "#### 5. maximum and minimum Method"
      ],
      "metadata": {
        "id": "fo5uc7jzoyny"
      }
    },
    {
      "cell_type": "code",
      "source": [
        "# https://www.tensorflow.org/api_docs/python/tf/math/maximum\n",
        "# https://www.tensorflow.org/api_docs/python/tf/math/minimum\n",
        "\n",
        "x = tf.constant([0., 0., 0., 0.])\n",
        "y = tf.constant([-2., 0., 2., 5.])\n",
        "tf.math.maximum(x, y) # return max after comparing element wise"
      ],
      "metadata": {
        "id": "B9n5vVlWo50O",
        "outputId": "b4591d2b-780d-4fe3-e80c-d83db09cf67a",
        "colab": {
          "base_uri": "https://localhost:8080/"
        }
      },
      "execution_count": 196,
      "outputs": [
        {
          "output_type": "execute_result",
          "data": {
            "text/plain": [
              "<tf.Tensor: shape=(4,), dtype=float32, numpy=array([0., 0., 2., 5.], dtype=float32)>"
            ]
          },
          "metadata": {},
          "execution_count": 196
        }
      ]
    },
    {
      "cell_type": "code",
      "source": [
        "x = tf.constant([-5., 0., 0., 0.])\n",
        "y = tf.constant([-3.])\n",
        "tf.math.maximum(x, y)"
      ],
      "metadata": {
        "id": "ft_J2GqCo5xy",
        "outputId": "bf076439-0558-4913-88de-df3c1c23c497",
        "colab": {
          "base_uri": "https://localhost:8080/"
        }
      },
      "execution_count": 197,
      "outputs": [
        {
          "output_type": "execute_result",
          "data": {
            "text/plain": [
              "<tf.Tensor: shape=(4,), dtype=float32, numpy=array([-3.,  0.,  0.,  0.], dtype=float32)>"
            ]
          },
          "metadata": {},
          "execution_count": 197
        }
      ]
    },
    {
      "cell_type": "code",
      "source": [
        "x = tf.constant([0., 0., 0., 0.])\n",
        "y = tf.constant([-5., -2., 0., 3.])\n",
        "tf.math.minimum(x, y)"
      ],
      "metadata": {
        "id": "6--znPsno5vF",
        "outputId": "9cef2ffa-8362-4648-a686-cf3a15665cb7",
        "colab": {
          "base_uri": "https://localhost:8080/"
        }
      },
      "execution_count": 198,
      "outputs": [
        {
          "output_type": "execute_result",
          "data": {
            "text/plain": [
              "<tf.Tensor: shape=(4,), dtype=float32, numpy=array([-5., -2.,  0.,  0.], dtype=float32)>"
            ]
          },
          "metadata": {},
          "execution_count": 198
        }
      ]
    },
    {
      "cell_type": "code",
      "source": [
        "x = tf.constant([-5., 0., 0., 0.])\n",
        "y = tf.constant([-3.])\n",
        "tf.math.minimum(x, y)"
      ],
      "metadata": {
        "id": "GXqaL4XmpaQY",
        "outputId": "fea827a8-5a12-4066-b240-46f2a988102f",
        "colab": {
          "base_uri": "https://localhost:8080/"
        }
      },
      "execution_count": 199,
      "outputs": [
        {
          "output_type": "execute_result",
          "data": {
            "text/plain": [
              "<tf.Tensor: shape=(4,), dtype=float32, numpy=array([-5., -3., -3., -3.], dtype=float32)>"
            ]
          },
          "metadata": {},
          "execution_count": 199
        }
      ]
    },
    {
      "cell_type": "markdown",
      "source": [
        "#### 5. Arg max  Method\n",
        "* Returns the index with the largest value across axes of a tensor."
      ],
      "metadata": {
        "id": "LQMvK9M5pxw8"
      }
    },
    {
      "cell_type": "code",
      "source": [
        "# https://www.tensorflow.org/api_docs/python/tf/math/argmax\n",
        "# https://www.tensorflow.org/api_docs/python/tf/math/argmin"
      ],
      "metadata": {
        "id": "6SdQBkvEp0ex"
      },
      "execution_count": 200,
      "outputs": []
    },
    {
      "cell_type": "code",
      "source": [
        "A = tf.constant([2,20,30,3,6])\n",
        "tf.math.argmax(A) # index 2 means 30"
      ],
      "metadata": {
        "id": "rbYMNEgCp6yp",
        "outputId": "d5367cf4-971b-4df0-c083-363208fc1631",
        "colab": {
          "base_uri": "https://localhost:8080/"
        }
      },
      "execution_count": 201,
      "outputs": [
        {
          "output_type": "execute_result",
          "data": {
            "text/plain": [
              "<tf.Tensor: shape=(), dtype=int64, numpy=2>"
            ]
          },
          "metadata": {},
          "execution_count": 201
        }
      ]
    },
    {
      "cell_type": "code",
      "source": [
        "A = tf.constant([2,20,30,3,6])\n",
        "tf.math.argmin(A) # index 0 means 0"
      ],
      "metadata": {
        "id": "3ELx3HoTqLRP",
        "outputId": "fe981a29-42ae-4383-9b5c-54db82cc2bce",
        "colab": {
          "base_uri": "https://localhost:8080/"
        }
      },
      "execution_count": 202,
      "outputs": [
        {
          "output_type": "execute_result",
          "data": {
            "text/plain": [
              "<tf.Tensor: shape=(), dtype=int64, numpy=0>"
            ]
          },
          "metadata": {},
          "execution_count": 202
        }
      ]
    },
    {
      "cell_type": "code",
      "source": [
        "# if you have 2 d tensors\n",
        "t_argmax = tf.constant(\n",
        "  [[3,1,9,6,5],\n",
        "  [0,1,7,3,2],\n",
        "  [1,5,1,2,0],\n",
        "  [7,3,0,9,0],]\n",
        ")\n",
        "tf.math.argmax(t_argmax) # indexes of hight elements are fetched"
      ],
      "metadata": {
        "id": "bGd-NXAIqW-5",
        "outputId": "a1bcbe50-b6f4-4671-ab5c-235edcfc15bf",
        "colab": {
          "base_uri": "https://localhost:8080/"
        }
      },
      "execution_count": 211,
      "outputs": [
        {
          "output_type": "execute_result",
          "data": {
            "text/plain": [
              "<tf.Tensor: shape=(5,), dtype=int64, numpy=array([3, 2, 0, 3, 0])>"
            ]
          },
          "metadata": {},
          "execution_count": 211
        }
      ]
    },
    {
      "cell_type": "code",
      "source": [
        "# if you have 2 d tensors\n",
        "t_argmin = tf.constant(\n",
        "  [[3,1,9,6,5],\n",
        "  [0,1,7,3,2],\n",
        "  [1,5,1,2,0],\n",
        "  [7,3,0,9,0],]\n",
        ")\n",
        "tf.math.argmin(t_argmin) # indexes of lowest elements are fetched"
      ],
      "metadata": {
        "id": "USfbb84jqmbZ",
        "outputId": "834bae89-be2a-431b-f879-4f46cab54506",
        "colab": {
          "base_uri": "https://localhost:8080/"
        }
      },
      "execution_count": 205,
      "outputs": [
        {
          "output_type": "execute_result",
          "data": {
            "text/plain": [
              "<tf.Tensor: shape=(5,), dtype=int64, numpy=array([1, 0, 3, 2, 2])>"
            ]
          },
          "metadata": {},
          "execution_count": 205
        }
      ]
    },
    {
      "cell_type": "code",
      "source": [
        "# if you have 2 d tensors change axis\n",
        "t_argmax = tf.constant([\n",
        "  [3,1,9,6,5],\n",
        "  [0,1,7,3,2],\n",
        "  [1,5,1,2,0],\n",
        "  [7,3,0,9,0],\n",
        "\n",
        "])\n",
        "tf.math.argmax(t_argmax,axis=1) # indexes of highest elements are fetched column wise"
      ],
      "metadata": {
        "id": "jZl83OPZq9DQ",
        "outputId": "9bae3df3-c098-4017-c422-cbd3fd656c23",
        "colab": {
          "base_uri": "https://localhost:8080/"
        }
      },
      "execution_count": 210,
      "outputs": [
        {
          "output_type": "execute_result",
          "data": {
            "text/plain": [
              "<tf.Tensor: shape=(4,), dtype=int64, numpy=array([2, 2, 1, 3])>"
            ]
          },
          "metadata": {},
          "execution_count": 210
        }
      ]
    },
    {
      "cell_type": "code",
      "source": [
        "# if you have 2 d tensors change axis\n",
        "t_argmin= tf.constant([\n",
        "  [3,1,9,6,5],\n",
        "  [0,1,7,3,2],\n",
        "  [1,5,1,2,0],\n",
        "  [7,3,0,9,0],\n",
        "\n",
        "])\n",
        "tf.math.argmin(t_argmin,axis=1) # indexes of highest elements are fetched column wise"
      ],
      "metadata": {
        "id": "BjulaPTDrVUi",
        "outputId": "bff15a4c-47f6-4727-de91-522a56387300",
        "colab": {
          "base_uri": "https://localhost:8080/"
        }
      },
      "execution_count": 212,
      "outputs": [
        {
          "output_type": "execute_result",
          "data": {
            "text/plain": [
              "<tf.Tensor: shape=(4,), dtype=int64, numpy=array([1, 0, 4, 2])>"
            ]
          },
          "metadata": {},
          "execution_count": 212
        }
      ]
    },
    {
      "cell_type": "markdown",
      "source": [
        "#### 6. Equal  Method"
      ],
      "metadata": {
        "id": "YhL28wGRs5UB"
      }
    },
    {
      "cell_type": "code",
      "source": [
        "# https://www.tensorflow.org/api_docs/python/tf/math/equal"
      ],
      "metadata": {
        "id": "7zjtYlBFs8M5"
      },
      "execution_count": null,
      "outputs": []
    }
  ]
}